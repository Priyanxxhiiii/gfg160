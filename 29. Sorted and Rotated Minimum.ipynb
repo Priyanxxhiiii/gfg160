{
 "cells": [
  {
   "cell_type": "markdown",
   "id": "41095526-a51f-4836-94b5-c844227cef54",
   "metadata": {},
   "source": [
    "# Sorted and Rotated Minimum\n"
   ]
  },
  {
   "cell_type": "markdown",
   "id": "eb44b485-ac9f-4f6c-b5f1-c5a3e794e171",
   "metadata": {},
   "source": [
    "A sorted array arr[] (may contain duplicates) is rotated at some unknown point, the task is to find the minimum element in it. \n",
    "\n",
    "Examples:\n",
    "\n",
    "#### Input: arr[] = [5, 6, 1, 2, 3, 4]\n",
    "#### Output: 1\n",
    "Explanation: 1 is the minimum element in the array.\n",
    "#### Input: arr[] = [3, 2, 2, 2]\n",
    "#### Output: 2\n",
    "Explanation: Here 2 is the minimum element.\n",
    "#### Input: arr[] = [4, 4, 4]\n",
    "#### Output: 4\n",
    "Explanation: Here 4 is the only minimum element.\n",
    "## Constraints:\n",
    "##### 1 ≤ arr.size() ≤ 10^6\n",
    "##### 1 ≤ arr[i] ≤ 10^9"
   ]
  },
  {
   "cell_type": "markdown",
   "id": "6f0f0a02-78e0-449f-bc31-69c75194f681",
   "metadata": {},
   "source": [
    "# Linear search - time taken: 0.96"
   ]
  },
  {
   "cell_type": "code",
   "execution_count": 1,
   "id": "d0375438-29b8-4007-9226-60cc2492c8d6",
   "metadata": {},
   "outputs": [
    {
     "name": "stdout",
     "output_type": "stream",
     "text": [
      "1\n",
      "2\n",
      "4\n"
     ]
    }
   ],
   "source": [
    "class Solution:\n",
    "    def findMin(self, arr):\n",
    "        #complete the function here\n",
    "        mini=arr[0]\n",
    "        for i in range(1,len(arr)):\n",
    "            if arr[i]<mini:\n",
    "                mini=arr[i]\n",
    "        return mini\n",
    "if __name__=='__main__':\n",
    "    sol=Solution()\n",
    "    print(sol.findMin([5, 6, 1, 2, 3, 4]))\n",
    "    print(sol.findMin([3, 2, 2, 2]))\n",
    "    print(sol.findMin([4, 4, 4]))\n",
    "    "
   ]
  },
  {
   "cell_type": "markdown",
   "id": "db910fab-1d0f-43d9-89e0-6903df0089a3",
   "metadata": {},
   "source": [
    "# Using Binary Search - time taken: 1.11"
   ]
  },
  {
   "cell_type": "code",
   "execution_count": 2,
   "id": "39c94b82-7d87-4803-b7b6-566fab050b44",
   "metadata": {},
   "outputs": [
    {
     "name": "stdout",
     "output_type": "stream",
     "text": [
      "1\n",
      "2\n",
      "4\n"
     ]
    }
   ],
   "source": [
    "def findMin(arr):\n",
    "        #complete the function here\n",
    "        low=0\n",
    "        high=len(arr)-1\n",
    "        while low<high:\n",
    "            if arr[low]<arr[high]:\n",
    "                return arr[low]\n",
    "            mid=(low+high)//2\n",
    "            if arr[mid]>arr[high]:\n",
    "                low=mid+1\n",
    "            else:\n",
    "                high=mid\n",
    "        return arr[low]\n",
    "print(findMin([5, 6, 1, 2, 3, 4]))\n",
    "print(findMin([3, 2, 2, 2]))\n",
    "print(findMin([4, 4, 4]))\n"
   ]
  }
 ],
 "metadata": {
  "kernelspec": {
   "display_name": "Python 3 (ipykernel)",
   "language": "python",
   "name": "python3"
  },
  "language_info": {
   "codemirror_mode": {
    "name": "ipython",
    "version": 3
   },
   "file_extension": ".py",
   "mimetype": "text/x-python",
   "name": "python",
   "nbconvert_exporter": "python",
   "pygments_lexer": "ipython3",
   "version": "3.12.4"
  }
 },
 "nbformat": 4,
 "nbformat_minor": 5
}

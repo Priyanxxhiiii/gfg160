{
 "cells": [
  {
   "cell_type": "markdown",
   "id": "e7e660b7-5695-4333-aa63-0bf0f2960012",
   "metadata": {},
   "source": [
    "# Intersection of Two arrays with Duplicate Elements\n"
   ]
  },
  {
   "cell_type": "markdown",
   "id": "e1289a7d-1f84-45a3-b9d8-47cedd70eaa5",
   "metadata": {},
   "source": [
    "Given two integer arrays a[] and b[], you have to find the intersection of the two arrays. Intersection of two arrays is said to be elements that are common in both arrays. The intersection should not have duplicate elements and the result should contain items in any order.\n",
    "\n",
    "Note: The driver code will sort the resulting array in increasing order before printing.\n",
    "\n",
    "Examples:\n",
    "\n",
    "##### Input: a[] = [1, 2, 1, 3, 1], b[] = [3, 1, 3, 4, 1]\n",
    "##### Output: [1, 3]\n",
    "Explanation: 1 and 3 are the only common elements and we need to print only one occurrence of common elements.\n",
    "##### Input: a[] = [1, 1, 1], b[] = [1, 1, 1, 1, 1]\n",
    "##### Output: [1]\n",
    "Explanation: 1 is the only common element present in both the arrays.\n",
    "##### Input: a[] = [1, 2, 3], b[] = [4, 5, 6]\n",
    "##### Output: []\n",
    "Explanation: No common element in both the arrays.\n",
    "## Constraints:\n",
    "##### 1 ≤ a.size(), b.size() ≤ 10^5\n",
    "##### 1 ≤ a[i], b[i] ≤ 10^5"
   ]
  },
  {
   "cell_type": "code",
   "execution_count": 1,
   "id": "d1766f8e-5612-4f73-8d8c-46748079d9ac",
   "metadata": {},
   "outputs": [
    {
     "name": "stdout",
     "output_type": "stream",
     "text": [
      "[1, 3]\n",
      "[1]\n",
      "[]\n"
     ]
    }
   ],
   "source": [
    "class Solution:\n",
    "    def intersectionWithDuplicates(self, a, b):\n",
    "        # code here\n",
    "        intersection=set(a)&set(b)\n",
    "        return list(intersection)\n",
    "sol=Solution()\n",
    "print(sol.intersectionWithDuplicates(a = [1, 2, 1, 3, 1], b = [3, 1, 3, 4, 1]))\n",
    "print(sol.intersectionWithDuplicates(a = [1, 1, 1], b = [1, 1, 1, 1, 1]))\n",
    "print(sol.intersectionWithDuplicates(a = [1, 2, 3], b = [4, 5, 6]))"
   ]
  },
  {
   "cell_type": "code",
   "execution_count": 2,
   "id": "769cb447-78c2-4476-9ead-da349ce976bd",
   "metadata": {},
   "outputs": [
    {
     "name": "stdout",
     "output_type": "stream",
     "text": [
      "[1, 3]\n",
      "[1]\n",
      "[]\n"
     ]
    }
   ],
   "source": [
    "class Solution:\n",
    "    def intersectionWithDuplicates(self, a, b):\n",
    "        # code here\n",
    "        a=set(a)\n",
    "        res=[]\n",
    "        for num in b:\n",
    "            if num in a:\n",
    "                res.append(num)\n",
    "                a.remove(num)\n",
    "        return sorted(res)\n",
    "sol=Solution()\n",
    "print(sol.intersectionWithDuplicates(a = [1, 2, 1, 3, 1], b = [3, 1, 3, 4, 1]))\n",
    "print(sol.intersectionWithDuplicates(a = [1, 1, 1], b = [1, 1, 1, 1, 1]))\n",
    "print(sol.intersectionWithDuplicates(a = [1, 2, 3], b = [4, 5, 6]))"
   ]
  },
  {
   "cell_type": "code",
   "execution_count": 3,
   "id": "52cb69d9-faa8-4813-9480-41b8ce52402e",
   "metadata": {},
   "outputs": [
    {
     "name": "stdout",
     "output_type": "stream",
     "text": [
      "[1, 3]\n",
      "[1]\n",
      "[]\n"
     ]
    }
   ],
   "source": [
    "class Solution:\n",
    "    def intersectionWithDuplicates(self, a, b):\n",
    "        # code here\n",
    "        res=[]\n",
    "        for i in a:\n",
    "            for j in b:\n",
    "                if i==j and i not in res:\n",
    "                    res.append(i)\n",
    "        return res\n",
    "sol=Solution()\n",
    "print(sol.intersectionWithDuplicates(a = [1, 2, 1, 3, 1], b = [3, 1, 3, 4, 1]))\n",
    "print(sol.intersectionWithDuplicates(a = [1, 1, 1], b = [1, 1, 1, 1, 1]))\n",
    "print(sol.intersectionWithDuplicates(a = [1, 2, 3], b = [4, 5, 6]))"
   ]
  }
 ],
 "metadata": {
  "kernelspec": {
   "display_name": "Python 3 (ipykernel)",
   "language": "python",
   "name": "python3"
  },
  "language_info": {
   "codemirror_mode": {
    "name": "ipython",
    "version": 3
   },
   "file_extension": ".py",
   "mimetype": "text/x-python",
   "name": "python",
   "nbconvert_exporter": "python",
   "pygments_lexer": "ipython3",
   "version": "3.12.4"
  }
 },
 "nbformat": 4,
 "nbformat_minor": 5
}

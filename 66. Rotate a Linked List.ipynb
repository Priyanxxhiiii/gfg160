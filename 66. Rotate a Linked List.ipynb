{
 "cells": [
  {
   "cell_type": "markdown",
   "id": "1bc5885a-e186-4f36-af24-5894e02e0efd",
   "metadata": {},
   "source": [
    "# Rotate a Linked List\n"
   ]
  },
  {
   "cell_type": "markdown",
   "id": "07069c3b-7285-4b15-a833-a605e9d7eaae",
   "metadata": {},
   "source": [
    "Given the head of a singly linked list, your task is to left rotate the linked list k times.\n",
    "\n",
    "Examples:\n",
    "\n",
    "##### Input: head = 10 -> 20 -> 30 -> 40 -> 50, k = 4\n",
    "##### Output: 50 -> 10 -> 20 -> 30 -> 40\n",
    "Explanation:\n",
    "\n",
    "Rotate 1: 20 -> 30 -> 40 -> 50 -> 10\n",
    "\n",
    "Rotate 2: 30 -> 40 -> 50 -> 10 -> 20\n",
    "\n",
    "Rotate 3: 40 -> 50 -> 10 -> 20 -> 30\n",
    "\n",
    "Rotate 4: 50 -> 10 -> 20 -> 30 -> 40\n",
    "\n",
    "##### Input: head = 10 -> 20 -> 30 -> 40 , k = 6\n",
    "##### Output: 30 -> 40 -> 10 -> 20 \n",
    " \n",
    "## Constraints:\n",
    "\n",
    "##### 1 <= number of nodes <= 10^5\n",
    "##### 0 <= k <= 10^9\n",
    "##### 0 <= data of node <= 10^9"
   ]
  },
  {
   "cell_type": "code",
   "execution_count": 1,
   "id": "25df4cb5-b69b-4440-8c18-343abb7830c5",
   "metadata": {},
   "outputs": [
    {
     "name": "stdout",
     "output_type": "stream",
     "text": [
      "50 -> 10 -> 20 -> 30 -> 40\n",
      "30 -> 40 -> 10 -> 20\n"
     ]
    }
   ],
   "source": [
    "# Your task is to complete this function\n",
    "class Node:\n",
    "    def __init__(self, data):\n",
    "        self.data = data\n",
    "        self.next = None\n",
    "class Solution:\n",
    "    #Function to rotate a linked list.\n",
    "    def rotate(self, head, k):\n",
    "        # code here\n",
    "        if k==0 or head is None:\n",
    "            return head\n",
    "        \n",
    "        for i in range(k):\n",
    "            curr=head\n",
    "            while curr.next is not None:\n",
    "                curr=curr.next\n",
    "            curr.next=head\n",
    "            curr=curr.next\n",
    "            head=head.next\n",
    "            curr.next=None\n",
    "        return head\n",
    "        \n",
    "if __name__==\"__main__\":\n",
    "    def createLinkedList(values):\n",
    "        if not values:\n",
    "            return None\n",
    "        head = Node(values[0])\n",
    "        current = head\n",
    "        for value in values[1:]:\n",
    "            current.next = Node(value)\n",
    "            current = current.next\n",
    "        return head\n",
    "    \n",
    "    \n",
    "    def printLinkedList(head):\n",
    "        node = head\n",
    "        while node is not None:\n",
    "            print(node.data, end=\"\")\n",
    "            if node.next is not None:\n",
    "                print(\" -> \", end=\"\")\n",
    "            node = node.next\n",
    "        print() \n",
    "        \n",
    "    sol=Solution()\n",
    "    printLinkedList(sol.rotate(createLinkedList([10, 20, 30, 40, 50]), 4))\n",
    "    printLinkedList(sol.rotate(createLinkedList([10, 20, 30, 40]), 6))"
   ]
  },
  {
   "cell_type": "code",
   "execution_count": 2,
   "id": "161d2d6f-09e5-4749-ba27-ae3b43189795",
   "metadata": {},
   "outputs": [
    {
     "name": "stdout",
     "output_type": "stream",
     "text": [
      "50 -> 10 -> 20 -> 30 -> 40\n",
      "30 -> 40 -> 10 -> 20\n"
     ]
    }
   ],
   "source": [
    "# Your task is to complete this function\n",
    "class Node:\n",
    "    def __init__(self, data):\n",
    "        self.data = data\n",
    "        self.next = None\n",
    "\n",
    "class Solution:\n",
    "    \n",
    "    #Function to rotate a linked list.\n",
    "    def rotate(self, head, k):\n",
    "        # code here\n",
    "        if k==0 or head is None:\n",
    "            return head\n",
    "        curr=head\n",
    "        length=1\n",
    "\n",
    "        while curr.next is not None:\n",
    "            curr=curr.next\n",
    "            length+=1\n",
    "        k%=length\n",
    "\n",
    "        if k==0:\n",
    "            curr.next=None\n",
    "            return head\n",
    "        curr.next=head\n",
    "        \n",
    "        for i in range(k):\n",
    "            curr=curr.next\n",
    "            \n",
    "        newHead=curr.next\n",
    "        \n",
    "        curr.next=None\n",
    "        return newHead\n",
    "        return head\n",
    "        \n",
    "if __name__==\"__main__\":\n",
    "    def createLinkedList(values):\n",
    "        if not values:\n",
    "            return None\n",
    "        head = Node(values[0])\n",
    "        current = head\n",
    "        for value in values[1:]:\n",
    "            current.next = Node(value)\n",
    "            current = current.next\n",
    "        return head\n",
    "    \n",
    "    \n",
    "    def printLinkedList(head):\n",
    "        node = head\n",
    "        while node is not None:\n",
    "            print(node.data, end=\"\")\n",
    "            if node.next is not None:\n",
    "                print(\" -> \", end=\"\")\n",
    "            node = node.next\n",
    "        print() \n",
    "        \n",
    "    sol=Solution()\n",
    "    printLinkedList(sol.rotate(createLinkedList([10, 20, 30, 40, 50]), 4))\n",
    "    printLinkedList(sol.rotate(createLinkedList([10, 20, 30, 40]), 6))"
   ]
  }
 ],
 "metadata": {
  "kernelspec": {
   "display_name": "Python 3 (ipykernel)",
   "language": "python",
   "name": "python3"
  },
  "language_info": {
   "codemirror_mode": {
    "name": "ipython",
    "version": 3
   },
   "file_extension": ".py",
   "mimetype": "text/x-python",
   "name": "python",
   "nbconvert_exporter": "python",
   "pygments_lexer": "ipython3",
   "version": "3.12.4"
  }
 },
 "nbformat": 4,
 "nbformat_minor": 5
}

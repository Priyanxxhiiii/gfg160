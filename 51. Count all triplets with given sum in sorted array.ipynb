{
 "cells": [
  {
   "cell_type": "markdown",
   "id": "c40678be-8805-4cc4-ac52-b3c7f9c4e113",
   "metadata": {},
   "source": [
    "# Count all triplets with given sum in sorted array"
   ]
  },
  {
   "cell_type": "markdown",
   "id": "e5748374-c67d-4e23-9e60-40167cfb552d",
   "metadata": {},
   "source": [
    "Given a sorted array arr[] and a target value, the task is to count triplets (i, j, k) of valid indices, such that arr[i] + arr[j] + arr[k] = target and i < j < k.\n",
    "\n",
    "Examples:\n",
    "\n",
    "##### Input: arr[] = [-3, -1, -1, 0, 1, 2], target = -2\n",
    "##### Output: 4\n",
    "Explanation: Two triplets that add up to -2 are:\n",
    "arr[0] + arr[3] + arr[4] = (-3) + 0 + (1) = -2\n",
    "\n",
    "arr[0] + arr[1] + arr[5] = (-3) + (-1) + (2) = -2\n",
    "\n",
    "arr[0] + arr[2] + arr[5] = (-3) + (-1) + (2) = -2\n",
    "\n",
    "arr[1] + arr[2] + arr[3] = (-1) + (-1) + (0) = -2\n",
    "\n",
    "##### Input: arr[] = [-2, 0, 1, 1, 5], target = 1\n",
    "##### Output: 0\n",
    "Explanation: There is no triplet whose sum is equal to 1. \n",
    "## Constraints:\n",
    "##### 3 ≤ arr.size() ≤ 10^3\n",
    "##### -10^5 ≤ arr[i], target ≤ 10^5"
   ]
  },
  {
   "cell_type": "code",
   "execution_count": 2,
   "id": "de6ba794-0945-4573-81f0-b8d5f77a6fe1",
   "metadata": {},
   "outputs": [
    {
     "name": "stdout",
     "output_type": "stream",
     "text": [
      "4\n",
      "0\n",
      "6\n"
     ]
    }
   ],
   "source": [
    "class Solution:\n",
    "    def countTriplets(self, arr, target):\n",
    "        # code here\n",
    "        count=0\n",
    "        for i in range(len(arr)):\n",
    "            for j in range(i+1,len(arr)):\n",
    "                for k in range(j+1,len(arr)):\n",
    "                    if arr[i]+arr[j]+arr[k]==target:\n",
    "                        count+=1\n",
    "        return count\n",
    "sol=Solution()\n",
    "print(sol.countTriplets(arr = [-3, -1, -1, 0, 1, 2], target = -2))\n",
    "print(sol.countTriplets(arr = [-2, 0, 1, 1, 5], target = 1))\n",
    "print(sol.countTriplets(arr = [-15, -7, -5, -4, 0, 1, 5, 7, 8, 20, 20],target = 1))"
   ]
  },
  {
   "cell_type": "code",
   "execution_count": 1,
   "id": "91c08c9e-ae68-4e3b-a89d-c264af6972d6",
   "metadata": {},
   "outputs": [
    {
     "name": "stdout",
     "output_type": "stream",
     "text": [
      "4\n",
      "0\n",
      "6\n"
     ]
    }
   ],
   "source": [
    "\n",
    "class Solution:\n",
    "    def countTriplets(self, arr, target):\n",
    "        # code here\n",
    "        count=0\n",
    "        n=len(arr)\n",
    "        for i in range(n-2):\n",
    "            j=i+1\n",
    "            k=n-1\n",
    "            while(j<k):\n",
    "                sum=arr[i]+arr[j]+arr[k]\n",
    "                if sum>target:\n",
    "                    k-=1\n",
    "                elif sum<target:\n",
    "                    j+=1\n",
    "                else:\n",
    "                    p=arr[j]\n",
    "                    q=arr[k]\n",
    "                    cnt1=cnt2=0\n",
    "                    while j<=k and arr[j]==p:\n",
    "                        j+=1\n",
    "                        cnt1+=1\n",
    "                    while j<=k and arr[k]==q:\n",
    "                        k-=1\n",
    "                        cnt2+=1\n",
    "                    if p==q:\n",
    "                        count+=(cnt1*(cnt1-1))//2\n",
    "                    else:\n",
    "                        count+=(cnt1*cnt2)\n",
    "        return count\n",
    "            \n",
    "sol=Solution()\n",
    "print(sol.countTriplets(arr = [-3, -1, -1, 0, 1, 2], target = -2))\n",
    "print(sol.countTriplets(arr = [-2, 0, 1, 1, 5], target = 1))\n",
    "print(sol.countTriplets(arr = [-15, -7, -5, -4, 0, 1, 5, 7, 8, 20, 20],target = 1))"
   ]
  }
 ],
 "metadata": {
  "kernelspec": {
   "display_name": "Python 3 (ipykernel)",
   "language": "python",
   "name": "python3"
  },
  "language_info": {
   "codemirror_mode": {
    "name": "ipython",
    "version": 3
   },
   "file_extension": ".py",
   "mimetype": "text/x-python",
   "name": "python",
   "nbconvert_exporter": "python",
   "pygments_lexer": "ipython3",
   "version": "3.12.4"
  }
 },
 "nbformat": 4,
 "nbformat_minor": 5
}

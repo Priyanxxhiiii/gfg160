{
 "cells": [
  {
   "cell_type": "markdown",
   "id": "c89aa360-b2de-4c56-bff2-1e719f83bf9f",
   "metadata": {},
   "source": [
    "# Equilibrium Point\n"
   ]
  },
  {
   "cell_type": "markdown",
   "id": "fbd2e983-667a-45cb-ac7e-557e21e312d7",
   "metadata": {},
   "source": [
    "Given an array arr[] of non-negative numbers. The task is to find the first equilibrium point in the array.\n",
    "\n",
    "The equilibrium point in an array is an index (0-based indexing) such that the sum of all elements before that index is the same as the sum of elements after it. Return -1 if no such point exists. \n",
    "\n",
    "Examples:\n",
    "\n",
    "##### Input: arr[] = [1, 2, 0, 3]\n",
    "##### Output: 2 \n",
    "Explanation: The sum of left of index 2 is 1 + 2 = 3 and sum on right of index 2 is 0 + 3 = 3.\n",
    "##### Input: arr[] = [1, 1, 1, 1]\n",
    "##### Output: -1\n",
    "Explanation: There is no equilibrium index in the array.\n",
    "##### Input: arr[] = [-7, 1, 5, 2, -4, 3, 0]\n",
    "##### Output: 3\n",
    "Explanation: The sum of left of index 3 is -7 + 1 + 5 = -1 and sum on right of index 3 is -4 + 3 + 0 = -1.\n",
    "## Constraints:\n",
    "##### 3 <= arr.size() <= 10^6\n",
    "##### 0 <= arr[i] <= 10^9"
   ]
  },
  {
   "cell_type": "markdown",
   "id": "680f39b5-aeb5-48da-b244-1d54b7f5c0b7",
   "metadata": {},
   "source": [
    "# Brute force"
   ]
  },
  {
   "cell_type": "code",
   "execution_count": 1,
   "id": "38eae16c-7518-41a6-b52b-e4d3e4084e4b",
   "metadata": {},
   "outputs": [
    {
     "name": "stdout",
     "output_type": "stream",
     "text": [
      "2\n",
      "-1\n",
      "3\n"
     ]
    }
   ],
   "source": [
    "class Solution:\n",
    "    #Function to find equilibrium point in the array.\n",
    "    def findEquilibrium(self, arr):\n",
    "        # code here\n",
    "        lsum=0\n",
    "        rsum=0\n",
    "        for i in range(1,len(arr)):\n",
    "            for j in range(i):\n",
    "                lsum+=arr[j]\n",
    "            for k in range(i+1,len(arr)):\n",
    "                rsum+=arr[k]\n",
    "            if lsum==rsum:\n",
    "                return i\n",
    "            lsum=rsum=0\n",
    "        return -1\n",
    "sol=Solution()\n",
    "print(sol.findEquilibrium(arr = [1, 2, 0, 3]))\n",
    "print(sol.findEquilibrium(arr = [1, 1, 1, 1]))\n",
    "print(sol.findEquilibrium(arr = [-7, 1, 5, 2, -4, 3, 0]))"
   ]
  },
  {
   "cell_type": "markdown",
   "id": "fe218ca8-1854-4fc5-b003-5092d86d404a",
   "metadata": {},
   "source": [
    "# In single pass"
   ]
  },
  {
   "cell_type": "code",
   "execution_count": 2,
   "id": "231dff91-03c5-48ab-b248-47b8f80ba65e",
   "metadata": {},
   "outputs": [
    {
     "name": "stdout",
     "output_type": "stream",
     "text": [
      "2\n",
      "-1\n",
      "3\n"
     ]
    }
   ],
   "source": [
    "class Solution:\n",
    "    #Function to find equilibrium point in the array.\n",
    "    def findEquilibrium(self, arr):\n",
    "        # code here\n",
    "        totalsum=sum(arr)\n",
    "        leftsum=0\n",
    "        for i in range(len(arr)):\n",
    "            rightsum=totalsum-leftsum-arr[i]\n",
    "            if leftsum==rightsum:\n",
    "                return i\n",
    "            leftsum+=arr[i]\n",
    "        return -1\n",
    "sol=Solution()\n",
    "print(sol.findEquilibrium(arr = [1, 2, 0, 3]))\n",
    "print(sol.findEquilibrium(arr = [1, 1, 1, 1]))\n",
    "print(sol.findEquilibrium(arr = [-7, 1, 5, 2, -4, 3, 0]))"
   ]
  },
  {
   "cell_type": "markdown",
   "id": "9d481733-cba4-4114-ada7-3a108517da8b",
   "metadata": {},
   "source": [
    "# Using preSum"
   ]
  },
  {
   "cell_type": "code",
   "execution_count": 3,
   "id": "1a4a72a1-acd1-478f-b076-4daf8a5edcb0",
   "metadata": {},
   "outputs": [
    {
     "name": "stdout",
     "output_type": "stream",
     "text": [
      "2\n",
      "-1\n",
      "3\n"
     ]
    }
   ],
   "source": [
    "class Solution:\n",
    "    #Function to find equilibrium point in the array.\n",
    "    def findEquilibrium(self, arr):\n",
    "        # code here\n",
    "        n=len(arr)\n",
    "        if n==1:\n",
    "            return 0\n",
    "        presum=[0]*n\n",
    "        presum[0]=arr[0]\n",
    "        for i in range(1,n):\n",
    "            presum[i]=presum[i-1]+arr[i]\n",
    "        for i in range(1,n-1):\n",
    "            lsum=presum[i-1]\n",
    "            rsum=presum[n-1]-presum[i]\n",
    "            if lsum==rsum:\n",
    "                return i\n",
    "        return -1\n",
    "sol=Solution()\n",
    "print(sol.findEquilibrium(arr = [1, 2, 0, 3]))\n",
    "print(sol.findEquilibrium(arr = [1, 1, 1, 1]))\n",
    "print(sol.findEquilibrium(arr = [-7, 1, 5, 2, -4, 3, 0]))"
   ]
  }
 ],
 "metadata": {
  "kernelspec": {
   "display_name": "Python 3 (ipykernel)",
   "language": "python",
   "name": "python3"
  },
  "language_info": {
   "codemirror_mode": {
    "name": "ipython",
    "version": 3
   },
   "file_extension": ".py",
   "mimetype": "text/x-python",
   "name": "python",
   "nbconvert_exporter": "python",
   "pygments_lexer": "ipython3",
   "version": "3.12.4"
  }
 },
 "nbformat": 4,
 "nbformat_minor": 5
}

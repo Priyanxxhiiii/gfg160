{
 "cells": [
  {
   "cell_type": "markdown",
   "id": "6bd8486a-b981-4223-a0e8-6d0dfe55b6dd",
   "metadata": {},
   "source": [
    "# Allocate Minimum Pages\n"
   ]
  },
  {
   "cell_type": "markdown",
   "id": "3339859a-1d85-4289-9591-ff2ee11a0d8a",
   "metadata": {},
   "source": [
    "You are given an array arr[] of integers, where each element arr[i] represents the number of pages in the ith book. You also have an integer k representing the number of students. The task is to allocate books to each student such that:\n",
    "\n",
    "Each student receives atleast one book.\n",
    "Each student is assigned a contiguous sequence of books.\n",
    "No book is assigned to more than one student.\n",
    "The objective is to minimize the maximum number of pages assigned to any student. In other words, out of all possible allocations, find the arrangement where the student who receives the most pages still has the smallest possible maximum.\n",
    "\n",
    "Note: Return -1 if a valid assignment is not possible, and allotment should be in contiguous order (see the explanation for better understanding).\n",
    "\n",
    "Examples:\n",
    "\n",
    "##### Input: arr[] = [12, 34, 67, 90], k = 2\n",
    "##### Output: 113\n",
    "Explanation: Allocation can be done in following ways:\n",
    "[12] and [34, 67, 90] Maximum Pages = 191\n",
    "[12, 34] and [67, 90] Maximum Pages = 157\n",
    "[12, 34, 67] and [90] Maximum Pages = 113.\n",
    "Therefore, the minimum of these cases is 113, which is selected as the output.\n",
    "##### Input: arr[] = [15, 17, 20], k = 5\n",
    "##### Output: -1\n",
    "Explanation: Allocation can not be done.\n",
    "##### Input: arr[] = [22, 23, 67], k = 1\n",
    "##### Output: 112\n",
    "### Constraints:\n",
    "##### 1 <=  arr.size() <= 10^6\n",
    "##### 1 <= arr[i] <= 10^3\n",
    "##### 1 <= k <= 10^3 "
   ]
  },
  {
   "cell_type": "code",
   "execution_count": 1,
   "id": "2ce73805-6ba4-400b-ad12-628238fdb464",
   "metadata": {},
   "outputs": [
    {
     "name": "stdout",
     "output_type": "stream",
     "text": [
      "113\n",
      "-1\n",
      "112\n"
     ]
    }
   ],
   "source": [
    "class Solution:\n",
    "    \n",
    "    #Function to find minimum number of pages.\n",
    "    def findPages(self, arr, k):\n",
    "        #code here\n",
    "        if k>len(arr):\n",
    "            return -1\n",
    "    \n",
    "        low=max(arr)\n",
    "        high=sum(arr)\n",
    "        res=-1\n",
    "        \n",
    "        while low<=high:\n",
    "            mid=low+(high-low)//2\n",
    "            if self.check(arr,k,mid):\n",
    "                res=mid\n",
    "                high=mid-1\n",
    "            else:\n",
    "                low=mid+1\n",
    "                \n",
    "        return res\n",
    "        \n",
    "    def check(self, arr, k, pageLimit):\n",
    "        cnt=1\n",
    "        pageSum=0\n",
    "        for pages in arr:\n",
    "            \n",
    "            if pageSum+pages>pageLimit:\n",
    "                cnt+=1\n",
    "                pageSum=pages\n",
    "            else:\n",
    "                pageSum+=pages\n",
    "                \n",
    "        return cnt <= k\n",
    "sol=Solution()\n",
    "print(sol.findPages(arr = [12, 34, 67, 90], k = 2))\n",
    "print(sol.findPages(arr= [15, 17, 20], k = 5))\n",
    "print(sol.findPages(arr = [22, 23, 67], k = 1))"
   ]
  }
 ],
 "metadata": {
  "kernelspec": {
   "display_name": "Python 3 (ipykernel)",
   "language": "python",
   "name": "python3"
  },
  "language_info": {
   "codemirror_mode": {
    "name": "ipython",
    "version": 3
   },
   "file_extension": ".py",
   "mimetype": "text/x-python",
   "name": "python",
   "nbconvert_exporter": "python",
   "pygments_lexer": "ipython3",
   "version": "3.12.4"
  }
 },
 "nbformat": 4,
 "nbformat_minor": 5
}

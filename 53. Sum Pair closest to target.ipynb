{
 "cells": [
  {
   "cell_type": "markdown",
   "id": "c4fbe011-65ee-44c6-b10d-e0433f2ecb46",
   "metadata": {},
   "source": [
    "# Sum Pair closest to target\n"
   ]
  },
  {
   "cell_type": "markdown",
   "id": "bc869205-1103-417d-ba13-08ced964cabf",
   "metadata": {},
   "source": [
    "Given an array arr[] and a number target, find a pair of elements (a, b) in arr[], where a<=b whose sum is closest to target.\n",
    "Note: Return the pair in sorted order and if there are multiple such pairs return the pair with maximum absolute difference. If no such pair exists return an empty array.\n",
    "\n",
    "Examples:\n",
    "\n",
    "##### Input: arr[] = [10, 30, 20, 5], target = 25\n",
    "##### Output: [5, 20]\n",
    "Explanation: As 5 + 20 = 25 is closest to 25.\n",
    "##### Input: arr[] = [5, 2, 7, 1, 4], target = 10\n",
    "##### Output: [2, 7]\n",
    "Explanation: As (4, 7) and (2, 7) both are closest to 10, but absolute difference of (2, 7) is 5 and (4, 7) is 3. Hence, [2, 7] has maximum absolute difference and closest to target. \n",
    "##### Input: arr[] = [10], target = 10\n",
    "##### Output: []\n",
    "Explanation: As the input array has only 1 element, return an empty array.\n",
    "## Constraints:\n",
    "##### 1 <= arr.size() <= 2*10^5\n",
    "##### 0 <= target<= 2*10^5\n",
    "##### 0 <= arr[i] <= 10^5\n",
    "\n"
   ]
  },
  {
   "cell_type": "code",
   "execution_count": 5,
   "id": "5e88b2f4-62f2-4fd2-8fca-61d048eba797",
   "metadata": {},
   "outputs": [
    {
     "name": "stdout",
     "output_type": "stream",
     "text": [
      "[5, 20]\n",
      "[2, 7]\n",
      "[]\n"
     ]
    }
   ],
   "source": [
    "#User function Template for python3\n",
    "class Solution:\n",
    "    def sumClosest(self, arr, target):\n",
    "        # code here\n",
    "        if  len(arr)<2:\n",
    "            return []\n",
    "        arr.sort()\n",
    "        l,r=0,len(arr)-1\n",
    "        clos_diff=float('inf')\n",
    "        res=[]\n",
    "        while l<r:\n",
    "            a=arr[l]\n",
    "            b=arr[r]\n",
    "            sum=a+b\n",
    "            diff=abs(target-sum)\n",
    "            \n",
    "            if diff<clos_diff or (diff==clos_diff and abs(b-a)>abs(res[1]-res[0])):\n",
    "                clos_diff=diff\n",
    "                res=[a,b]\n",
    "            if sum<target:\n",
    "                l+=1\n",
    "            else:\n",
    "                r-=1\n",
    "        return res\n",
    "sol=Solution()\n",
    "print(sol.sumClosest(arr = [10, 30, 20, 5], target = 25))\n",
    "print(sol.sumClosest(arr = [5, 2, 7, 1, 4], target = 10))\n",
    "print(sol.sumClosest(arr = [10], target = 10))"
   ]
  }
 ],
 "metadata": {
  "kernelspec": {
   "display_name": "Python 3 (ipykernel)",
   "language": "python",
   "name": "python3"
  },
  "language_info": {
   "codemirror_mode": {
    "name": "ipython",
    "version": 3
   },
   "file_extension": ".py",
   "mimetype": "text/x-python",
   "name": "python",
   "nbconvert_exporter": "python",
   "pygments_lexer": "ipython3",
   "version": "3.12.4"
  }
 },
 "nbformat": 4,
 "nbformat_minor": 5
}

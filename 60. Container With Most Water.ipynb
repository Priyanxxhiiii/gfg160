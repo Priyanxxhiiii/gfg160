{
 "cells": [
  {
   "cell_type": "markdown",
   "id": "1b6f2559-dc26-4524-9395-8fa6995f327c",
   "metadata": {},
   "source": [
    "# Container With Most Water\n"
   ]
  },
  {
   "cell_type": "markdown",
   "id": "6cc80932-62d1-4f0d-bc22-fb8decb5ad71",
   "metadata": {},
   "source": [
    "Given an array arr[] of non-negative integers, where each element arr[i] represents the height of the vertical lines, find the maximum amount of water that can be contained between any two lines, together with the x-axis.\n",
    "\n",
    "Note: In the case of a single vertical line it will not be able to hold water.\n",
    "\n",
    "Examples:\n",
    "\n",
    "##### Input: arr[] = [1, 5, 4, 3]\n",
    "##### Output: 6\n",
    "Explanation: 5 and 3 are 2 distance apart. So the size of the base is 2. Height of container = min(5, 3) = 3. So, total area to hold water = 3 * 2 = 6.\n",
    "##### Input: arr[] = [3, 1, 2, 4, 5]\n",
    "##### Output: 12\n",
    "Explanation: 5 and 3 are 4 distance apart. So the size of the base is 4. Height of container = min(5, 3) = 3. So, total area to hold water = 4 * 3 = 12.\n",
    "##### Input: arr[] = [2, 1, 8, 6, 4, 6, 5, 5]\n",
    "##### Output: 25 \n",
    "Explanation: 8 and 5 are 5 distance apart. So the size of the base is 5. Height of container = min(8, 5) = 5. So, the total area to hold water = 5 * 5 = 25.\n",
    "## Constraints:\n",
    "##### 1<= arr.size() <=10^5\n",
    "##### 1<= arr[i] <=10^4"
   ]
  },
  {
   "cell_type": "code",
   "execution_count": 1,
   "id": "fd26c9df-993f-4073-b5ab-1aac398988aa",
   "metadata": {},
   "outputs": [
    {
     "name": "stdout",
     "output_type": "stream",
     "text": [
      "6\n",
      "12\n",
      "25\n"
     ]
    }
   ],
   "source": [
    "class Solution:\n",
    "    def maxWater(self, arr):\n",
    "        # code here\n",
    "        left=0\n",
    "        right=len(arr)-1\n",
    "      \n",
    "        \n",
    "        res=0\n",
    "        while left<right:\n",
    "            water=min(arr[left],arr[right])*(right-left)\n",
    "            res=max(res,water)\n",
    "            if arr[left]<arr[right]:\n",
    "                left+=1\n",
    "            else:\n",
    "                right-=1\n",
    "        return res\n",
    "sol=Solution()\n",
    "print(sol.maxWater(arr = [1, 5, 4, 3]))\n",
    "print(sol.maxWater(arr = [3, 1, 2, 4, 5]))\n",
    "print(sol.maxWater( arr = [2, 1, 8, 6, 4, 6, 5, 5]))"
   ]
  }
 ],
 "metadata": {
  "kernelspec": {
   "display_name": "Python 3 (ipykernel)",
   "language": "python",
   "name": "python3"
  },
  "language_info": {
   "codemirror_mode": {
    "name": "ipython",
    "version": 3
   },
   "file_extension": ".py",
   "mimetype": "text/x-python",
   "name": "python",
   "nbconvert_exporter": "python",
   "pygments_lexer": "ipython3",
   "version": "3.12.4"
  }
 },
 "nbformat": 4,
 "nbformat_minor": 5
}

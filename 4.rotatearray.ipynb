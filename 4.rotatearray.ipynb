{
 "cells": [
  {
   "cell_type": "markdown",
   "id": "23fcc6d7-15df-461c-9a15-0261d7599162",
   "metadata": {},
   "source": [
    "# Rotate array\n",
    "Given an unsorted array arr[]. Rotate the array to the left (counter-clockwise direction) by d steps, where d is a positive integer. Do the mentioned change in the array in place.\n",
    "\n",
    "Note: Consider the array as circular.\n",
    "\n",
    "Examples :\n",
    "\n",
    "#### Input: arr[] = [1, 2, 3, 4, 5], d = 2\n",
    "#### Output: [3, 4, 5, 1, 2]\n",
    "Explanation: when rotated by 2 elements, it becomes 3 4 5 1 2.\n",
    "#### Input: arr[] = [2, 4, 6, 8, 10, 12, 14, 16, 18, 20], d = 3\n",
    "#### Output: [8, 10, 12, 14, 16, 18, 20, 2, 4, 6]\n",
    "Explanation: when rotated by 3 elements, it becomes 8 10 12 14 16 18 20 2 4 6.\n",
    "#### Input: arr[] = [7, 3, 9, 1], d = 9\n",
    "#### Output: [3, 9, 1, 7]\n",
    "Explanation: when we rotate 9 times, we'll get 3 9 1 7 as resultant array.\n",
    "#### Constraints:\n",
    "#### 1 <= arr.size(), d <= 105\n",
    "#### 0 <= arr[i] <= 105"
   ]
  },
  {
   "cell_type": "markdown",
   "id": "5fbf3bcd-daf0-4ff9-9dc0-b5f0108c9635",
   "metadata": {},
   "source": [
    "## Approach 1, time: 0.69"
   ]
  },
  {
   "cell_type": "code",
   "execution_count": 4,
   "id": "8fbfea47-e5cf-4057-8985-5d1ac11886b5",
   "metadata": {},
   "outputs": [
    {
     "name": "stdout",
     "output_type": "stream",
     "text": [
      "[3, 4, 5, 1, 2]\n"
     ]
    }
   ],
   "source": [
    "class Solution:\n",
    "    #Function to rotate an array by d elements in counter-clockwise direction. \n",
    "    def rotateArr(self, arr, d):\n",
    "        #Your code here\n",
    "        n=len(arr)\n",
    "        d=d%n\n",
    "        self.reverse(arr,0,d-1)\n",
    "        self.reverse(arr,d,n-1)\n",
    "        self.reverse(arr,0,n-1)\n",
    "        return arr\n",
    "    def reverse(self,arr,start,end):\n",
    "        while(start<end):\n",
    "            arr[start],arr[end]=arr[end],arr[start]\n",
    "            start+=1\n",
    "            end-=1\n",
    "        return arr\n",
    "solution=Solution()\n",
    "arr=[1,2,3,4,5]\n",
    "d=2\n",
    "print(solution.rotateArr(arr,d))"
   ]
  },
  {
   "cell_type": "markdown",
   "id": "5d7358b8-37c1-4f88-936a-7d8909d43148",
   "metadata": {},
   "source": [
    "## Approach 2, time: 0.9"
   ]
  },
  {
   "cell_type": "code",
   "execution_count": 5,
   "id": "1617969b-7d4a-42fc-b4a8-bc536d19d0a8",
   "metadata": {},
   "outputs": [
    {
     "name": "stdout",
     "output_type": "stream",
     "text": [
      "[3, 4, 5, 1, 2]\n"
     ]
    }
   ],
   "source": [
    "class Solution:\n",
    "    #Function to rotate an array by d elements in counter-clockwise direction. \n",
    "    def rotateArr(self, arr, d):\n",
    "        #Your code here\n",
    "        n=len(arr)\n",
    "        temp=[0]*n\n",
    "        for i in range(n):\n",
    "            temp[i]=arr[(i+d)%n]\n",
    "        for i in range(n):\n",
    "            arr[i]=temp[i]\n",
    "        return arr\n",
    "solution=Solution()\n",
    "arr=[1,2,3,4,5]\n",
    "d=2\n",
    "print(solution.rotateArr(arr,d))"
   ]
  }
 ],
 "metadata": {
  "kernelspec": {
   "display_name": "Python 3 (ipykernel)",
   "language": "python",
   "name": "python3"
  },
  "language_info": {
   "codemirror_mode": {
    "name": "ipython",
    "version": 3
   },
   "file_extension": ".py",
   "mimetype": "text/x-python",
   "name": "python",
   "nbconvert_exporter": "python",
   "pygments_lexer": "ipython3",
   "version": "3.12.4"
  }
 },
 "nbformat": 4,
 "nbformat_minor": 5
}

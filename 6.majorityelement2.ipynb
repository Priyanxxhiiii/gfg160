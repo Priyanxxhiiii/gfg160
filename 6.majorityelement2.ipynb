{
 "cells": [
  {
   "cell_type": "markdown",
   "id": "71ddf6e9-0605-487c-adbf-05bd3b7280eb",
   "metadata": {},
   "source": [
    "You are given an array of integer arr[] where each number represents a vote to a candidate. Return the candidates that have votes greater than one-third of the total votes, If there's not a majority vote, return an empty array. \n",
    "\n",
    "Note: The answer should be returned in an increasing format.\n",
    "\n",
    "Examples:\n",
    "\n",
    "#### Input: arr[] = [2, 1, 5, 5, 5, 5, 6, 6, 6, 6, 6]\n",
    "#### Output: [5, 6]\n",
    "Explanation: 5 and 6 occur more n/3 times.\n",
    "#### Input: arr[] = [1, 2, 3, 4, 5]\n",
    "#### Output: []\n",
    "Explanation: no candidate occur more than n/3 times.\n",
    "#### Constraint:\n",
    "#### 1 <= arr.size() <= 10^6\n",
    "#### -10^9 <= arr[i] <= 10^9"
   ]
  },
  {
   "cell_type": "markdown",
   "id": "51340de8-faba-4b24-bc02-66314fdc38c5",
   "metadata": {},
   "source": [
    "## Brute force"
   ]
  },
  {
   "cell_type": "code",
   "execution_count": 1,
   "id": "a04c81bd-bc4e-4738-b351-bfb2afb1d4b1",
   "metadata": {},
   "outputs": [
    {
     "name": "stdout",
     "output_type": "stream",
     "text": [
      "[6]\n"
     ]
    }
   ],
   "source": [
    "def findMajority(arr):\n",
    "    #Your Code goes here.\n",
    "    n=len(arr)\n",
    "    arr1=[]\n",
    "    for i in range(n):\n",
    "        if (n//3)<arr.count(arr[i]) and arr[i] not in arr1:\n",
    "                arr1.append(arr[i])\n",
    "    sorted(arr)\n",
    "    print(arr1)\n",
    "findMajority([2,1,5,5,5,6,6,6,6])"
   ]
  },
  {
   "cell_type": "markdown",
   "id": "dbf0adc6-319b-4fa2-bcea-5d00fba07bff",
   "metadata": {},
   "source": [
    "# Using Dictionary"
   ]
  },
  {
   "cell_type": "code",
   "execution_count": 2,
   "id": "4539f5e6-c79f-4693-9db1-c433b5ae1f1e",
   "metadata": {},
   "outputs": [
    {
     "name": "stdout",
     "output_type": "stream",
     "text": [
      "[5, 6]\n",
      "[]\n"
     ]
    }
   ],
   "source": [
    "class Solution:\n",
    "    # Function to find the majority elements in the array\n",
    "    def findMajority(self, arr):\n",
    "        #Your Code goes here.\n",
    "        one_third=len(arr)//3\n",
    "        freq_dict={}\n",
    "        \n",
    "        for num in arr:\n",
    "            if num in freq_dict:\n",
    "                freq_dict[num]+=1\n",
    "            else:\n",
    "                freq_dict[num]=1\n",
    "        result=[]\n",
    "        for key,value in freq_dict.items():\n",
    "            if value>one_third:\n",
    "                result.append(key)\n",
    "        return sorted(result)\n",
    "sol=Solution()\n",
    "print(sol.findMajority([2, 1, 5, 5, 5, 5, 6, 6, 6, 6, 6]))\n",
    "print(sol.findMajority([1,2,3,4,5]))"
   ]
  }
 ],
 "metadata": {
  "kernelspec": {
   "display_name": "Python 3 (ipykernel)",
   "language": "python",
   "name": "python3"
  },
  "language_info": {
   "codemirror_mode": {
    "name": "ipython",
    "version": 3
   },
   "file_extension": ".py",
   "mimetype": "text/x-python",
   "name": "python",
   "nbconvert_exporter": "python",
   "pygments_lexer": "ipython3",
   "version": "3.12.4"
  }
 },
 "nbformat": 4,
 "nbformat_minor": 5
}

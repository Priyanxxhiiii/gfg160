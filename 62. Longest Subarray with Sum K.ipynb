{
 "cells": [
  {
   "cell_type": "markdown",
   "id": "3dc1817c-a734-4712-9671-e8f4f78a75f1",
   "metadata": {},
   "source": [
    "# Longest Subarray with Sum K\n"
   ]
  },
  {
   "cell_type": "markdown",
   "id": "894deb21-396f-4ee2-ae4e-bb62eb15be89",
   "metadata": {},
   "source": [
    "Given an array arr[] containing integers and an integer k, your task is to find the length of the longest subarray where the sum of its elements is equal to the given value k. If there is no subarray with sum equal to k, return 0.\n",
    "\n",
    "Examples:\n",
    "\n",
    "##### Input: arr[] = [10, 5, 2, 7, 1, -10], k = 15\n",
    "##### Output: 6\n",
    "Explanation: Subarrays with sum = 15 are [5, 2, 7, 1], [10, 5] and [10, 5, 2, 7, 1, -10]. The length of the longest subarray with a sum of 15 is 6.\n",
    "##### Input: arr[] = [-5, 8, -14, 2, 4, 12], k = -5\n",
    "##### Output: 5\n",
    "Explanation: Only subarray with sum = 15 is [-5, 8, -14, 2, 4] of length 5.\n",
    "##### Input: arr[] = [10, -10, 20, 30], k = 5\n",
    "##### Output: 0\n",
    "Explanation: No subarray with sum = 5 is present in arr[].\n",
    "## Constraints:\n",
    "##### 1 ≤ arr.size() ≤ 10^5\n",
    "##### -10^4 ≤ arr[i] ≤ 10^4\n",
    "##### -10^9 ≤ k ≤ 10^9"
   ]
  },
  {
   "cell_type": "code",
   "execution_count": 1,
   "id": "92191530-ba8a-4666-8a1f-c3b7b0eb7e53",
   "metadata": {},
   "outputs": [
    {
     "name": "stdout",
     "output_type": "stream",
     "text": [
      "6\n",
      "5\n",
      "0\n",
      "3\n"
     ]
    }
   ],
   "source": [
    "class Solution:\n",
    "    def longestSubarray(self, arr, k):  \n",
    "        # code here\n",
    "        n=len(arr)\n",
    "        dict={}\n",
    "        curr_sum=0\n",
    "        max_len=0\n",
    "        for i in range(n):\n",
    "            curr_sum+=arr[i]\n",
    "            \n",
    "            if curr_sum==k:\n",
    "                max_len=i+1\n",
    "            if curr_sum-k in dict:\n",
    "                max_len=max(max_len, i-dict[curr_sum-k])\n",
    "            if curr_sum not in dict:\n",
    "                dict[curr_sum]=i\n",
    "        return max_len\n",
    "sol=Solution()\n",
    "print(sol.longestSubarray(arr = [10, 5, 2, 7, 1, -10], k = 15))\n",
    "print(sol.longestSubarray(arr = [-5, 8, -14, 2, 4, 12], k = -5))\n",
    "print(sol.longestSubarray(arr = [10, -10, 20, 30], k = 5))\n",
    "print(sol.longestSubarray(arr = [94,-33,-13,40,-82,94,-33,-13,40,-82], k=52))"
   ]
  }
 ],
 "metadata": {
  "kernelspec": {
   "display_name": "Python 3 (ipykernel)",
   "language": "python",
   "name": "python3"
  },
  "language_info": {
   "codemirror_mode": {
    "name": "ipython",
    "version": 3
   },
   "file_extension": ".py",
   "mimetype": "text/x-python",
   "name": "python",
   "nbconvert_exporter": "python",
   "pygments_lexer": "ipython3",
   "version": "3.12.4"
  }
 },
 "nbformat": 4,
 "nbformat_minor": 5
}

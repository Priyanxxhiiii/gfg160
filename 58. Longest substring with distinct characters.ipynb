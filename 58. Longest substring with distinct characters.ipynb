{
 "cells": [
  {
   "cell_type": "markdown",
   "id": "618bc981-bb0c-450f-bc9e-ac5262c59c3b",
   "metadata": {},
   "source": [
    "# Longest substring with distinct characters\n"
   ]
  },
  {
   "cell_type": "markdown",
   "id": "42f61cd8-899b-495e-aed3-41b3c87fc428",
   "metadata": {},
   "source": [
    "Given a string s, find the length of the longest substring with all distinct characters. \n",
    "\n",
    "Examples:\n",
    "\n",
    "##### Input: s = \"geeksforgeeks\"\n",
    "##### Output: 7\n",
    "Explanation: \"eksforg\" is the longest substring with all distinct characters.\n",
    "##### Input: s = \"aaa\"\n",
    "##### Output: 1\n",
    "Explanation: \"a\" is the longest substring with all distinct characters.\n",
    "##### Input: s = \"abcdefabcbb\"\n",
    "##### Output: 6\n",
    "Explanation: The longest substring with all distinct characters is \"abcdef\", which has a length of 6.\n",
    "## Constraints:\n",
    "##### 1<= s.size()<=3*10^4\n",
    "##### All the characters are in lowercase."
   ]
  },
  {
   "cell_type": "code",
   "execution_count": 1,
   "id": "a9300fcb-b0d6-413e-9913-86e72c358dc7",
   "metadata": {},
   "outputs": [
    {
     "name": "stdout",
     "output_type": "stream",
     "text": [
      "7\n",
      "1\n",
      "6\n"
     ]
    }
   ],
   "source": [
    "class Solution:\n",
    "    def longestUniqueSubstr(self, s):\n",
    "        # code here\n",
    "        l=0\n",
    "        max_len=0\n",
    "        dict={}\n",
    "        for r in range(len(s)):\n",
    "            curr=s[r]\n",
    "            if curr in dict:\n",
    "                l=max(l,dict[curr]+1)\n",
    "            dict[curr]=r\n",
    "            max_len=max(max_len,r-l+1)\n",
    "        return max_len\n",
    "sol=Solution()\n",
    "print(sol.longestUniqueSubstr( s = \"geeksforgeeks\"))\n",
    "print(sol.longestUniqueSubstr(s = \"aaa\"))\n",
    "print(sol.longestUniqueSubstr( s = \"abcdefabcbb\"))"
   ]
  }
 ],
 "metadata": {
  "kernelspec": {
   "display_name": "Python 3 (ipykernel)",
   "language": "python",
   "name": "python3"
  },
  "language_info": {
   "codemirror_mode": {
    "name": "ipython",
    "version": 3
   },
   "file_extension": ".py",
   "mimetype": "text/x-python",
   "name": "python",
   "nbconvert_exporter": "python",
   "pygments_lexer": "ipython3",
   "version": "3.12.4"
  }
 },
 "nbformat": 4,
 "nbformat_minor": 5
}

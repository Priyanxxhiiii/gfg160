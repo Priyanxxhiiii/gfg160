{
 "cells": [
  {
   "cell_type": "markdown",
   "id": "109a5f11-2df1-43a6-9884-cfcd91b14f07",
   "metadata": {},
   "source": [
    "# Remove loop in Linked List\n"
   ]
  },
  {
   "cell_type": "markdown",
   "id": "8f4ea06d-bc9a-4223-852a-10dcc5b7d63e",
   "metadata": {},
   "source": [
    "Given the head of a linked list that may contain a loop.  A loop means that the last node of the linked list is connected back to a node in the same list. The task is to remove the loop from the linked list (if it exists).\n",
    "\n",
    "Custom Input format:\n",
    "\n",
    "A head of a singly linked list and a pos (1-based index) which denotes the position of the node to which the last node points to. If pos = 0, it means the last node points to null, indicating there is no loop.\n",
    "\n",
    "The generated output will be true if there is no loop in list and other nodes in the list remain unchanged, otherwise, false.\n",
    "\n",
    "Examples:\n",
    "\n",
    "##### Input: head = 1 -> 3 -> 4, pos = 2\n",
    "##### Output: true\n",
    "Explanation: The linked list looks like\n",
    "\n",
    "A loop is present in the list, and it is removed.\n",
    "##### Input: head = 1 -> 8 -> 3 -> 4, pos = 0\n",
    "##### Output: true\n",
    "Explanation: \n",
    "\n",
    "The Linked list does not contains any loop. \n",
    "##### Input: head = 1 -> 2 -> 3 -> 4, pos = 1\n",
    "##### Output: true\n",
    "Explanation: The linked list looks like \n",
    "\n",
    "A loop is present in the list, and it is removed.\n",
    "## Constraints:\n",
    "##### 1 ≤ size of linked list ≤ 10^5"
   ]
  },
  {
   "cell_type": "code",
   "execution_count": null,
   "id": "aff5528e-ca59-4ef9-a68c-83958d7200a4",
   "metadata": {},
   "outputs": [],
   "source": [
    "class Solution:\n",
    "    #Function to remove a loop in the linked list.\n",
    "    def removeLoop(self, head):\n",
    "        # code here\n",
    "        slow=head\n",
    "        fast=head\n",
    "        while fast is not None and fast.next is not None:\n",
    "            slow=slow.next\n",
    "            fast=fast.next.next\n",
    "            if slow==fast:\n",
    "                break\n",
    "            \n",
    "        else:\n",
    "            return True\n",
    "        slow=head\n",
    "        while slow!=fast:\n",
    "            slow=slow.next\n",
    "            fast=fast.next\n",
    "            \n",
    "        loop_start=slow\n",
    "        ptr=loop_start\n",
    "        while ptr.next!=loop_start:\n",
    "            ptr=ptr.next\n",
    "        ptr.next=None\n",
    "        return True"
   ]
  }
 ],
 "metadata": {
  "kernelspec": {
   "display_name": "Python 3 (ipykernel)",
   "language": "python",
   "name": "python3"
  },
  "language_info": {
   "codemirror_mode": {
    "name": "ipython",
    "version": 3
   },
   "file_extension": ".py",
   "mimetype": "text/x-python",
   "name": "python",
   "nbconvert_exporter": "python",
   "pygments_lexer": "ipython3",
   "version": "3.12.4"
  }
 },
 "nbformat": 4,
 "nbformat_minor": 5
}

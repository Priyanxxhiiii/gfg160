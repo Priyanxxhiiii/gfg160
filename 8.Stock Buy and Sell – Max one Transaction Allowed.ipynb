{
 "cells": [
  {
   "cell_type": "markdown",
   "id": "4e3d68cb-07aa-4404-85d4-77c132d8b37a",
   "metadata": {},
   "source": [
    "# Stock Buy and Sell – Max one Transaction Allowed"
   ]
  },
  {
   "cell_type": "markdown",
   "id": "fde47b4e-62a6-4dbe-98c0-3fba96707f0c",
   "metadata": {},
   "source": [
    "Given an array prices[] of length n, representing the prices of the stocks on different days. The task is to find the maximum profit possible by buying and selling the stocks on different days when at most one transaction is allowed. Here one transaction means 1 buy + 1 Sell. If it is not possible to make a profit then return 0.\n",
    "\n",
    "Note: Stock must be bought before being sold.\n",
    "\n",
    "Examples:\n",
    "\n",
    "### Input: prices[] = [7, 10, 1, 3, 6, 9, 2]\n",
    "### Output: 8\n",
    "Explanation: You can buy the stock on day 2 at price = 1 and sell it on day 5 at price = 9. Hence, the profit is 8.\n",
    "### Input: prices[] = [7, 6, 4, 3, 1]\n",
    "### Output: 0 \n",
    "Explanation: Here the prices are in decreasing order, hence if we buy any day then we cannot sell it at a greater price. Hence, the answer is 0.\n",
    "### Input: prices[] = [1, 3, 6, 9, 11]\n",
    "### Output: 10 \n",
    "Explanation: Since the array is sorted in increasing order, we can make maximum profit by buying at price[0] and selling at price[n-1].\n",
    "### Constraint:\n",
    "#### 1 <= prices.size()<= 10^5\n",
    "#### 0 <= prices[i] <=10^4"
   ]
  },
  {
   "cell_type": "markdown",
   "id": "68c87deb-bee6-4181-bc11-9f19c7e2b000",
   "metadata": {},
   "source": [
    "# Code"
   ]
  },
  {
   "cell_type": "code",
   "execution_count": 16,
   "id": "455dae7d-0912-49bc-bbce-60167d01a3d8",
   "metadata": {},
   "outputs": [
    {
     "name": "stdout",
     "output_type": "stream",
     "text": [
      "8\n",
      "0\n",
      "10\n"
     ]
    }
   ],
   "source": [
    "class Solution:\n",
    "    def maximumProfit(self, prices):\n",
    "        # code here\n",
    "        mini=prices[0]\n",
    "        n=len(prices)\n",
    "        max_profit=0\n",
    "        for i in range(1,n):\n",
    "            if prices[i]<mini:\n",
    "                mini=prices[i]\n",
    "                \n",
    "            profit=prices[i]-mini\n",
    "            \n",
    "            if profit>max_profit:\n",
    "                max_profit=profit\n",
    "                \n",
    "        return max_profit\n",
    "\n",
    "sol=Solution()\n",
    "print(sol.maximumProfit([7, 10, 1, 3, 6, 9, 2]))\n",
    "print(sol.maximumProfit([7, 6, 4, 3, 1]))\n",
    "print(sol.maximumProfit([1, 3, 6, 9, 11]))\n",
    "#time:0.18"
   ]
  },
  {
   "cell_type": "code",
   "execution_count": null,
   "id": "41dae265-3338-4dab-854a-f471bb2f26da",
   "metadata": {},
   "outputs": [],
   "source": []
  }
 ],
 "metadata": {
  "kernelspec": {
   "display_name": "Python 3 (ipykernel)",
   "language": "python",
   "name": "python3"
  },
  "language_info": {
   "codemirror_mode": {
    "name": "ipython",
    "version": 3
   },
   "file_extension": ".py",
   "mimetype": "text/x-python",
   "name": "python",
   "nbconvert_exporter": "python",
   "pygments_lexer": "ipython3",
   "version": "3.12.4"
  }
 },
 "nbformat": 4,
 "nbformat_minor": 5
}

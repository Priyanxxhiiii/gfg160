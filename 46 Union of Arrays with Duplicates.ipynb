{
 "cells": [
  {
   "cell_type": "markdown",
   "id": "8f6b37fc-41f1-4a6c-93b1-567bb4ef3f3c",
   "metadata": {},
   "source": [
    "# Union of Arrays with Duplicates"
   ]
  },
  {
   "cell_type": "markdown",
   "id": "bfd7280d-6413-4ff4-967f-178e48ab51c0",
   "metadata": {},
   "source": [
    "Given two arrays a[] and b[], the task is to find the number of elements in the union between these two arrays.\n",
    "\n",
    "The Union of the two arrays can be defined as the set containing distinct elements from both arrays. If there are repetitions, then only one element occurrence should be there in the union.\n",
    "\n",
    "Note: Elements of a[] and b[] are not necessarily distinct.\n",
    "\n",
    "Examples\n",
    "\n",
    "##### Input: a[] = [1, 2, 3, 4, 5], b[] = [1, 2, 3]\n",
    "##### Output: 5\n",
    "Explanation: Union set of both the arrays will be 1, 2, 3, 4 and 5. So count is 5.\n",
    "##### Input: a[] = [85, 25, 1, 32, 54, 6], b[] = [85, 2] \n",
    "##### Output: 7\n",
    "Explanation: Union set of both the arrays will be 85, 25, 1, 32, 54, 6, and 2. So count is 7.\n",
    "##### Input: a[] = [1, 2, 1, 1, 2], b[] = [2, 2, 1, 2, 1] \n",
    "##### Output: 2\n",
    "Explanation: We need to consider only distinct. So count of elements in union set will be 2.\n",
    "## Constraints:\n",
    "##### 1 ≤ a.size(), b.size() ≤ 10^6\n",
    "##### 0 ≤ a[i], b[i] ≤ 10^5"
   ]
  },
  {
   "cell_type": "code",
   "execution_count": 2,
   "id": "04396a50-d353-41d3-8600-17fd07785a81",
   "metadata": {},
   "outputs": [
    {
     "name": "stdout",
     "output_type": "stream",
     "text": [
      "5\n",
      "7\n",
      "2\n"
     ]
    }
   ],
   "source": [
    "class Solution:    \n",
    "    #Function to return the count of number of elements in union of two arrays.\n",
    "    def findUnion(self, a, b):\n",
    "        # code here\n",
    "        freq={}\n",
    "        for num in a:\n",
    "            freq[num]=freq.get(num,0)+1\n",
    "        for num in b:\n",
    "            freq[num]=freq.get(num,0)+1\n",
    "        count=0\n",
    "        for key,value in freq.items():\n",
    "            count+=1\n",
    "        return count\n",
    "sol=Solution()\n",
    "print(sol.findUnion(a = [1, 2, 3, 4, 5], b = [1, 2, 3]))\n",
    "print(sol.findUnion(a = [85, 25, 1, 32, 54, 6], b = [85, 2]))\n",
    "print(sol.findUnion(a = [1, 2, 1, 1, 2], b = [2, 2, 1, 2, 1]))"
   ]
  },
  {
   "cell_type": "code",
   "execution_count": null,
   "id": "de6def55-35bb-4ef1-ae6d-38121b18e52e",
   "metadata": {},
   "outputs": [],
   "source": [
    "class Solution:    \n",
    "    #Function to return the count of number of elements in union of two arrays.\n",
    "    def findUnion(self, a, b):\n",
    "        union=set(a) | set(b)\n",
    "        return len(union)\n"
   ]
  }
 ],
 "metadata": {
  "kernelspec": {
   "display_name": "Python 3 (ipykernel)",
   "language": "python",
   "name": "python3"
  },
  "language_info": {
   "codemirror_mode": {
    "name": "ipython",
    "version": 3
   },
   "file_extension": ".py",
   "mimetype": "text/x-python",
   "name": "python",
   "nbconvert_exporter": "python",
   "pygments_lexer": "ipython3",
   "version": "3.12.4"
  }
 },
 "nbformat": 4,
 "nbformat_minor": 5
}

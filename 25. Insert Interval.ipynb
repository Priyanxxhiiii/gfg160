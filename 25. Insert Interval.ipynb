{
 "cells": [
  {
   "cell_type": "markdown",
   "id": "3f7a7909-7ead-4b18-9c73-f6564cbc0dac",
   "metadata": {},
   "source": [
    "# Insert Interval\n"
   ]
  },
  {
   "cell_type": "markdown",
   "id": "807722b4-b9c5-44a1-bc0d-7cfd1ff060ce",
   "metadata": {},
   "source": [
    "Geek has an array of non-overlapping intervals intervals where intervals[i] = [starti, endi] represent the start and the end of the ith event and intervals is sorted in ascending order by starti. He wants to add a new interval newInterval= [newStart, newEnd] where newStart and newEnd represent the start and end of this interval.\n",
    "\n",
    "Help Geek to insert newInterval into intervals such that intervals is still sorted in ascending order by starti and intervals still does not have any overlapping intervals (merge overlapping intervals if necessary).\n",
    "\n",
    "Examples:\n",
    "\n",
    "#### Input: intervals = [[1,3], [4,5], [6,7], [8,10]], newInterval = [5,6]\n",
    "#### Output: [[1,3], [4,7], [8,10]]\n",
    "Explanation: The newInterval [5,6] overlaps with [4,5] and [6,7].\n",
    "#### Input: intervals = [[1,2],[3,5],[6,7],[8,10],[12,16]], newInterval = [4,9]\n",
    "#### Output: [[1,2], [3,10], [12,16]]\n",
    "Explanation: The new interval [4,9] overlaps with [3,5],[6,7],[8,10].\n",
    "## Constraints:\n",
    "#### 1 ≤ intervals.size() ≤  10^5\n",
    "#### 0 ≤ start[i], end[i] ≤ 10^9"
   ]
  },
  {
   "cell_type": "markdown",
   "id": "c2ebc1b0-147b-4723-81c7-4b87e66df174",
   "metadata": {},
   "source": [
    "# Code"
   ]
  },
  {
   "cell_type": "code",
   "execution_count": 1,
   "id": "1e4f5347-95e1-4a05-a6e2-72bf97fb76a2",
   "metadata": {},
   "outputs": [
    {
     "name": "stdout",
     "output_type": "stream",
     "text": [
      "[[1, 3], [4, 7], [8, 10]]\n",
      "[[1, 2], [3, 10], [12, 16]]\n"
     ]
    }
   ],
   "source": [
    "class Solution:\n",
    "    def insertInterval(self, intervals, newInterval):\n",
    "        # Code here\n",
    "        intervals.append(newInterval)\n",
    "        if not intervals:\n",
    "            return []\n",
    "        intervals.sort(key= lambda x:x[0])\n",
    "        res=[intervals[0]]\n",
    "        for curr in intervals[1:]:\n",
    "            last=res[-1]\n",
    "            if curr[0]<=last[1]:\n",
    "                last[1]=max(last[1],curr[1])\n",
    "            else:\n",
    "                res.append(curr)\n",
    "        return res\n",
    "if __name__== \"__main__\":\n",
    "    sol=Solution()\n",
    "    print(sol.insertInterval(intervals = [[1,3], [4,5], [6,7], [8,10]], newInterval = [5,6]))\n",
    "    print(sol.insertInterval(intervals = [[1,2],[3,5],[6,7],[8,10],[12,16]], newInterval = [4,9]))\n"
   ]
  }
 ],
 "metadata": {
  "kernelspec": {
   "display_name": "Python 3 (ipykernel)",
   "language": "python",
   "name": "python3"
  },
  "language_info": {
   "codemirror_mode": {
    "name": "ipython",
    "version": 3
   },
   "file_extension": ".py",
   "mimetype": "text/x-python",
   "name": "python",
   "nbconvert_exporter": "python",
   "pygments_lexer": "ipython3",
   "version": "3.12.4"
  }
 },
 "nbformat": 4,
 "nbformat_minor": 5
}

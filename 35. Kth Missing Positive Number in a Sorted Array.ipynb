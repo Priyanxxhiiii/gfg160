{
 "cells": [
  {
   "cell_type": "markdown",
   "id": "f6c8eb54-8c82-4482-9cb6-5c1164ead6db",
   "metadata": {},
   "source": [
    "# Kth Missing Positive Number in a Sorted Array"
   ]
  },
  {
   "cell_type": "markdown",
   "id": "ba53fd5d-f932-4b92-ade6-7510a141e690",
   "metadata": {},
   "source": [
    "Given a sorted array of distinct positive integers arr[], we need to find the kth positive number that is missing from arr[].  \n",
    "\n",
    "Examples :\n",
    "\n",
    "##### Input: arr[] = [2, 3, 4, 7, 11], k = 5\n",
    "##### Output: 9\n",
    "Explanation: Missing are 1, 5, 6, 8, 9, 10… and 5th missing number is 9.\n",
    "##### Input: arr[] = [1, 2, 3], k = 2\n",
    "##### Output: 5\n",
    "Explanation: Missing are 4, 5, 6… and 2nd missing number is 5.\n",
    "##### Input: arr[] = [3, 5, 9, 10, 11, 12], k = 2\n",
    "##### Output: 2\n",
    "Explanation: Missing are 1, 2, 4, 6… and 2nd missing number is 2.\n",
    "### Constraints:\n",
    "##### 1 <= arr.size() <= 10^5\n",
    "##### 1 <= k <= 10^5\n",
    "##### 1 <= arr[i]<= 10^6\n",
    "\n"
   ]
  },
  {
   "cell_type": "code",
   "execution_count": 1,
   "id": "de7ee7f3-b631-4d00-bbbe-78c6d4e1c0dc",
   "metadata": {},
   "outputs": [
    {
     "name": "stdout",
     "output_type": "stream",
     "text": [
      "9\n",
      "5\n",
      "2\n"
     ]
    }
   ],
   "source": [
    "#User function Template for python3\n",
    "class Solution:\n",
    "    def kthMissing(self, arr, k):\n",
    "        # code here\n",
    "        low=mid=0\n",
    "        high=len(arr)-1\n",
    "        \n",
    "        while low<=high:\n",
    "            mid=low+(high-low)//2\n",
    "            if arr[mid]-mid-1<k:\n",
    "                low=mid+1\n",
    "            else:\n",
    "                high=mid-1\n",
    "        return low+k\n",
    "                    \n",
    "sol=Solution()\n",
    "print(sol.kthMissing( arr = [2, 3, 4, 7, 11], k = 5))\n",
    "print(sol.kthMissing(arr = [1, 2, 3], k = 2))\n",
    "print(sol.kthMissing(arr = [3, 5, 9, 10, 11, 12], k = 2))"
   ]
  }
 ],
 "metadata": {
  "kernelspec": {
   "display_name": "Python 3 (ipykernel)",
   "language": "python",
   "name": "python3"
  },
  "language_info": {
   "codemirror_mode": {
    "name": "ipython",
    "version": 3
   },
   "file_extension": ".py",
   "mimetype": "text/x-python",
   "name": "python",
   "nbconvert_exporter": "python",
   "pygments_lexer": "ipython3",
   "version": "3.12.4"
  }
 },
 "nbformat": 4,
 "nbformat_minor": 5
}

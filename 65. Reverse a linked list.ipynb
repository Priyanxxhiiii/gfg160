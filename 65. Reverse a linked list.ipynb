{
 "cells": [
  {
   "cell_type": "markdown",
   "id": "d94c2501-9b68-47da-8962-d6c65af6cc8e",
   "metadata": {},
   "source": [
    "# Reverse a linked list"
   ]
  },
  {
   "cell_type": "markdown",
   "id": "4dcb0349-5c27-4b2a-9282-6bd2d3fb17f6",
   "metadata": {},
   "source": [
    "Given the head of a linked list, the task is to reverse this list and return the reversed head.\n",
    "\n",
    "Examples:\n",
    "\n",
    "##### Input: head: 1 -> 2 -> 3 -> 4 -> NULL\n",
    "##### Output: head: 4 -> 3 -> 2 -> 1 -> NULL\n",
    "Explanation:\n",
    "\n",
    "##### Input: head: 2 -> 7 -> 10 -> 9 -> 8 -> NULL\n",
    "##### Output: head: 8 -> 9 -> 10 -> 7 -> 2 -> NULL\n",
    "Explanation:\n",
    "\n",
    "##### Input: head: 2 -> NULL\n",
    "##### Output: 2 -> NULL\n",
    "Explanation:\n",
    "\n",
    "## Constraints:\n",
    "##### 1 <= number of nodes, data of nodes <= 10^5"
   ]
  },
  {
   "cell_type": "code",
   "execution_count": 1,
   "id": "9e0824ad-4612-41b7-81c1-c78b80bff739",
   "metadata": {},
   "outputs": [
    {
     "name": "stdout",
     "output_type": "stream",
     "text": [
      "4 -> 3 -> 2 -> 1 -> NULL\n",
      "8 -> 9 -> 10 -> 7 -> 2 -> NULL\n",
      "2 -> NULL\n"
     ]
    }
   ],
   "source": [
    "#function Template for python3\n",
    "\n",
    "\n",
    "# Node Class\n",
    "\n",
    "class Node:\n",
    "    def __init__(self, val):\n",
    "        self.data = val\n",
    "        self.next = None\n",
    "\n",
    "\n",
    "\n",
    "class Solution:\n",
    "    def reverseList(self, head):\n",
    "        # Code here\n",
    "        curr=head\n",
    "        prev=None\n",
    "        \n",
    "        while curr:\n",
    "            nxt=curr.next\n",
    "            curr.next=prev\n",
    "            prev=curr\n",
    "            curr=nxt\n",
    "        return prev\n",
    "\n",
    "if __name__==\"__main__\":\n",
    "    \n",
    "\n",
    "    def createLinkedList(values):\n",
    "        if not values:\n",
    "            return None\n",
    "        head = Node(values[0])\n",
    "        current = head\n",
    "        for value in values[1:]:\n",
    "            current.next = Node(value)\n",
    "            current = current.next\n",
    "        return head\n",
    "    \n",
    "    \n",
    "    def printLinkedList(head):\n",
    "        current = head\n",
    "        while current:\n",
    "            print(current.data, end=\" -> \")\n",
    "            current = current.next\n",
    "        print(\"NULL\")\n",
    "    \n",
    "    sol = Solution()\n",
    "    printLinkedList(sol.reverseList(createLinkedList([1, 2, 3, 4])))\n",
    "    printLinkedList(sol.reverseList(createLinkedList([2,7,10,9,8])))\n",
    "    printLinkedList(sol.reverseList(createLinkedList([2])))\n",
    "    \n",
    "    \n",
    "    \n"
   ]
  },
  {
   "cell_type": "code",
   "execution_count": null,
   "id": "a2364159-b930-4f63-8f74-13e09a696a05",
   "metadata": {},
   "outputs": [],
   "source": []
  }
 ],
 "metadata": {
  "kernelspec": {
   "display_name": "Python 3 (ipykernel)",
   "language": "python",
   "name": "python3"
  },
  "language_info": {
   "codemirror_mode": {
    "name": "ipython",
    "version": 3
   },
   "file_extension": ".py",
   "mimetype": "text/x-python",
   "name": "python",
   "nbconvert_exporter": "python",
   "pygments_lexer": "ipython3",
   "version": "3.12.4"
  }
 },
 "nbformat": 4,
 "nbformat_minor": 5
}

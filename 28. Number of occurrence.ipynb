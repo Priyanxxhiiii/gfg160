{
 "cells": [
  {
   "cell_type": "markdown",
   "id": "bc9443f0-caa4-43ad-8c97-1c502af4f88d",
   "metadata": {},
   "source": [
    "# Number of occurrence"
   ]
  },
  {
   "cell_type": "markdown",
   "id": "64aa5d6c-e615-4fa6-86f8-44b9c4049f0a",
   "metadata": {},
   "source": [
    "Given a sorted array, arr[] and a number target, you need to find the number of occurrences of target in arr[]. \n",
    "\n",
    "Examples :\n",
    "\n",
    "#### Input: arr[] = [1, 1, 2, 2, 2, 2, 3], target = 2\n",
    "#### Output: 4\n",
    "Explanation: target = 2 occurs 4 times in the given array so the output is 4.\n",
    "#### Input: arr[] = [1, 1, 2, 2, 2, 2, 3], target = 4\n",
    "#### Output: 0\n",
    "Explanation: target = 4 is not present in the given array so the output is 0.\n",
    "#### Input: arr[] = [8, 9, 10, 12, 12, 12], target = 12\n",
    "#### Output: 3\n",
    "Explanation: target = 12 occurs 3 times in the given array so the output is 3.\n",
    "## Constraints:\n",
    "####  1 ≤ arr.size() ≤ 10^6\n",
    "#### 1 ≤ arr[i] ≤ 10^6\n",
    "#### 1 ≤ target ≤ 10^6"
   ]
  },
  {
   "cell_type": "markdown",
   "id": "62784f20-6678-4d17-83b6-5d4e42dcaf4b",
   "metadata": {},
   "source": [
    "# Naive Approach"
   ]
  },
  {
   "cell_type": "code",
   "execution_count": 1,
   "id": "43c009c3-5e73-46f6-94bf-2a3c43f2417a",
   "metadata": {},
   "outputs": [
    {
     "name": "stdout",
     "output_type": "stream",
     "text": [
      "4\n",
      "0\n",
      "3\n"
     ]
    }
   ],
   "source": [
    "def countFreq(arr,target):\n",
    "    count=0\n",
    "    for num in arr:\n",
    "        if num==target:\n",
    "            count+=1\n",
    "    return count\n",
    "print(countFreq(arr= [1, 1, 2, 2, 2, 2, 3], target = 2))\n",
    "print(countFreq(arr = [1, 1, 2, 2, 2, 2, 3], target = 4))\n",
    "print(countFreq(arr = [8, 9, 10, 12, 12, 12], target = 12))\n",
    "#timetaken=0.41"
   ]
  },
  {
   "cell_type": "markdown",
   "id": "0d4ffcd2-1e08-4d9e-ac97-716e1c248bbc",
   "metadata": {},
   "source": [
    "# Using binary search"
   ]
  },
  {
   "cell_type": "code",
   "execution_count": 2,
   "id": "13abe500-3543-421f-bf6e-e0ec41b76fb5",
   "metadata": {},
   "outputs": [
    {
     "name": "stdout",
     "output_type": "stream",
     "text": [
      "4\n",
      "0\n",
      "3\n"
     ]
    }
   ],
   "source": [
    "class Solution:\n",
    "    def countFreq(self, arr, target):\n",
    "        #code here\n",
    "        mid=low=0\n",
    "        high=len(arr)-1\n",
    "        start_idx=last_idx=-1\n",
    "        while low<=high:\n",
    "            mid=(low+high)//2\n",
    "            if arr[mid]==target:\n",
    "                start_idx=mid\n",
    "                high=mid-1\n",
    "            elif arr[mid]<target:\n",
    "                low=mid+1\n",
    "            else:\n",
    "                high=mid-1\n",
    "                \n",
    "        if start_idx==-1:\n",
    "            return 0\n",
    "            \n",
    "        mid=low=0\n",
    "        high=len(arr)-1\n",
    "        while low<=high:\n",
    "            mid=(low+high)//2\n",
    "            if arr[mid]==target:\n",
    "                last_idx=mid\n",
    "                low=mid+1\n",
    "            elif arr[mid]<target:\n",
    "                low=mid+1\n",
    "            else:\n",
    "                high=mid-1\n",
    "        \n",
    "        return last_idx-start_idx+1\n",
    "if __name__=='__main__':\n",
    "    sol=Solution()\n",
    "    print(sol.countFreq(arr= [1, 1, 2, 2, 2, 2, 3], target = 2))\n",
    "    print(sol.countFreq(arr = [1, 1, 2, 2, 2, 2, 3], target = 4))\n",
    "    print(sol.countFreq(arr = [8, 9, 10, 12, 12, 12], target = 12))\n",
    "#timetaken=0.32"
   ]
  },
  {
   "cell_type": "markdown",
   "id": "0f3cb5da-5ceb-43b7-bcf4-67792474097d",
   "metadata": {},
   "source": [
    "# Using bisect_left and bisect_right"
   ]
  },
  {
   "cell_type": "code",
   "execution_count": 3,
   "id": "9c62e670-57c3-4f8d-ad92-b89a5b5735a7",
   "metadata": {},
   "outputs": [
    {
     "name": "stdout",
     "output_type": "stream",
     "text": [
      "4\n",
      "0\n",
      "3\n"
     ]
    }
   ],
   "source": [
    "from bisect import bisect_left, bisect_right\n",
    "def countFreq(arr,target):\n",
    "    left=bisect_left(arr,target)\n",
    "    right=bisect_right(arr,target)\n",
    "    return right-left\n",
    "print(countFreq(arr= [1, 1, 2, 2, 2, 2, 3], target = 2))\n",
    "print(countFreq(arr = [1, 1, 2, 2, 2, 2, 3], target = 4))\n",
    "print(countFreq(arr = [8, 9, 10, 12, 12, 12], target = 12))\n",
    "#time_taken=0.35"
   ]
  }
 ],
 "metadata": {
  "kernelspec": {
   "display_name": "Python 3 (ipykernel)",
   "language": "python",
   "name": "python3"
  },
  "language_info": {
   "codemirror_mode": {
    "name": "ipython",
    "version": 3
   },
   "file_extension": ".py",
   "mimetype": "text/x-python",
   "name": "python",
   "nbconvert_exporter": "python",
   "pygments_lexer": "ipython3",
   "version": "3.12.4"
  }
 },
 "nbformat": 4,
 "nbformat_minor": 5
}

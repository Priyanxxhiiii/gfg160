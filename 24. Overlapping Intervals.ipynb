{
 "cells": [
  {
   "cell_type": "markdown",
   "id": "a78fd0a4-88cb-435d-ba49-e1c9933dc9d6",
   "metadata": {},
   "source": [
    "# Overlapping Intervals"
   ]
  },
  {
   "cell_type": "markdown",
   "id": "8334eecd-ef6c-4c10-88b1-3f276df9ec86",
   "metadata": {},
   "source": [
    "Given an array of Intervals arr[][], where arr[i] = [starti, endi]. The task is to merge all of the overlapping Intervals.\n",
    "\n",
    "Examples:\n",
    "\n",
    "#### Input: arr[][] = [[1,3],[2,4],[6,8],[9,10]]\n",
    "#### Output: [[1,4], [6,8], [9,10]]\n",
    "Explanation: In the given intervals we have only two overlapping intervals here, [1,3] and [2,4] which on merging will become [1,4]. Therefore we will return [[1,4], [6,8], [9,10]].\n",
    "#### Input: arr[][] = [[6,8],[1,9],[2,4],[4,7]]\n",
    "#### Output: [[1,9]]\n",
    "Explanation: In the given intervals all the intervals overlap with the interval [1,9]. Therefore we will return [1,9].\n",
    "## Constraints:\n",
    "#### 1 ≤ arr.size() ≤ 10^5\n",
    "#### 0 ≤ starti ≤ endi ≤ 10^5"
   ]
  },
  {
   "cell_type": "code",
   "execution_count": 1,
   "id": "8d5d87bf-d9a0-4412-bdb1-2bdb54e9af2e",
   "metadata": {},
   "outputs": [
    {
     "name": "stdout",
     "output_type": "stream",
     "text": [
      "[[1, 4], [6, 8], [9, 10]]\n",
      "[[1, 9]]\n"
     ]
    }
   ],
   "source": [
    "class Solution:\n",
    "\tdef mergeOverlap(self, arr):\n",
    "\t\t#Code here\n",
    "\t\tif not arr:\n",
    "\t\t    return []\n",
    "\t\tarr.sort(key=lambda x:x[0])\n",
    "\t\tres=[arr[0]]\n",
    "\t\tfor curr in arr[1:]:\n",
    "\t\t    last=res[-1]\n",
    "\t\t    if curr[0]<=last[1]:\n",
    "\t\t        last[1]=max(curr[1],last[1])\n",
    "\t\t    else:\n",
    "\t\t        res.append(curr)\n",
    "\t\treturn res\n",
    "sol=Solution()\n",
    "print(sol.mergeOverlap([[1,3],[2,4],[6,8],[9,10]]))\n",
    "print(sol.mergeOverlap([[6,8],[1,9],[2,4],[4,7]]))\n"
   ]
  },
  {
   "cell_type": "code",
   "execution_count": null,
   "id": "2326d530-9027-4ae4-97bd-b553c8f7f975",
   "metadata": {},
   "outputs": [],
   "source": []
  }
 ],
 "metadata": {
  "kernelspec": {
   "display_name": "Python 3 (ipykernel)",
   "language": "python",
   "name": "python3"
  },
  "language_info": {
   "codemirror_mode": {
    "name": "ipython",
    "version": 3
   },
   "file_extension": ".py",
   "mimetype": "text/x-python",
   "name": "python",
   "nbconvert_exporter": "python",
   "pygments_lexer": "ipython3",
   "version": "3.12.4"
  }
 },
 "nbformat": 4,
 "nbformat_minor": 5
}

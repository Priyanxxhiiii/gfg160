{
 "cells": [
  {
   "cell_type": "markdown",
   "id": "e60b1a0b-7b85-4dde-b625-644a7c05bf5d",
   "metadata": {},
   "source": [
    "# Second largest element\n",
    "Given an array of positive integers arr[], return the second largest element from the array. If the second largest element doesn't exist then return -1.\n",
    "\n",
    "Note: The second largest element should not be equal to the largest element.\n",
    "\n",
    "Examples:\n",
    "\n",
    "### Input: arr[] = [12, 35, 1, 10, 34, 1]\n",
    "### Output: 34,\n",
    "Explanation: The largest element of the array is 35 and the second largest element is 34.\n",
    "Input: arr[] = [10, 5, 10]\n",
    "Output: 5\n",
    "Explanation: The largest element of the array is 10 and the second largest element is 5.\n",
    "Input: arr[] = [10, 10, 10]\n",
    "Output: -1\n",
    "Explanation: The largest element of the array is 10 and the second largest element does not exist.\n",
    "Constraints:\n",
    "2 ≤ arr.size() ≤ 105\n",
    "1 ≤ arr[i] ≤ 105\n",
    "\n"
   ]
  },
  {
   "cell_type": "code",
   "execution_count": 1,
   "id": "c5e0a473-0198-4f72-bce5-4c90235a15b7",
   "metadata": {},
   "outputs": [],
   "source": [
    "#User function Template for python3\n",
    "class Solution:\n",
    "    def getSecondLargest(self, arr):\n",
    "        # Code Here\n",
    "        max=arr[0]\n",
    "        min=arr[0]\n",
    "        p=len(arr)\n",
    "        for i in range(1,p):\n",
    "            if arr[i]>max:\n",
    "                max=arr[i]\n",
    "            if arr[i]<min:\n",
    "                min=arr[i]\n",
    "        smax=min\n",
    "        for i in range(0,p):\n",
    "            if arr[i]>smax and arr[i]!=max:\n",
    "                smax=arr[i]\n",
    "        \n",
    "        return -1 if min==smax and smax==max else smax"
   ]
  },
  {
   "cell_type": "code",
   "execution_count": null,
   "id": "dc561003-2891-4f80-8703-99541565ad7d",
   "metadata": {},
   "outputs": [],
   "source": []
  }
 ],
 "metadata": {
  "kernelspec": {
   "display_name": "Python 3 (ipykernel)",
   "language": "python",
   "name": "python3"
  },
  "language_info": {
   "codemirror_mode": {
    "name": "ipython",
    "version": 3
   },
   "file_extension": ".py",
   "mimetype": "text/x-python",
   "name": "python",
   "nbconvert_exporter": "python",
   "pygments_lexer": "ipython3",
   "version": "3.12.4"
  }
 },
 "nbformat": 4,
 "nbformat_minor": 5
}

{
 "cells": [
  {
   "cell_type": "markdown",
   "id": "04e87888-35ec-4d53-9641-97fc87844bab",
   "metadata": {},
   "source": [
    "# Kadane's Algorithm"
   ]
  },
  {
   "cell_type": "markdown",
   "id": "d21def15-347a-488f-8da6-4d51da68d062",
   "metadata": {},
   "source": [
    "Given an integer array arr[]. You need to find the maximum sum of a subarray.\n",
    "\n",
    "Examples:\n",
    "\n",
    "### Input: arr[] = [2, 3, -8, 7, -1, 2, 3]\n",
    "### Output: 11\n",
    "Explanation: The subarray {7, -1, 2, 3} has the largest sum 11.\n",
    "### Input: arr[] = [-2, -4]\n",
    "### Output: -2\n",
    "Explanation: The subarray {-2} has the largest sum -2.\n",
    "### Input: arr[] = [5, 4, 1, 7, 8]\n",
    "### Output: 25\n",
    "Explanation: The subarray {5, 4, 1, 7, 8} has the largest sum 25.\n",
    "### Constraints:\n",
    "#### 1 ≤ arr.size() ≤ 10^5\n",
    "#### -10^9 ≤ arr[i] ≤ 10^4"
   ]
  },
  {
   "cell_type": "code",
   "execution_count": 4,
   "id": "b72e3399-8411-4483-b902-b911b4e1a0f7",
   "metadata": {},
   "outputs": [
    {
     "name": "stdout",
     "output_type": "stream",
     "text": [
      "11\n",
      "-2\n",
      "25\n"
     ]
    }
   ],
   "source": [
    "\n",
    "class Solution:\n",
    "    ##Complete this function\n",
    "    #Function to find the sum of contiguous subarray with maximum sum.\n",
    "    def maxSubArraySum(self,arr):\n",
    "        ##Your code here\n",
    "        sum=0\n",
    "        maxsum=arr[0]\n",
    "        for num in arr:\n",
    "            sum+=num\n",
    "            maxsum=max(maxsum,sum)\n",
    "            if sum<0:\n",
    "                sum=0\n",
    "        return maxsum\n",
    "sol=Solution()\n",
    "print(sol.maxSubArraySum([2, 3, -8, 7, -1, 2, 3]))\n",
    "print(sol.maxSubArraySum( [-2, -4]))\n",
    "print(sol.maxSubArraySum( [5,4,1,7,8]))\n"
   ]
  }
 ],
 "metadata": {
  "kernelspec": {
   "display_name": "Python 3 (ipykernel)",
   "language": "python",
   "name": "python3"
  },
  "language_info": {
   "codemirror_mode": {
    "name": "ipython",
    "version": 3
   },
   "file_extension": ".py",
   "mimetype": "text/x-python",
   "name": "python",
   "nbconvert_exporter": "python",
   "pygments_lexer": "ipython3",
   "version": "3.12.4"
  }
 },
 "nbformat": 4,
 "nbformat_minor": 5
}

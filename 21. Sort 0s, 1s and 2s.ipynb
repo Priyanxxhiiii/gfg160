{
 "cells": [
  {
   "cell_type": "markdown",
   "id": "9d4eab93-be1c-4db8-9c6b-eacedb7c1a3a",
   "metadata": {},
   "source": [
    "# Sort 0s, 1s and 2s\n"
   ]
  },
  {
   "cell_type": "markdown",
   "id": "05fde886-8254-4dbc-bd15-2041020cbd01",
   "metadata": {},
   "source": [
    "Given an array arr[] containing only 0s, 1s, and 2s. Sort the array in ascending order.\n",
    "\n",
    "Examples:\n",
    "\n",
    "#### Input: arr[] = [0, 1, 2, 0, 1, 2]\n",
    "#### Output: [0, 0, 1, 1, 2, 2]\n",
    "Explanation: 0s 1s and 2s are segregated into ascending order.\n",
    "#### Input: arr[] = [0, 1, 1, 0, 1, 2, 1, 2, 0, 0, 0, 1]\n",
    "#### Output: [0, 0, 0, 0, 0, 1, 1, 1, 1, 1, 2, 2]\n",
    "Explanation: 0s 1s and 2s are segregated into ascending order.\n",
    "#### Constraints:\n",
    "#### 1 <= arr.size() <= 10^6\n",
    "#### 0 <= arr[i] <= 2"
   ]
  },
  {
   "cell_type": "markdown",
   "id": "90ff5a4f-18ef-48df-9a4d-6b0f723b9292",
   "metadata": {},
   "source": [
    "# Code"
   ]
  },
  {
   "cell_type": "code",
   "execution_count": 1,
   "id": "445f87d2-abbb-42cf-85fa-995e37d8b72f",
   "metadata": {},
   "outputs": [
    {
     "name": "stdout",
     "output_type": "stream",
     "text": [
      "[0, 0, 1, 1, 2, 2]\n",
      "[0, 0, 0, 0, 0, 1, 1, 1, 1, 1, 2, 2]\n"
     ]
    }
   ],
   "source": [
    "class Solution:\n",
    "    # Function to sort an array of 0s, 1s, and 2s\n",
    "    def sort012(self, arr):\n",
    "        # code here\n",
    "        n=len(arr)\n",
    "        i=j=k=0\n",
    "        for p in range(n):\n",
    "            if arr[p]==0:\n",
    "                i+=1\n",
    "            elif arr[p]==1:\n",
    "                j+=1\n",
    "            else:\n",
    "                k+=1\n",
    "        for _ in range(i):\n",
    "            arr[_]=0\n",
    "        for _ in range(i,j+i):\n",
    "            arr[_]=1\n",
    "        for _ in range(i+j,i+j+k):\n",
    "            arr[_]=2\n",
    "        return arr\n",
    "sol=Solution()\n",
    "print(sol.sort012([0, 1, 2, 0, 1, 2]))\n",
    "print(sol.sort012([0, 1, 1, 0, 1, 2, 1, 2, 0, 0, 0, 1]))"
   ]
  }
 ],
 "metadata": {
  "kernelspec": {
   "display_name": "Python 3 (ipykernel)",
   "language": "python",
   "name": "python3"
  },
  "language_info": {
   "codemirror_mode": {
    "name": "ipython",
    "version": 3
   },
   "file_extension": ".py",
   "mimetype": "text/x-python",
   "name": "python",
   "nbconvert_exporter": "python",
   "pygments_lexer": "ipython3",
   "version": "3.12.4"
  }
 },
 "nbformat": 4,
 "nbformat_minor": 5
}

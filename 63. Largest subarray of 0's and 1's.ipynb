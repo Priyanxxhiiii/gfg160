{
 "cells": [
  {
   "cell_type": "markdown",
   "id": "54122e25-500e-44ca-8c38-adb631687493",
   "metadata": {},
   "source": [
    "# Largest subarray of 0's and 1's\n"
   ]
  },
  {
   "cell_type": "markdown",
   "id": "d61f604d-bf2b-46d4-9f3a-137fa563f0aa",
   "metadata": {},
   "source": [
    "Given an array arr of 0s and 1s. Find and return the length of the longest subarray with equal number of 0s and 1s.\n",
    "\n",
    "Examples:\n",
    "\n",
    "##### Input: arr[] = [1, 0, 1, 1, 1, 0, 0]\n",
    "##### Output: 6\n",
    "Explanation: arr[1...6] is the longest subarray with three 0s and three 1s.\n",
    "##### Input: arr[] = [0, 0, 1, 1, 0]\n",
    "##### Output: 4\n",
    "Explnation: arr[0...3] or arr[1...4] is the longest subarray with two 0s and two 1s.\n",
    "##### Input: arr[] = [0]\n",
    "##### Output: 0\n",
    "Explnation: There is no subarray with an equal number of 0s and 1s.\n",
    "## Constraints:\n",
    "##### 1 <= arr.size() <= 10^5\n",
    "##### 0 <= arr[i] <= 1"
   ]
  },
  {
   "cell_type": "code",
   "execution_count": 1,
   "id": "38beadbe-240f-4383-a1f6-f80af207396c",
   "metadata": {},
   "outputs": [
    {
     "name": "stdout",
     "output_type": "stream",
     "text": [
      "6\n",
      "4\n",
      "0\n"
     ]
    }
   ],
   "source": [
    "class Solution:\n",
    "    def maxLen(self, arr):\n",
    "        # code here\n",
    "        for i in range(len(arr)):\n",
    "            if arr[i]==0:\n",
    "                arr[i]=-1\n",
    "        dict={}\n",
    "        maxlen=0\n",
    "        currsum=0\n",
    "        for i in range(len(arr)):\n",
    "            currsum+=arr[i]\n",
    "            \n",
    "            if currsum==0:\n",
    "                maxlen=i+1\n",
    "            if currsum in dict:\n",
    "                maxlen=max(maxlen, i-dict[currsum])\n",
    "            if currsum not in dict:\n",
    "                dict[currsum]=i\n",
    "        return maxlen\n",
    "sol=Solution()\n",
    "print(sol.maxLen(arr = [1, 0, 1, 1, 1, 0, 0]))\n",
    "print(sol.maxLen(arr = [0, 0, 1, 1, 0]))\n",
    "print(sol.maxLen(arr = [0]))"
   ]
  }
 ],
 "metadata": {
  "kernelspec": {
   "display_name": "Python 3 (ipykernel)",
   "language": "python",
   "name": "python3"
  },
  "language_info": {
   "codemirror_mode": {
    "name": "ipython",
    "version": 3
   },
   "file_extension": ".py",
   "mimetype": "text/x-python",
   "name": "python",
   "nbconvert_exporter": "python",
   "pygments_lexer": "ipython3",
   "version": "3.12.4"
  }
 },
 "nbformat": 4,
 "nbformat_minor": 5
}

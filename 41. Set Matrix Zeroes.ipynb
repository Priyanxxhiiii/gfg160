{
 "cells": [
  {
   "cell_type": "markdown",
   "id": "5901f3f5-a561-4ccf-949a-059ad112c526",
   "metadata": {},
   "source": [
    "# Set Matrix Zeroes\n"
   ]
  },
  {
   "cell_type": "markdown",
   "id": "283b692f-fda5-4084-8b1a-c854086cad52",
   "metadata": {},
   "source": [
    "You are given a 2D matrix mat[][] of size n×m. The task is to modify the matrix such that if mat[i][j] is 0, all the elements in the i-th row and j-th column are set to 0 and do it in constant space complexity.\n",
    "\n",
    "Examples:\n",
    "\n",
    "##### Input: mat[][] =\n",
    "                [[1, -1, 1],\n",
    "                [-1, 0, 1],\n",
    "                [1, -1, 1]]\n",
    "##### Output: \n",
    "        [[1, 0, 1],\n",
    "        [0, 0, 0],\n",
    "        [1, 0, 1]]\n",
    "Explanation: mat[1][1] = 0, so all elements in row 1 and column 1 are updated to zeroes.\n",
    "##### Input: mat[][] = \n",
    "                [[0, 1, 2, 0],\n",
    "                [3, 4, 5, 2],\n",
    "                [1, 3, 1, 5]]\n",
    "##### Output: \n",
    "        [[0, 0, 0, 0],\n",
    "        [0, 4, 5, 0],\n",
    "        [0, 3, 1, 0]]\n",
    "Explanation: mat[0][0] and mat[0][3] are 0s, so all elements in row 0, column 0 and column 3 are updated to zeroes.\n",
    "### Constraints:\n",
    "##### 1 ≤ n, m ≤ 500\n",
    "##### - 2^31 ≤ mat[i][j] ≤ 2^31 - 1"
   ]
  },
  {
   "cell_type": "code",
   "execution_count": 1,
   "id": "c5771b52-a18c-411a-81d3-ccc415d021e1",
   "metadata": {},
   "outputs": [
    {
     "name": "stdout",
     "output_type": "stream",
     "text": [
      "[[1, 0, 1], [0, 0, 0], [1, 0, 1]]\n",
      "[[0, 0, 0, 0], [0, 4, 5, 0], [0, 3, 1, 0]]\n"
     ]
    }
   ],
   "source": [
    "class Solution:\n",
    "    def setMatrixZeroes(self, mat):\n",
    "        n=len(mat)\n",
    "        m=len(mat[0])\n",
    "        for i in range(n):\n",
    "            for j in range(m):\n",
    "                if mat[i][j]==0:\n",
    "                    self.markRow(i,j,m,mat)\n",
    "                    self.markCol(i,j,n,mat)\n",
    "        for i in range(len(mat)):\n",
    "            for j in range(len(mat[0])):\n",
    "                if mat[i][j] is True:\n",
    "                    mat[i][j]=0\n",
    "        return mat\n",
    "    def markRow(self,i,j,m,mat):\n",
    "        for col in range(m):\n",
    "            if mat[i][col]!=0:\n",
    "                mat[i][col]=True\n",
    "    def markCol(self,i,j,n,mat):\n",
    "        for row in range(n):\n",
    "            if mat[row][j]!=0:\n",
    "                mat[row][j]=True\n",
    "    \n",
    "        \n",
    "sol=Solution()\n",
    "print(sol.setMatrixZeroes(mat = [[1, -1, 1], [-1, 0, 1],[1, -1, 1]]))\n",
    "print(sol.setMatrixZeroes(mat = [[0, 1, 2, 0],[3, 4, 5, 2],[1, 3, 1, 5]]))"
   ]
  }
 ],
 "metadata": {
  "kernelspec": {
   "display_name": "Python 3 (ipykernel)",
   "language": "python",
   "name": "python3"
  },
  "language_info": {
   "codemirror_mode": {
    "name": "ipython",
    "version": 3
   },
   "file_extension": ".py",
   "mimetype": "text/x-python",
   "name": "python",
   "nbconvert_exporter": "python",
   "pygments_lexer": "ipython3",
   "version": "3.12.4"
  }
 },
 "nbformat": 4,
 "nbformat_minor": 5
}

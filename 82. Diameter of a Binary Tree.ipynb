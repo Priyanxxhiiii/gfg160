{
 "cells": [
  {
   "cell_type": "markdown",
   "id": "7c17b193-a17c-4249-85c9-0cbe19988075",
   "metadata": {},
   "source": [
    "# Diameter of a Binary Tree\n"
   ]
  },
  {
   "cell_type": "markdown",
   "id": "cc07ff07-00c9-4e2c-818d-992350d5478b",
   "metadata": {},
   "source": [
    "Given a binary tree, the diameter (also known as the width) is defined as the number of edges on the longest path between two leaf nodes in the tree. This path may or may not pass through the root. Your task is to find the diameter of the tree.\n",
    "\n",
    "Examples:\n",
    "\n",
    "##### Input: root[] = [1, 2, 3]\n",
    "##### Output: 2\n",
    "Explanation: The longest path has 2 edges (node 2 -> node 1 -> node 3).\n",
    "##### Input: root[] = [5, 8, 6, 3, 7, 9]\n",
    "##### Output: 4\n",
    "Explanation: The longest path has 4 edges (node 3 -> node 8 -> node 5 -> node 6 -> node 9).\n",
    "\n",
    "## Constraints:\n",
    "##### 1 ≤ number of nodes ≤ 10^5\n",
    "##### 0 ≤ node->data ≤ 10^5"
   ]
  },
  {
   "cell_type": "code",
   "execution_count": null,
   "id": "32e99a9c-40ca-45a0-a58a-8614d7a94de2",
   "metadata": {},
   "outputs": [],
   "source": [
    "'''\n",
    "# Tree Node\n",
    "class Node:\n",
    "\n",
    "    def __init__(self, val):\n",
    "        self.right = None\n",
    "        self.data = val\n",
    "        self.left = None\n",
    "'''\n",
    "class Solution:\n",
    "    def diameter(self, root):\n",
    "        # Your code here\n",
    "        def height(node):\n",
    "            nonlocal diameter\n",
    "            if not node:\n",
    "                return 0\n",
    "            l_ht=height(node.left)\n",
    "            r_ht=height(node.right)\n",
    "            diameter=max(diameter,l_ht+r_ht)\n",
    "            return max(l_ht,r_ht)+1\n",
    "        diameter=0\n",
    "        height(root)\n",
    "        return diameter\n",
    "        "
   ]
  }
 ],
 "metadata": {
  "kernelspec": {
   "display_name": "Python 3 (ipykernel)",
   "language": "python",
   "name": "python3"
  },
  "language_info": {
   "codemirror_mode": {
    "name": "ipython",
    "version": 3
   },
   "file_extension": ".py",
   "mimetype": "text/x-python",
   "name": "python",
   "nbconvert_exporter": "python",
   "pygments_lexer": "ipython3",
   "version": "3.12.4"
  }
 },
 "nbformat": 4,
 "nbformat_minor": 5
}

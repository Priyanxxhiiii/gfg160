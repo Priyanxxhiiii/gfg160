{
 "cells": [
  {
   "cell_type": "markdown",
   "id": "ed5db1ef-d383-4b48-800d-dd8a4fb02314",
   "metadata": {},
   "source": [
    "# Implement Pow\n"
   ]
  },
  {
   "cell_type": "markdown",
   "id": "9d385f56-010f-4e7e-8fda-8981955af252",
   "metadata": {},
   "source": [
    "Implement the function power(b, e), which calculates b raised to the power of e (i.e. be).\n",
    "\n",
    "Examples:\n",
    "\n",
    "##### Input: b = 3.00000, e = 5\n",
    "##### Output: 243.00000\n",
    "##### Input: b = 0.55000, e = 3\n",
    "##### Output: 0.16638\n",
    "##### Input: b = -0.67000, e = -7\n",
    "##### Output: -16.49971\n",
    "## Constraints:\n",
    "\n",
    "##### -100.0 < b < 100.0\n",
    "##### -10^9 <= e <= 10^9\n",
    "##### Either b is not zero or e > 0.\n",
    "##### -10^4 <= b^e <= 10^4\n"
   ]
  },
  {
   "cell_type": "code",
   "execution_count": 1,
   "id": "0dbf0973-686e-4c22-9fc0-823676120e4e",
   "metadata": {},
   "outputs": [
    {
     "name": "stdout",
     "output_type": "stream",
     "text": [
      "243.00000\n",
      "0.16638\n",
      "-16.49971\n"
     ]
    }
   ],
   "source": [
    "class Solution:\n",
    "    def calc(self,b,e):\n",
    "        ans=1\n",
    "        for i in range(e):\n",
    "            ans*=b\n",
    "        return ans\n",
    "    def power(self, b: float, e: int) -> float:\n",
    "        # Code Here\n",
    "        \n",
    "        if e>=0:\n",
    "            return '%.5f' % self.calc(b,e)\n",
    "        else:\n",
    "            e=e*-1\n",
    "            return '%.5f' % (1/(self.calc(b,e)))\n",
    "sol=Solution()\n",
    "print(sol.power(b = 3.00000, e = 5))\n",
    "print(sol.power(b = 0.55000, e = 3))\n",
    "print(sol.power(b = -0.67000, e = -7))"
   ]
  },
  {
   "cell_type": "code",
   "execution_count": 2,
   "id": "35b63c9f-9ea7-4429-9cd9-544dddcce41a",
   "metadata": {},
   "outputs": [
    {
     "name": "stdout",
     "output_type": "stream",
     "text": [
      "243.00000\n",
      "0.16638\n",
      "-16.49971\n"
     ]
    }
   ],
   "source": [
    "\n",
    "class Solution:\n",
    "    def calc(self,b,e):\n",
    "        ans=1\n",
    "        while e>0:\n",
    "            if e%2==1:\n",
    "                ans*=b\n",
    "            b*=b\n",
    "            e//=2\n",
    "        \n",
    "            \n",
    "        return ans\n",
    "    def power(self, b: float, e: int) -> float:\n",
    "        # Code Here\n",
    "        \n",
    "        if e>=0:\n",
    "            return '%.5f'% self.calc(b,e)\n",
    "            \n",
    "        else:\n",
    "            e=e*-1\n",
    "            return '%.5f'% (1/self.calc(b,e))\n",
    "sol=Solution()\n",
    "print(sol.power(b = 3.00000, e = 5))\n",
    "print(sol.power(b = 0.55000, e = 3))\n",
    "print(sol.power(b = -0.67000, e = -7))"
   ]
  },
  {
   "cell_type": "code",
   "execution_count": 3,
   "id": "d88f9063-3491-4c33-a44b-accabcbaefc9",
   "metadata": {},
   "outputs": [
    {
     "name": "stdout",
     "output_type": "stream",
     "text": [
      "243.00000\n",
      "0.16638\n",
      "-16.49971\n"
     ]
    }
   ],
   "source": [
    "class Solution:\n",
    "    def power(self, b: float, e: int) -> float:\n",
    "        if e==0:\n",
    "            return 1\n",
    "        elif e<0:\n",
    "            return 1/self.power(b,-e)\n",
    "        temp=self.power(b,e//2)\n",
    "        if e%2==0:\n",
    "            return (temp*temp)\n",
    "        else:\n",
    "            return (b*temp*temp)\n",
    "sol=Solution()\n",
    "print('%.5f'% (sol.power(b = 3.00000, e = 5)))\n",
    "print('%.5f'% (sol.power(b = 0.55000, e = 3)))\n",
    "print('%.5f'% (sol.power(b = -0.67000, e = -7)))         "
   ]
  }
 ],
 "metadata": {
  "kernelspec": {
   "display_name": "Python 3 (ipykernel)",
   "language": "python",
   "name": "python3"
  },
  "language_info": {
   "codemirror_mode": {
    "name": "ipython",
    "version": 3
   },
   "file_extension": ".py",
   "mimetype": "text/x-python",
   "name": "python",
   "nbconvert_exporter": "python",
   "pygments_lexer": "ipython3",
   "version": "3.12.4"
  }
 },
 "nbformat": 4,
 "nbformat_minor": 5
}

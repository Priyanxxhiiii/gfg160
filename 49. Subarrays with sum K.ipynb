{
 "cells": [
  {
   "cell_type": "markdown",
   "id": "af448f54-8284-43c2-8ee6-492035361891",
   "metadata": {},
   "source": [
    "# Subarrays with sum K\n"
   ]
  },
  {
   "cell_type": "markdown",
   "id": "44f9652f-171c-4558-9b63-4badcee152d5",
   "metadata": {},
   "source": [
    "Given an unsorted array of integers, find the number of continuous subarrays having sum exactly equal to a given number k.\n",
    "\n",
    "Examples:\n",
    "\n",
    "##### Input: arr = [10, 2, -2, -20, 10], k = -10\n",
    "##### Output: 3\n",
    "Explaination: Subarrays: arr[0...3], arr[1...4], arr[3...4] have sum exactly equal to -10.\n",
    "##### Input: arr = [9, 4, 20, 3, 10, 5], k = 33\n",
    "##### Output: 2\n",
    "Explaination: Subarrays: arr[0...2], arr[2...4] have sum exactly equal to 33.\n",
    "##### Input: arr = [1, 3, 5], k = 0\n",
    "##### Output: 0\n",
    "Explaination: No subarray with 0 sum.\n",
    "### Constraints:\n",
    "\n",
    "##### 1 ≤ arr.size() ≤ 10^5\n",
    "##### -10^3 ≤ arr[i] ≤ 10^3\n",
    "###### -10^7 ≤ k ≤ 10^7"
   ]
  },
  {
   "cell_type": "code",
   "execution_count": 2,
   "id": "8b0864d7-a97a-4d07-af3c-ef68fd0c2137",
   "metadata": {},
   "outputs": [],
   "source": [
    "class Solution:\n",
    "    def countSubarrays(self, arr, k):\n",
    "        # code here\n",
    "        count=0\n",
    "        for i in range(len(arr)):\n",
    "            sum=0\n",
    "            for j in range(i,len(arr)):\n",
    "                sum+=arr[j]\n",
    "                if sum==k:\n",
    "                    count+=1\n",
    "        return count\n",
    "sol"
   ]
  },
  {
   "cell_type": "code",
   "execution_count": null,
   "id": "bb638e0d-8f54-42c3-93d8-3a1aa7c3d567",
   "metadata": {},
   "outputs": [],
   "source": [
    "class Solution:\n",
    "    def countSubarrays(self, arr, k):\n",
    "        # code here\n",
    "        freq={}\n",
    "        freq[0]=1\n",
    "        presum=count=0\n",
    "        for i in range(len(arr)):\n",
    "            presum+=arr[i]\n",
    "            remove=presum-k\n",
    "            if remove in freq:\n",
    "                count+=freq[remove]\n",
    "            freq[presum]=freq.get(presum,0)+1\n",
    "        return count"
   ]
  }
 ],
 "metadata": {
  "kernelspec": {
   "display_name": "Python 3 (ipykernel)",
   "language": "python",
   "name": "python3"
  },
  "language_info": {
   "codemirror_mode": {
    "name": "ipython",
    "version": 3
   },
   "file_extension": ".py",
   "mimetype": "text/x-python",
   "name": "python",
   "nbconvert_exporter": "python",
   "pygments_lexer": "ipython3",
   "version": "3.12.4"
  }
 },
 "nbformat": 4,
 "nbformat_minor": 5
}

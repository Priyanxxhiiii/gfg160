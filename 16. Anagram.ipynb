{
 "cells": [
  {
   "cell_type": "markdown",
   "id": "34a57af9-0339-4c04-baa2-b5769e41998a",
   "metadata": {},
   "source": [
    "# Anagram"
   ]
  },
  {
   "cell_type": "markdown",
   "id": "cf216c54-a2ff-4de0-93b0-366fe0a05d57",
   "metadata": {},
   "source": [
    "Given two strings s1 and s2 consisting of lowercase characters. The task is to check whether two given strings are an anagram of each other or not. An anagram of a string is another string that contains the same characters, only the order of characters can be different. For example, act and tac are an anagram of each other. Strings s1 and s2 can only contain lowercase alphabets.\n",
    "\n",
    "#### Note: You can assume both the strings s1 & s2 are non-empty.\n",
    "\n",
    "Examples :\n",
    "\n",
    "### Input: s1 = \"geeks\", s2 = \"kseeg\"\n",
    "### Output: true\n",
    "Explanation: Both the string have same characters with same frequency. So, they are anagrams.\n",
    "### Input: s1 = \"allergy\", s2 = \"allergic\"\n",
    "### Output: false\n",
    "Explanation: Characters in both the strings are not same, so they are not anagrams.\n",
    "### Input: s1 = \"g\", s2 = \"g\"\n",
    "### Output: true\n",
    "Explanation: Character in both the strings are same, so they are anagrams.\n",
    "### Constraints:\n",
    "1 ≤ s1.size(), s2.size() ≤ 10^5"
   ]
  },
  {
   "cell_type": "markdown",
   "id": "c835be2d-334c-476c-829e-5c46bbd84771",
   "metadata": {},
   "source": [
    "# Code"
   ]
  },
  {
   "cell_type": "code",
   "execution_count": 3,
   "id": "1a039d3e-051d-4856-a3c5-fb976e364df8",
   "metadata": {},
   "outputs": [
    {
     "name": "stdout",
     "output_type": "stream",
     "text": [
      "True\n",
      "False\n",
      "True\n"
     ]
    }
   ],
   "source": [
    "\n",
    "class Solution:\n",
    "    \n",
    "    #Function is to check whether two strings are anagram of each other or not.\n",
    "    def areAnagrams(self, s1, s2):\n",
    "        #code here\n",
    "        s1=sorted(s1)\n",
    "        s2=sorted(s2)\n",
    "        if s1==s2:\n",
    "            return True\n",
    "        else:\n",
    "            return False\n",
    "sol=Solution()\n",
    "print(sol.areAnagrams( \"geeks\",\"kseeg\"))\n",
    "print(sol.areAnagrams(\"allergy\",\"allergic\"))\n",
    "print(sol.areAnagrams( \"g\", \"g\"))\n",
    "#Time taken: 0.23"
   ]
  }
 ],
 "metadata": {
  "kernelspec": {
   "display_name": "Python 3 (ipykernel)",
   "language": "python",
   "name": "python3"
  },
  "language_info": {
   "codemirror_mode": {
    "name": "ipython",
    "version": 3
   },
   "file_extension": ".py",
   "mimetype": "text/x-python",
   "name": "python",
   "nbconvert_exporter": "python",
   "pygments_lexer": "ipython3",
   "version": "3.12.4"
  }
 },
 "nbformat": 4,
 "nbformat_minor": 5
}

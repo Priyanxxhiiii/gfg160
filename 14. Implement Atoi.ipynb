{
 "cells": [
  {
   "cell_type": "markdown",
   "id": "16f7bdf3-504f-4939-b0ad-74a3472f20f9",
   "metadata": {},
   "source": [
    "# Implement Atoi\n"
   ]
  },
  {
   "cell_type": "markdown",
   "id": "693e7a67-d4aa-45af-ac8c-8246aea57a5c",
   "metadata": {},
   "source": [
    "Given a string s, the objective is to convert it into integer format without utilizing any built-in functions. Refer the below steps to know about atoi() function.\n",
    "\n",
    "Cases for atoi() conversion:\n",
    "\n",
    "- Skip any leading whitespaces.\n",
    "- Check for a sign (‘+’ or ‘-‘), default to positive if no sign is present.\n",
    "- Read the integer by ignoring leading zeros until a non-digit character is encountered or end of the string is reached. If no digits are present, return 0.\n",
    "- If the integer is greater than 2^31 – 1, then return 2^31 – 1 and if the integer is smaller than -2^31, then return -2^31.\n",
    "- \n",
    "Examples:\n",
    "\n",
    "### Input: s = \"-123\"\n",
    "### Output: -123\n",
    "Explanation: It is possible to convert -123 into an integer so we returned in the form of an integer\n",
    "### Input: s = \"  -\"\n",
    "### Output: 0\n",
    "Explanation: No digits are present, therefore the returned answer is 0.\n",
    "### Input: s = \" 1231231231311133\"\n",
    "### Output: 2147483647\n",
    "Explanation: The converted number will be greater than 231 – 1, therefore print 231 – 1 = 2147483647.\n",
    "### Input: s = \"-999999999999\"\n",
    "### Output: -2147483648\n",
    "Explanation: The converted number is smaller than -231, therefore print -231 = -2147483648.\n",
    "### Input: s = \"  -0012gfg4\"\n",
    "### Output: -12\n",
    "Explanation: Nothing is read after -12 as a non-digit character ‘g’ was encountered.\n",
    "### Constraints:\n",
    "1 ≤ |s| ≤ 15"
   ]
  },
  {
   "cell_type": "markdown",
   "id": "8b8b5813-c140-4b36-a467-3b51ea6fa9b7",
   "metadata": {},
   "source": [
    "# My Code"
   ]
  },
  {
   "cell_type": "code",
   "execution_count": 3,
   "id": "fcb3d3a1-0c37-46bb-bba6-9dc4d7125988",
   "metadata": {},
   "outputs": [
    {
     "name": "stdout",
     "output_type": "stream",
     "text": [
      "-123\n",
      "0\n",
      "2147483647\n",
      "-2147483648\n",
      "-12\n"
     ]
    }
   ],
   "source": [
    "#User function template for Python\n",
    "class Solution:\n",
    "    def myAtoi(self, s):\n",
    "        # Code here\n",
    "        i=0\n",
    "        f=False\n",
    "        for char in s:\n",
    "            if char==' ':\n",
    "                i+=1\n",
    "        if s[i]=='-':\n",
    "            f=True\n",
    "            i+=1\n",
    "        digits='0123456789'\n",
    "        sum=k=0\n",
    "        for j in range(len(s)-1,i-1,-1):\n",
    "            if s[j] in digits:\n",
    "                sum+=int(s[j])*(10**k)\n",
    "                k+=1\n",
    "            else:\n",
    "                sum=k=0\n",
    "        if f:\n",
    "            sum*=-1\n",
    "        if sum>(2**31 - 1):\n",
    "            return (2**31 - 1)\n",
    "        elif sum<(-2**31):\n",
    "            return (-2**31)\n",
    "        else:\n",
    "            return sum\n",
    "sol=Solution()\n",
    "print(sol.myAtoi(\"-123\"))\n",
    "print(sol.myAtoi(\" -\"))\n",
    "print(sol.myAtoi(\" 1231231231311133\"))\n",
    "print(sol.myAtoi(\"-999999999999\"))\n",
    "print(sol.myAtoi(\"  -0012gfg\"))"
   ]
  }
 ],
 "metadata": {
  "kernelspec": {
   "display_name": "Python 3 (ipykernel)",
   "language": "python",
   "name": "python3"
  },
  "language_info": {
   "codemirror_mode": {
    "name": "ipython",
    "version": 3
   },
   "file_extension": ".py",
   "mimetype": "text/x-python",
   "name": "python",
   "nbconvert_exporter": "python",
   "pygments_lexer": "ipython3",
   "version": "3.12.4"
  }
 },
 "nbformat": 4,
 "nbformat_minor": 5
}

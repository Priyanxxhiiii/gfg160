{
 "cells": [
  {
   "cell_type": "markdown",
   "id": "1ce47281-2b32-4f1f-ae13-e3c040227974",
   "metadata": {},
   "source": [
    "# Count the number of possible triangles\n"
   ]
  },
  {
   "cell_type": "markdown",
   "id": "21581100-5503-4826-87e0-be46e9bfa55a",
   "metadata": {},
   "source": [
    "Given an integer array arr[]. Find the number of triangles that can be formed with three different array elements as lengths of three sides of the triangle. \n",
    "\n",
    "A triangle with three given sides is only possible if sum of any two sides is always greater than the third side.\n",
    "\n",
    "Examples:\n",
    "\n",
    "##### Input: arr[] = [4, 6, 3, 7]\n",
    "##### Output: 3\n",
    "Explanation: There are three triangles possible [3, 4, 6], [4, 6, 7] and [3, 6, 7]. Note that [3, 4, 7] is not a possible triangle.  \n",
    "##### Input: arr[] = [10, 21, 22, 100, 101, 200, 300]\n",
    "##### Output: 6\n",
    "Explanation: There can be 6 possible triangles: [10, 21, 22], [21, 100, 101], [22, 100, 101], [10, 100, 101], [100, 101, 200] and [101, 200, 300]\n",
    "##### Input: arr[] = [1, 2, 3]\n",
    "##### Output: 0\n",
    "Explanation: No triangles are possible.\n",
    "## Constraints:\n",
    "##### 3 <= arr.size() <= 10^3\n",
    "##### 0 <= arr[i] <= 10^5"
   ]
  },
  {
   "cell_type": "code",
   "execution_count": 1,
   "id": "e4971b79-6581-4a32-8ef4-9b53e8490985",
   "metadata": {},
   "outputs": [
    {
     "name": "stdout",
     "output_type": "stream",
     "text": [
      "3\n",
      "6\n",
      "33\n"
     ]
    }
   ],
   "source": [
    "class Solution:\n",
    "    #Function to count the number of possible triangles.\n",
    "    def countTriangles(self, arr):\n",
    "        # code here\n",
    "        arr.sort()\n",
    "        cnt=0\n",
    "        for i in range(len(arr)-1,1,-1):\n",
    "            for j in range(i-1,0,-1):\n",
    "                for k in range(j-1,-1,-1):\n",
    "                    if (arr[k]+arr[j])>arr[i]:\n",
    "                        cnt+=1\n",
    "        return cnt\n",
    "sol=Solution()\n",
    "print(sol.countTriangles(arr = [4, 6, 3, 7]))\n",
    "print(sol.countTriangles(arr = [10, 21, 22, 100, 101, 200, 300]))\n",
    "print(sol.countTriangles(arr=[7,9,10,15,22,33,34,42,47]))"
   ]
  },
  {
   "cell_type": "code",
   "execution_count": 2,
   "id": "78b1e800-4c76-49f5-94bf-63a3fc0817f6",
   "metadata": {},
   "outputs": [
    {
     "name": "stdout",
     "output_type": "stream",
     "text": [
      "3\n",
      "6\n",
      "33\n"
     ]
    }
   ],
   "source": [
    "class Solution:\n",
    "    #Function to count the number of possible triangles.\n",
    "    def countTriangles(self, arr):\n",
    "        # code here\n",
    "        arr.sort()\n",
    "        cnt=0\n",
    "        for i in range(len(arr)-1,1,-1):\n",
    "            k=0\n",
    "            j=(i-1)\n",
    "            while k<j:\n",
    "                if (arr[k]+arr[j])>arr[i]:\n",
    "                    cnt+=(j-k)\n",
    "                    j-=1\n",
    "                else:\n",
    "                    k+=1\n",
    "        return cnt\n",
    "sol=Solution()\n",
    "print(sol.countTriangles(arr = [4, 6, 3, 7]))\n",
    "print(sol.countTriangles(arr = [10, 21, 22, 100, 101, 200, 300]))\n",
    "print(sol.countTriangles(arr=[7,9,10,15,22,33,34,42,47]))"
   ]
  }
 ],
 "metadata": {
  "kernelspec": {
   "display_name": "Python 3 (ipykernel)",
   "language": "python",
   "name": "python3"
  },
  "language_info": {
   "codemirror_mode": {
    "name": "ipython",
    "version": 3
   },
   "file_extension": ".py",
   "mimetype": "text/x-python",
   "name": "python",
   "nbconvert_exporter": "python",
   "pygments_lexer": "ipython3",
   "version": "3.12.4"
  }
 },
 "nbformat": 4,
 "nbformat_minor": 5
}

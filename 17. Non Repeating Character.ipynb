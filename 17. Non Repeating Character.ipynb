{
 "cells": [
  {
   "cell_type": "markdown",
   "id": "a1972475-6454-46b4-8741-0a1f3fc621ef",
   "metadata": {},
   "source": [
    "# Non Repeating Character\n"
   ]
  },
  {
   "cell_type": "markdown",
   "id": "7521965f-9ad2-4124-b0f3-73cc49a64eb3",
   "metadata": {},
   "source": [
    "Given a string s consisting of lowercase Latin Letters. Return the first non-repeating character in s. If there is no non-repeating character, return '$'.\n",
    "Note: When you return '$' driver code will output -1.\n",
    "\n",
    "### Examples:\n",
    "\n",
    "#### Input: s = \"geeksforgeeks\"\n",
    "#### Output: 'f'\n",
    "Explanation: In the given string, 'f' is the first character in the string which does not repeat.\n",
    "#### Input: s = \"racecar\"\n",
    "#### Output: 'e'\n",
    "Explanation: In the given string, 'e' is the only character in the string which does not repeat.\n",
    "#### Input: s = \"aabbccc\"\n",
    "#### Output: -1\n",
    "Explanation: All the characters in the given string are repeating.\n",
    "#### Constraints:\n",
    "1 <= s.size() <= 10^5"
   ]
  },
  {
   "cell_type": "code",
   "execution_count": 8,
   "id": "314d6188-6243-46b0-87c3-765fe901198d",
   "metadata": {},
   "outputs": [
    {
     "name": "stdout",
     "output_type": "stream",
     "text": [
      "f\n",
      "e\n",
      "$\n"
     ]
    }
   ],
   "source": [
    "def nonRepeatingChar(s):\n",
    "    #code here\n",
    "    dict1={}\n",
    "    for k in s:\n",
    "        dict1[k]=dict1.get(k,0)+1\n",
    "        \n",
    "    for key,value in dict1.items():\n",
    "        if value==1:\n",
    "            return key\n",
    "    return '$'\n",
    "print(nonRepeatingChar('geeksforgeeks'))\n",
    "print(nonRepeatingChar('racecar'))\n",
    "print(nonRepeatingChar('aabbccc'))"
   ]
  }
 ],
 "metadata": {
  "kernelspec": {
   "display_name": "Python 3 (ipykernel)",
   "language": "python",
   "name": "python3"
  },
  "language_info": {
   "codemirror_mode": {
    "name": "ipython",
    "version": 3
   },
   "file_extension": ".py",
   "mimetype": "text/x-python",
   "name": "python",
   "nbconvert_exporter": "python",
   "pygments_lexer": "ipython3",
   "version": "3.12.4"
  }
 },
 "nbformat": 4,
 "nbformat_minor": 5
}

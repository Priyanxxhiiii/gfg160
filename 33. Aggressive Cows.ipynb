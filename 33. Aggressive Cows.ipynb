{
 "cells": [
  {
   "cell_type": "markdown",
   "id": "26baf9b2-6629-4ad1-84da-ae7d114bff11",
   "metadata": {},
   "source": [
    "# Aggressive Cows\n"
   ]
  },
  {
   "cell_type": "markdown",
   "id": "2c81c29b-4207-4b7d-990f-d3b750d5337e",
   "metadata": {},
   "source": [
    "You are given an array with unique elements of stalls[], which denote the position of a stall. You are also given an integer k which denotes the number of aggressive cows. Your task is to assign stalls to k cows such that the minimum distance between any two of them is the maximum possible.\n",
    "\n",
    "Examples :\n",
    "\n",
    "##### Input: stalls[] = [1, 2, 4, 8, 9], k = 3\n",
    "##### Output: 3\n",
    "Explanation: The first cow can be placed at stalls[0], \n",
    "the second cow can be placed at stalls[2] and \n",
    "the third cow can be placed at stalls[3]. \n",
    "The minimum distance between cows, in this case, is 3, which also is the largest among all possible ways.\n",
    "##### Input: stalls[] = [10, 1, 2, 7, 5], k = 3\n",
    "##### Output: 4\n",
    "Explanation: The first cow can be placed at stalls[0],\n",
    "the second cow can be placed at stalls[1] and\n",
    "the third cow can be placed at stalls[4].\n",
    "The minimum distance between cows, in this case, is 4, which also is the largest among all possible ways.\n",
    "##### Input: stalls[] = [2, 12, 11, 3, 26, 7], k = 5\n",
    "##### Output: 1\n",
    "Explanation: Each cow can be placed in any of the stalls, as the no. of stalls are exactly equal to the number of cows.\n",
    "The minimum distance between cows, in this case, is 1, which also is the largest among all possible ways.\n",
    "### Constraints:\n",
    "##### 2 <= stalls.size() <= 10^6\n",
    "##### 0 <= stalls[i] <= 10^8\n",
    "##### 1 <= k <= stalls.size()"
   ]
  },
  {
   "cell_type": "code",
   "execution_count": 2,
   "id": "20e23418-b63c-4ead-89c4-3e78215c946c",
   "metadata": {},
   "outputs": [
    {
     "name": "stdout",
     "output_type": "stream",
     "text": [
      "3\n",
      "4\n",
      "1\n"
     ]
    }
   ],
   "source": [
    "class Solution:\n",
    "    def aggressiveCows(self, stalls, k):\n",
    "        stalls.sort()\n",
    "        low=1\n",
    "        high=stalls[-1]-stalls[0]\n",
    "        result=0\n",
    "        while low<=high:\n",
    "            mid=low+(high-low)//2\n",
    "            if self.can_place_cows(stalls, k, mid):\n",
    "                result=mid\n",
    "                low=mid+1\n",
    "            else:\n",
    "                high=mid-1\n",
    "        return result\n",
    "    def can_place_cows(self, stalls, k, dist):\n",
    "        count=1\n",
    "        last_pos=stalls[0]\n",
    "        for i in range(1,len(stalls)):\n",
    "            if stalls[i]-last_pos>=dist:\n",
    "                count+=1\n",
    "                last_pos=stalls[i]\n",
    "                if count==k:\n",
    "                    return True\n",
    "        return False\n",
    "if __name__=='__main__':\n",
    "    sol=Solution()\n",
    "    print(sol.aggressiveCows(stalls = [1, 2, 4, 8, 9], k = 3))\n",
    "    print(sol.aggressiveCows(stalls= [10, 1, 2, 7, 5], k = 3))\n",
    "    print(sol.aggressiveCows(stalls = [2, 12, 11, 3, 26, 7], k = 5))\n",
    "    "
   ]
  }
 ],
 "metadata": {
  "kernelspec": {
   "display_name": "Python 3 (ipykernel)",
   "language": "python",
   "name": "python3"
  },
  "language_info": {
   "codemirror_mode": {
    "name": "ipython",
    "version": 3
   },
   "file_extension": ".py",
   "mimetype": "text/x-python",
   "name": "python",
   "nbconvert_exporter": "python",
   "pygments_lexer": "ipython3",
   "version": "3.12.4"
  }
 },
 "nbformat": 4,
 "nbformat_minor": 5
}

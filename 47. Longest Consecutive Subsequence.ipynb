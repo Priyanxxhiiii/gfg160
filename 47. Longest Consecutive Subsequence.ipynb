{
 "cells": [
  {
   "cell_type": "markdown",
   "id": "9e29e47c-9e51-48e0-9b8f-237a7e0482c2",
   "metadata": {},
   "source": [
    "# Longest Consecutive Subsequence\n"
   ]
  },
  {
   "cell_type": "markdown",
   "id": "e787ccfe-6ffd-4f78-81a5-ee6b333eb980",
   "metadata": {},
   "source": [
    "Given an array arr[] of non-negative integers. Find the length of the longest sub-sequence such that elements in the subsequence are consecutive integers, the consecutive numbers can be in any order.\n",
    "\n",
    "Examples:\n",
    "\n",
    "##### Input: arr[] = [2, 6, 1, 9, 4, 5, 3]\n",
    "##### Output: 6\n",
    "Explanation: The consecutive numbers here are 1, 2, 3, 4, 5, 6. These 6 numbers form the longest consecutive subsquence.\n",
    "##### Input: arr[] = [1, 9, 3, 10, 4, 20, 2]\n",
    "##### Output: 4\n",
    "Explanation: 1, 2, 3, 4 is the longest consecutive subsequence.\n",
    "##### Input: arr[] = [15, 13, 12, 14, 11, 10, 9]\n",
    "##### Output: 7\n",
    "Explanation: The longest consecutive subsequence is 9, 10, 11, 12, 13, 14, 15, which has a length of 7.\n",
    "## Constraints:\n",
    "##### 1 <= arr.size() <= 10^5\n",
    "##### 0 <= arr[i] <= 10^5"
   ]
  },
  {
   "cell_type": "code",
   "execution_count": 1,
   "id": "5895a4b3-937b-49f9-bd55-902aac7e7cec",
   "metadata": {},
   "outputs": [
    {
     "name": "stdout",
     "output_type": "stream",
     "text": [
      "6\n",
      "4\n",
      "7\n"
     ]
    }
   ],
   "source": [
    "class Solution:\n",
    "    \n",
    "    # arr[] : the input array\n",
    "    \n",
    "    #Function to return length of longest subsequence of consecutive integers.\n",
    "    def longestConsecutive(self,arr):\n",
    "        #code here\n",
    "        a=set(arr)\n",
    "        max_strk=0\n",
    "        for num in arr:\n",
    "            if num in a and num-1 not in a:\n",
    "                curr_num=num\n",
    "                curr_strk=0\n",
    "                while curr_num in a:\n",
    "                    a.remove(curr_num)\n",
    "                    curr_num+=1\n",
    "                    curr_strk+=1\n",
    "                max_strk=max(curr_strk,max_strk)\n",
    "        return max_strk\n",
    "sol=Solution()\n",
    "print(sol.longestConsecutive(arr = [2, 6, 1, 9, 4, 5, 3]))\n",
    "print(sol.longestConsecutive(arr = [1, 9, 3, 10, 4, 20, 2]))\n",
    "print(sol.longestConsecutive(arr = [15, 13, 12, 14, 11, 10, 9]))"
   ]
  }
 ],
 "metadata": {
  "kernelspec": {
   "display_name": "Python 3 (ipykernel)",
   "language": "python",
   "name": "python3"
  },
  "language_info": {
   "codemirror_mode": {
    "name": "ipython",
    "version": 3
   },
   "file_extension": ".py",
   "mimetype": "text/x-python",
   "name": "python",
   "nbconvert_exporter": "python",
   "pygments_lexer": "ipython3",
   "version": "3.12.4"
  }
 },
 "nbformat": 4,
 "nbformat_minor": 5
}

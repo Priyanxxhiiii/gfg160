{
 "cells": [
  {
   "cell_type": "markdown",
   "id": "30848df2-93eb-438f-8f18-990882726d41",
   "metadata": {},
   "source": [
    "# Count Subarrays with given XOR"
   ]
  },
  {
   "cell_type": "markdown",
   "id": "32e87f16-8b0b-493c-a313-5af4ef861f17",
   "metadata": {},
   "source": [
    "Given an array of integers arr[] and a number k, count the number of subarrays having XOR of their elements as k.\n",
    "\n",
    "Examples: \n",
    "\n",
    "##### Input: arr[] = [4, 2, 2, 6, 4], k = 6\n",
    "##### Output: 4\n",
    "Explanation: The subarrays having XOR of their elements as 6 are [4, 2], [4, 2, 2, 6, 4], [2, 2, 6], and [6]. Hence, the answer is 4.\n",
    "##### Input: arr[] = [5, 6, 7, 8, 9], k = 5\n",
    "##### Output: 2\n",
    "Explanation: The subarrays having XOR of their elements as 5 are [5] and [5, 6, 7, 8, 9]. Hence, the answer is 2.\n",
    " \n",
    "##### Input: arr[] = [1, 1, 1, 1], k = 0\n",
    "##### Output: 4\n",
    "Explanation: The subarrays are [1, 1], [1, 1], [1, 1] and [1, 1, 1, 1] \n",
    " \n",
    "\n",
    "## Constraints:\n",
    "\n",
    "##### 1 ≤ arr.size() ≤ 10^5\n",
    "##### 0 ≤ arr[i] ≤10^5\n",
    "##### 0 ≤ k ≤ 10^5\n"
   ]
  },
  {
   "cell_type": "code",
   "execution_count": 1,
   "id": "7912330e-8abd-432f-975c-4a22eaf2770b",
   "metadata": {},
   "outputs": [
    {
     "name": "stdout",
     "output_type": "stream",
     "text": [
      "4\n",
      "2\n",
      "4\n"
     ]
    }
   ],
   "source": [
    "class Solution:\n",
    "    def subarrayXor(self, arr, k):\n",
    "        # code here\n",
    "        freq={}\n",
    "        freq[0]=1\n",
    "        prexor=count=0\n",
    "        for num in arr:\n",
    "            prexor=prexor^num\n",
    "            remove=prexor^k\n",
    "            if remove in freq:\n",
    "                count+=freq[remove]\n",
    "            freq[prexor]=freq.get(prexor,0)+1\n",
    "        return count\n",
    "sol=Solution()\n",
    "print(sol.subarrayXor(arr = [4, 2, 2, 6, 4], k = 6))\n",
    "print(sol.subarrayXor(arr = [5, 6, 7, 8, 9], k = 5))\n",
    "print(sol.subarrayXor(arr = [1, 1, 1, 1], k = 0))"
   ]
  },
  {
   "cell_type": "code",
   "execution_count": 2,
   "id": "316f9bed-eb24-4094-b33d-3441eb19e93f",
   "metadata": {},
   "outputs": [
    {
     "name": "stdout",
     "output_type": "stream",
     "text": [
      "4\n",
      "2\n",
      "4\n"
     ]
    }
   ],
   "source": [
    "class Solution:\n",
    "    def subarrayXor(self, arr, k):\n",
    "        # code here\n",
    "        count=0\n",
    "        for i in range(len(arr)):\n",
    "            xor=0\n",
    "            for j in range(i,len(arr)):\n",
    "                xor^=arr[j]\n",
    "                if xor==k:\n",
    "                    count+=1\n",
    "        return count\n",
    "sol=Solution()\n",
    "print(sol.subarrayXor(arr = [4, 2, 2, 6, 4], k = 6))\n",
    "print(sol.subarrayXor(arr = [5, 6, 7, 8, 9], k = 5))\n",
    "print(sol.subarrayXor(arr = [1, 1, 1, 1], k = 0))"
   ]
  }
 ],
 "metadata": {
  "kernelspec": {
   "display_name": "Python 3 (ipykernel)",
   "language": "python",
   "name": "python3"
  },
  "language_info": {
   "codemirror_mode": {
    "name": "ipython",
    "version": 3
   },
   "file_extension": ".py",
   "mimetype": "text/x-python",
   "name": "python",
   "nbconvert_exporter": "python",
   "pygments_lexer": "ipython3",
   "version": "3.12.4"
  }
 },
 "nbformat": 4,
 "nbformat_minor": 5
}

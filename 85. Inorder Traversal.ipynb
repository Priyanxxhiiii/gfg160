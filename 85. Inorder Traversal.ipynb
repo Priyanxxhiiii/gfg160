{
 "cells": [
  {
   "cell_type": "markdown",
   "id": "d2a0bfb0-047f-4817-83e8-8015df06430f",
   "metadata": {},
   "source": [
    "# Inorder Traversal\n"
   ]
  },
  {
   "cell_type": "markdown",
   "id": "60aaef2a-d3cd-4fd1-a471-668057f24def",
   "metadata": {},
   "source": [
    "Given a Binary Tree, your task is to return its In-Order Traversal.\n",
    "\n",
    "An inorder traversal first visits the left child (including its entire subtree), then visits the node, and finally visits the right child (including its entire subtree).\n",
    "\n",
    "Examples:\n",
    "\n",
    "##### Input: root[] = [1, 2, 3, 4, 5] \n",
    "##### Output: [4, 2, 5, 1, 3]\n",
    "Explanation: The in-order traversal of the given binary tree is [4, 2, 5, 1, 3].\n",
    "##### Input: root[] = [8, 1, 5, N, 7, 10, 6, N, 10, 6]\n",
    "##### Output: [1, 7, 10, 8, 6, 10, 5, 6]\n",
    "Explanation: The in-order traversal of the given binary tree is [1, 7, 10, 8, 6, 10, 5, 6].\n",
    "## Constraints:\n",
    "##### 1 <= number of nodes <= 10^5\n",
    "##### 0 <= node->data <= 10^5\n",
    "\n"
   ]
  },
  {
   "cell_type": "code",
   "execution_count": null,
   "id": "248a5ff2-4df5-4be6-b232-27c510c62be7",
   "metadata": {},
   "outputs": [],
   "source": [
    "'''\n",
    "# Node Class:\n",
    "class Node:\n",
    "    def init(self,val):\n",
    "        self.data = val\n",
    "        self.left = None\n",
    "        self.right = None\n",
    "'''\n",
    "\n",
    "class Solution:\n",
    "    def inOrder(self,root):\n",
    "        # code here\n",
    "        res=[]\n",
    "        curr=root\n",
    "        \n",
    "        while curr is not None:\n",
    "            if curr.left is None:\n",
    "                res.append(curr.data)\n",
    "                curr=curr.right\n",
    "                \n",
    "            else:\n",
    "                prev=curr.left\n",
    "                while prev.right is not None and prev.right!=curr:\n",
    "                    prev=prev.right\n",
    "                    \n",
    "                if prev.right is None:\n",
    "                    prev.right=curr\n",
    "                    curr=curr.left\n",
    "                    \n",
    "                else:\n",
    "                    prev.right=None\n",
    "                    res.append(curr.data)\n",
    "                    curr=curr.right\n",
    "        return res\n"
   ]
  }
 ],
 "metadata": {
  "kernelspec": {
   "display_name": "Python 3 (ipykernel)",
   "language": "python",
   "name": "python3"
  },
  "language_info": {
   "codemirror_mode": {
    "name": "ipython",
    "version": 3
   },
   "file_extension": ".py",
   "mimetype": "text/x-python",
   "name": "python",
   "nbconvert_exporter": "python",
   "pygments_lexer": "ipython3",
   "version": "3.12.4"
  }
 },
 "nbformat": 4,
 "nbformat_minor": 5
}

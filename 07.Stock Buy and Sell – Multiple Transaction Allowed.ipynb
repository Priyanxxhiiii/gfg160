{
 "cells": [
  {
   "cell_type": "markdown",
   "id": "7c4edc84-9fc5-4e4e-813d-d60d71acd035",
   "metadata": {},
   "source": [
    "The cost of stock on each day is given in an array price[]. Each day you may decide to either buy or sell the stock at price[i], you can even buy and sell the stock on the same day. Find the maximum profit that you can get.\n",
    "\n",
    "Note: A stock can only be sold if it has been bought previously and multiple stocks cannot be held on any given day.\n",
    "\n",
    "Examples:\n",
    "\n",
    "#### Input: prices[] = [100, 180, 260, 310, 40, 535, 695]\n",
    "#### Output: 865\n",
    "Explanation: Buy the stock on day 0 and sell it on day 3 => 310 – 100 = 210. Buy the stock on day 4 and sell it on day 6 => 695 – 40 = 655. Maximum Profit = 210 + 655 = 865.\n",
    "\n",
    "#### Input: prices[] = [4, 2, 2, 2, 4]\n",
    "#### Output: 2\n",
    "Explanation: Buy the stock on day 3 and sell it on day 4 => 4 – 2 = 2. Maximum Profit = 2.\n",
    "#### Constraints:\n",
    "#### 1 <= prices.size() <= 10^5\n",
    "#### 0 <= prices[i] <= 10^4"
   ]
  },
  {
   "cell_type": "markdown",
   "id": "d11c34bf-914d-46c2-b1af-67cd90579af8",
   "metadata": {},
   "source": [
    "# Code"
   ]
  },
  {
   "cell_type": "code",
   "execution_count": 1,
   "id": "5fdc15d1-3667-47a3-9236-df773500cc5a",
   "metadata": {},
   "outputs": [
    {
     "name": "stdout",
     "output_type": "stream",
     "text": [
      "865\n",
      "2\n"
     ]
    }
   ],
   "source": [
    "from typing import List\n",
    "class Solution:\n",
    "    def maximumProfit(self, prices) -> int:\n",
    "        # code here\n",
    "        n=len(prices)\n",
    "        max_profit=0\n",
    "        for i in range(1,n):\n",
    "            if prices[i]>prices[i-1]:\n",
    "                max_profit=max_profit+(prices[i]-prices[i-1])\n",
    "        return max_profit\n",
    "sol=Solution()\n",
    "print(sol.maximumProfit([100, 180, 260, 310, 40, 535, 695]))\n",
    "print(sol.maximumProfit([4, 2, 2, 2, 4]))"
   ]
  }
 ],
 "metadata": {
  "kernelspec": {
   "display_name": "Python 3 (ipykernel)",
   "language": "python",
   "name": "python3"
  },
  "language_info": {
   "codemirror_mode": {
    "name": "ipython",
    "version": 3
   },
   "file_extension": ".py",
   "mimetype": "text/x-python",
   "name": "python",
   "nbconvert_exporter": "python",
   "pygments_lexer": "ipython3",
   "version": "3.12.4"
  }
 },
 "nbformat": 4,
 "nbformat_minor": 5
}

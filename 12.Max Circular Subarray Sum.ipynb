{
 "cells": [
  {
   "cell_type": "markdown",
   "id": "876cb83c-dbcf-4fa9-8b1a-e64e6b7c843c",
   "metadata": {},
   "source": [
    "# Max Circular Subarray Sum"
   ]
  },
  {
   "cell_type": "markdown",
   "id": "5b94925b-e7e6-460b-a45a-19be1f22c817",
   "metadata": {},
   "source": [
    "Given an array of integers arr[] in a circular fashion. Find the maximum subarray sum that we can get if we assume the array to be circular.\n",
    "\n",
    "Examples:\n",
    "\n",
    "### Input: arr[] = [8, -8, 9, -9, 10, -11, 12]\n",
    "### Output: 22\n",
    "Explanation: Starting from the last element of the array, i.e, 12, and moving in a circular fashion, we have max subarray as 12, 8, -8, 9, -9, 10, which gives maximum sum as 22.\n",
    "### Input: arr[] = [10, -3, -4, 7, 6, 5, -4, -1]\n",
    "### Output: 23\n",
    "Explanation: Maximum sum of the circular subarray is 23. The subarray is [7, 6, 5, -4, -1, 10].\n",
    "### Input: arr[] = [-1, 40, -14, 7, 6, 5, -4, -1] \n",
    "### Output: 52\n",
    "Explanation: Circular Subarray [7, 6, 5, -4, -1, -1, 40] has the maximum sum, which is 52.\n",
    "### Constraints:\n",
    "#### 1 <= arr.size() <= 10^5\n",
    "#### -10^4 <= arr[i] <= 10^4"
   ]
  },
  {
   "cell_type": "markdown",
   "id": "27032ec5-47cc-4eba-b17a-1109a2becb69",
   "metadata": {},
   "source": [
    "# Optimal"
   ]
  },
  {
   "cell_type": "code",
   "execution_count": 1,
   "id": "fe6f9eb8-8573-440f-a826-4401494059fa",
   "metadata": {},
   "outputs": [
    {
     "name": "stdout",
     "output_type": "stream",
     "text": [
      "22\n",
      "23\n",
      "52\n"
     ]
    }
   ],
   "source": [
    "def circularSubarraySum(arr):\n",
    "    ##Your code here\n",
    "    n=len(arr)\n",
    "    def max_kadane(arr):\n",
    "        sum1=maxsum=arr[0]\n",
    "        for i in range(1,n):\n",
    "            sum1=max(arr[i],sum1+arr[i])\n",
    "            if sum1>maxsum:\n",
    "                maxsum=sum1\n",
    "        return maxsum\n",
    "    def min_kadane(arr):\n",
    "        sum2=minsum=arr[0]\n",
    "        for i in range(1,n):\n",
    "            sum2=min(arr[i],sum2+arr[i])\n",
    "            if sum2<minsum:\n",
    "                minsum=sum2\n",
    "        return minsum\n",
    "    kadane_max=max_kadane(arr)\n",
    "    kadane_min=min_kadane(arr)\n",
    "    total_sum=sum(arr)\n",
    "    \n",
    "    if kadane_max <0:\n",
    "        return kadane_max\n",
    "    \n",
    "    final_sum=(total_sum-kadane_min)\n",
    "    return max(kadane_max, final_sum)\n",
    "print(circularSubarraySum([8, -8, 9, -9, 10, -11, 12]))\n",
    "print(circularSubarraySum([10, -3, -4, 7, 6, 5, -4, -1]))\n",
    "print(circularSubarraySum([-1, 40, -14, 7, 6, 5, -4, -1]))"
   ]
  },
  {
   "cell_type": "markdown",
   "id": "b9b10c32-a14a-4106-b149-b67d48ce059d",
   "metadata": {},
   "source": [
    "# Brute force"
   ]
  },
  {
   "cell_type": "code",
   "execution_count": 4,
   "id": "f5923e16-1a81-4f92-a082-19f86754c3b3",
   "metadata": {},
   "outputs": [
    {
     "name": "stdout",
     "output_type": "stream",
     "text": [
      "23\n"
     ]
    }
   ],
   "source": [
    "arr=[10, -3, -4, 7, 6, 5, -4, -1]\n",
    "n=len(arr)\n",
    "arr3=arr*2\n",
    "sum=0\n",
    "maxsum=arr[0]\n",
    "k=0\n",
    "for j in range(n):\n",
    "    for i in range(k,n+k):\n",
    "        sum+=arr3[i]\n",
    "        maxsum=max(sum,maxsum)\n",
    "        if sum<0:\n",
    "            sum=0\n",
    "    k+=1\n",
    "    sum=0\n",
    "\n",
    "print(maxsum)\n"
   ]
  }
 ],
 "metadata": {
  "kernelspec": {
   "display_name": "Python 3 (ipykernel)",
   "language": "python",
   "name": "python3"
  },
  "language_info": {
   "codemirror_mode": {
    "name": "ipython",
    "version": 3
   },
   "file_extension": ".py",
   "mimetype": "text/x-python",
   "name": "python",
   "nbconvert_exporter": "python",
   "pygments_lexer": "ipython3",
   "version": "3.12.4"
  }
 },
 "nbformat": 4,
 "nbformat_minor": 5
}

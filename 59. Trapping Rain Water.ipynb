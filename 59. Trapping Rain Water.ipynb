{
 "cells": [
  {
   "cell_type": "markdown",
   "id": "7c90c05f-2dbb-4987-bd29-5c1ab8d82ace",
   "metadata": {},
   "source": [
    "# Trapping Rain Water"
   ]
  },
  {
   "cell_type": "markdown",
   "id": "b4f4c162-fd42-42d3-99ca-5c9e11506bbc",
   "metadata": {},
   "source": [
    "Given an array arr[] with non-negative integers representing the height of blocks. If the width of each block is 1, compute how much water can be trapped between the blocks during the rainy season. \n",
    "\n",
    "Examples:\n",
    "\n",
    "##### Input: arr[] = [3, 0, 1, 0, 4, 0 2]\n",
    "##### Output: 10\n",
    "Explanation: Total water trapped = 0 + 3 + 2 + 3 + 0 + 2 + 0 = 10 units.\n",
    "\n",
    "##### Input: arr[] = [3, 0, 2, 0, 4]\n",
    "##### Output: 7\n",
    "Explanation: Total water trapped = 0 + 3 + 1 + 3 + 0 = 7 units.\n",
    "##### Input: arr[] = [1, 2, 3, 4]\n",
    "##### Output: 0\n",
    "Explanation: We cannot trap water as there is no height bound on both sides.\n",
    "##### Input: arr[] = [2, 1, 5, 3, 1, 0, 4]\n",
    "##### Output: 9\n",
    "Explanation: Total water trapped = 0 + 1 + 0 + 1 + 3 + 4 + 0 = 9 units.\n",
    "## Constraints:\n",
    "##### 1 < arr.size() < 10^5\n",
    "##### 0 < arr[i] < 10^3"
   ]
  },
  {
   "cell_type": "code",
   "execution_count": 1,
   "id": "449f2d01-f3d0-4bfc-bedd-f216579a1f49",
   "metadata": {},
   "outputs": [
    {
     "name": "stdout",
     "output_type": "stream",
     "text": [
      "10\n",
      "7\n",
      "0\n",
      "9\n"
     ]
    }
   ],
   "source": [
    "class Solution:\n",
    "    def maxWater(self, arr):\n",
    "        # code here\n",
    "        n=len(arr)\n",
    "        l,r=0,n-1\n",
    "        left_max,right_max=0,0\n",
    "        total_water=0\n",
    "        \n",
    "        while l<=r:\n",
    "            if arr[l]<=arr[r]:\n",
    "                if arr[l]>=left_max:\n",
    "                    left_max=arr[l]\n",
    "                else:\n",
    "                    total_water+=(left_max-arr[l])\n",
    "                l+=1\n",
    "            else:\n",
    "                if arr[r]>=right_max:\n",
    "                    right_max=arr[r]\n",
    "                else:\n",
    "                    total_water+=(right_max-arr[r])\n",
    "                r-=1\n",
    "        return total_water\n",
    "sol=Solution()\n",
    "print(sol.maxWater(arr = [3, 0, 1, 0, 4, 0, 2]))\n",
    "print(sol.maxWater(arr = [3, 0, 2, 0, 4]))\n",
    "print(sol.maxWater(arr = [1, 2, 3, 4]))\n",
    "print(sol.maxWater(arr = [2, 1, 5, 3, 1, 0, 4]))"
   ]
  }
 ],
 "metadata": {
  "kernelspec": {
   "display_name": "Python 3 (ipykernel)",
   "language": "python",
   "name": "python3"
  },
  "language_info": {
   "codemirror_mode": {
    "name": "ipython",
    "version": 3
   },
   "file_extension": ".py",
   "mimetype": "text/x-python",
   "name": "python",
   "nbconvert_exporter": "python",
   "pygments_lexer": "ipython3",
   "version": "3.12.4"
  }
 },
 "nbformat": 4,
 "nbformat_minor": 5
}

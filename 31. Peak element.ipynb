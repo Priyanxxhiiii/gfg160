{
 "cells": [
  {
   "cell_type": "markdown",
   "id": "1d8637d4-31f6-4397-b059-11dcb6fbde6d",
   "metadata": {},
   "source": [
    "# Peak element\n"
   ]
  },
  {
   "cell_type": "markdown",
   "id": "f7486511-cf31-4c44-ab0b-17f1c7e84f3b",
   "metadata": {},
   "source": [
    "Given an array arr[] where no two adjacent elements are same, find the index of a peak element. An element is considered to be a peak if it is greater than its adjacent elements (if they exist). If there are multiple peak elements, return index of any one of them. The output will be \"true\" if the index returned by your function is correct; otherwise, it will be \"false\".\n",
    "\n",
    "Note: Consider the element before the first element and the element after the last element to be negative infinity.\n",
    "\n",
    "Examples :\n",
    "\n",
    "##### Input: arr = [1, 2, 4, 5, 7, 8, 3]\n",
    "##### Output: true\n",
    "Explanation: arr[5] = 8 is a peak element because arr[4] < arr[5] > arr[6].\n",
    "##### Input: arr = [10, 20, 15, 2, 23, 90, 80]\n",
    "##### Output: true\n",
    "Explanation: arr[1] = 20 and arr[5] = 90 are peak elements because arr[0] < arr[1] > arr[2] and arr[4] < arr[5] > arr[6]. \n",
    "##### Input: arr = [1, 2, 3]\n",
    "##### Output: true\n",
    "Explanation: arr[2] is a peak element because arr[1] < arr[2] and arr[2] is the last element, so it has negative infinity to its right.\n",
    "##### Constraints:\n",
    "##### 1 ≤ arr.size() ≤ 10^6\n",
    "##### -2^31 ≤ arr[i] ≤ 2^31 - 1\n",
    "\n"
   ]
  },
  {
   "cell_type": "markdown",
   "id": "6c33f430-d1ca-469a-b5ea-529776af1530",
   "metadata": {},
   "source": [
    "# Code- time taken: 0.6"
   ]
  },
  {
   "cell_type": "code",
   "execution_count": 2,
   "id": "b618a03f-c8f5-49f7-8217-313bf7f1faa7",
   "metadata": {},
   "outputs": [
    {
     "name": "stdout",
     "output_type": "stream",
     "text": [
      "5\n",
      "1\n",
      "2\n"
     ]
    }
   ],
   "source": [
    "class Solution:   \n",
    "    def peakElement(self,arr):\n",
    "        # Code here\n",
    "        n=len(arr)\n",
    "        if n==1:\n",
    "            return 0\n",
    "        for i in range(n):\n",
    "            if i==0:\n",
    "                if arr[0]>arr[1]:\n",
    "                    return 0\n",
    "            elif i==n-1:\n",
    "                if arr[n-2]<arr[n-1]:\n",
    "                    return n-1\n",
    "            elif arr[i-1]<arr[i]>arr[i+1]:\n",
    "                return i\n",
    "sol=Solution()\n",
    "print(sol.peakElement(arr = [1, 2, 4, 5, 7, 8, 3]))\n",
    "print(sol.peakElement(arr = [10, 20, 15, 2, 23, 90, 80]))\n",
    "print(sol.peakElement(arr = [1, 2, 3]))"
   ]
  },
  {
   "cell_type": "markdown",
   "id": "52c8803a-78c7-4103-a728-26c4901835eb",
   "metadata": {},
   "source": [
    "# Binary search"
   ]
  },
  {
   "cell_type": "code",
   "execution_count": 4,
   "id": "de4222ff-6290-43dc-b4cd-1250a0c81a82",
   "metadata": {},
   "outputs": [
    {
     "name": "stdout",
     "output_type": "stream",
     "text": [
      "5\n"
     ]
    }
   ],
   "source": [
    "def peakElement(arr):\n",
    "    n = len(arr)\n",
    "    if n == 1:\n",
    "        return 0\n",
    "    if arr[0] > arr[1]:\n",
    "        return 0\n",
    "    if arr[n - 1] > arr[n - 2]:\n",
    "        return n - 1\n",
    "    \n",
    "    lo, hi = 1, n - 2\n",
    "    \n",
    "    while lo <= hi:\n",
    "        mid = lo + (hi - lo) // 2\n",
    "    \n",
    "        if arr[mid] > arr[mid - 1] and arr[mid] > arr[mid + 1]:\n",
    "            return mid\n",
    "    \n",
    "    \n",
    "        if arr[mid] < arr[mid + 1]:\n",
    "            lo = mid + 1\n",
    "        else:\n",
    "            hi = mid - 1\n",
    "if __name__ == \"__main__\":\n",
    "    arr = [1, 2, 4, 5, 7, 8, 3]\n",
    "    print(peakElement(arr))"
   ]
  }
 ],
 "metadata": {
  "kernelspec": {
   "display_name": "Python 3 (ipykernel)",
   "language": "python",
   "name": "python3"
  },
  "language_info": {
   "codemirror_mode": {
    "name": "ipython",
    "version": 3
   },
   "file_extension": ".py",
   "mimetype": "text/x-python",
   "name": "python",
   "nbconvert_exporter": "python",
   "pygments_lexer": "ipython3",
   "version": "3.12.4"
  }
 },
 "nbformat": 4,
 "nbformat_minor": 5
}

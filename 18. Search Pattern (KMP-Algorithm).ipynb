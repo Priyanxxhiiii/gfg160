{
 "cells": [
  {
   "cell_type": "markdown",
   "id": "5b393280-1b54-4114-892b-f651e3a2c75f",
   "metadata": {},
   "source": [
    "# Search Pattern (KMP-Algorithm)"
   ]
  },
  {
   "cell_type": "markdown",
   "id": "fe371781-8537-4013-9ed0-01d9cb1f6248",
   "metadata": {},
   "source": [
    "Given two strings, one is a text string txt and the other is a pattern string pat. The task is to print the indexes of all the occurrences of the pattern string in the text string. Use 0-based indexing while returning the indices. \n",
    "Note: Return an empty list in case of no occurrences of pattern.\n",
    "\n",
    "Examples :\n",
    "\n",
    "#### Input: txt = \"abcab\", pat = \"ab\"\n",
    "#### Output: [0, 3]\n",
    "Explanation: The string \"ab\" occurs twice in txt, one starts at index 0 and the other at index 3. \n",
    "#### Input: txt = \"abesdu\", pat = \"edu\"\n",
    "#### Output: []\n",
    "Explanation: There's no substring \"edu\" present in txt.\n",
    "#### Input: txt = \"aabaacaadaabaaba\", pat = \"aaba\"\n",
    "#### Output: [0, 9, 12]\n",
    "\n",
    "### Constraints:\n",
    "#### 1 ≤ txt.size() ≤ 10^6\n",
    "#### 1 ≤ pat.size() < txt.size()\n",
    "Both the strings consist of lowercase English alphabets."
   ]
  },
  {
   "cell_type": "markdown",
   "id": "9b5f0014-3816-46ad-a773-8be0ad34cc2c",
   "metadata": {},
   "source": [
    "# Brute force"
   ]
  },
  {
   "cell_type": "code",
   "execution_count": 17,
   "id": "1a72a4c7-5d81-4483-885f-7d063888f743",
   "metadata": {},
   "outputs": [
    {
     "name": "stdout",
     "output_type": "stream",
     "text": [
      "[0, 9, 12]\n"
     ]
    }
   ],
   "source": [
    "txt = \"aabaacaadaabaaba\"\n",
    "pat = \"aaba\"\n",
    "l=[]\n",
    "n=len(txt)\n",
    "k=len(pat)\n",
    "for i in range(n-(k-1)):\n",
    "    if txt[i]==pat[0]:\n",
    "        j=1\n",
    "        for _ in range(1,k):\n",
    "            if pat[_]==txt[i+_]:\n",
    "                j+=1\n",
    "                continue\n",
    "            else:\n",
    "                break\n",
    "        if j==k:\n",
    "            l.append(i)\n",
    "print(l)"
   ]
  },
  {
   "cell_type": "markdown",
   "id": "dc3f1275-e2ee-4a25-af15-0339dd8908f6",
   "metadata": {},
   "source": [
    "# Using KMP pattern searching algorithm"
   ]
  },
  {
   "cell_type": "code",
   "execution_count": 19,
   "id": "28ad828a-6ef3-4f70-a6f7-3c5943c5eb82",
   "metadata": {},
   "outputs": [
    {
     "name": "stdout",
     "output_type": "stream",
     "text": [
      "[0, 3]\n",
      "[]\n",
      "[0, 9, 12]\n"
     ]
    }
   ],
   "source": [
    "class Solution:\n",
    "    def search(self, pat, txt):\n",
    "        # code here\n",
    "        n=len(txt)\n",
    "        m=len(pat)\n",
    "        lps=[0]*m  \n",
    "        j=0  \n",
    "        \n",
    "        length=0  \n",
    "        i=1\n",
    "        \n",
    "        while i<m:\n",
    "            if pat[i]==pat[length]:\n",
    "                length+=1\n",
    "                lps[i]=length\n",
    "                i+=1\n",
    "            else:\n",
    "                if length!=0:\n",
    "                    length=lps[length - 1]\n",
    "                else:\n",
    "                    lps[i]=0\n",
    "                    i+=1\n",
    "       \n",
    "        i=0  \n",
    "        result=[]  \n",
    "        \n",
    "        \n",
    "        while i<n:\n",
    "            if pat[j]==txt[i]:\n",
    "                i+=1\n",
    "                j+=1\n",
    "            \n",
    "            if j==m: \n",
    "                result.append(i-j)  \n",
    "                j=lps[j-1]  \n",
    "            elif i<n and pat[j]!=txt[i]:\n",
    "                if j!= 0:\n",
    "                    j=lps[j - 1] \n",
    "                else:\n",
    "                    i+=1  \n",
    "        \n",
    "        return result\n",
    "sol=Solution()\n",
    "print(sol.search(txt = \"abcab\", pat = \"ab\"))\n",
    "print(sol.search(txt = \"abesdu\", pat = \"edu\"))\n",
    "print(sol.search(txt = \"aabaacaadaabaaba\", pat = \"aaba\"))"
   ]
  }
 ],
 "metadata": {
  "kernelspec": {
   "display_name": "Python 3 (ipykernel)",
   "language": "python",
   "name": "python3"
  },
  "language_info": {
   "codemirror_mode": {
    "name": "ipython",
    "version": 3
   },
   "file_extension": ".py",
   "mimetype": "text/x-python",
   "name": "python",
   "nbconvert_exporter": "python",
   "pygments_lexer": "ipython3",
   "version": "3.12.4"
  }
 },
 "nbformat": 4,
 "nbformat_minor": 5
}

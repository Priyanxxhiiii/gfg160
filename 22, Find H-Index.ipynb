{
 "cells": [
  {
   "cell_type": "markdown",
   "id": "6e1e678d-b37c-4d3c-9d69-bbc4b55bfb87",
   "metadata": {},
   "source": [
    "# Find H-Index\n"
   ]
  },
  {
   "cell_type": "markdown",
   "id": "76088b71-4de3-43c7-a557-a1117c0214b5",
   "metadata": {},
   "source": [
    "Given an integer array citations[], where citations[i] is the number of citations a researcher received for the ith paper. The task is to find the H-index.\n",
    "\n",
    "H-Index is the largest value such that the researcher has at least H papers that have been cited at least H times.\n",
    "\n",
    "Examples:\n",
    "\n",
    "#### Input: citations[] = [3, 0, 5, 3, 0]\n",
    "#### Output: 3\n",
    "Explanation: There are at least 3 papers (3, 5, 3) with at least 3 citations.\n",
    "#### Input: citations[] = [5, 1, 2, 4, 1]\n",
    "#### Output: 2\n",
    "Explanation: There are 3 papers (with citation counts of 5, 2, and 4) that have 2 or more citations. However, the H-Index cannot be 3 because there aren't 3 papers with 3 or more citations.\n",
    "#### Input: citations[] = [0, 0]\n",
    "#### Output: 0\n",
    "## Constraints:\n",
    "#### 1 ≤ citations.size() ≤ 10^6\n",
    "#### 0 ≤ citations[i] ≤ 10^6"
   ]
  },
  {
   "cell_type": "code",
   "execution_count": 1,
   "id": "0c6536f0-ac1b-4ca7-ad1b-5928baa3ba34",
   "metadata": {},
   "outputs": [],
   "source": [
    "def hIndex(self, citations):\n",
    "        #code here\n",
    "        n=len(citations)\n",
    "        freq=[0]*(n+1)\n",
    "        for i in range(n):\n",
    "            if citations[i]>=n:\n",
    "                freq[n]+=1\n",
    "            else:\n",
    "                freq[citations[i]]+=1\n",
    "        sum=0\n",
    "        for j in range(n,-1,-1):\n",
    "            sum=sum+freq[j]\n",
    "            if sum>=j:\n",
    "                return j\n",
    "            else:\n",
    "                continue"
   ]
  },
  {
   "cell_type": "code",
   "execution_count": null,
   "id": "67018f24-63cf-4fa7-95e5-f6a7b2b8b1cb",
   "metadata": {},
   "outputs": [],
   "source": []
  }
 ],
 "metadata": {
  "kernelspec": {
   "display_name": "Python 3 (ipykernel)",
   "language": "python",
   "name": "python3"
  },
  "language_info": {
   "codemirror_mode": {
    "name": "ipython",
    "version": 3
   },
   "file_extension": ".py",
   "mimetype": "text/x-python",
   "name": "python",
   "nbconvert_exporter": "python",
   "pygments_lexer": "ipython3",
   "version": "3.12.4"
  }
 },
 "nbformat": 4,
 "nbformat_minor": 5
}

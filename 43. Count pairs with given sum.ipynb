{
 "cells": [
  {
   "cell_type": "markdown",
   "id": "e84db9c2-b2c6-4e56-8bae-73dc9b8bdd97",
   "metadata": {},
   "source": [
    "# Count pairs with given sum\n"
   ]
  },
  {
   "cell_type": "markdown",
   "id": "7bb1d99a-2a63-494e-b6c0-b81b73695524",
   "metadata": {},
   "source": [
    "Given an array arr[] and an integer target. You have to find numbers of pairs in array arr[] which sums up to given target.\n",
    "\n",
    "Examples:\n",
    "\n",
    "##### Input: arr[] = [1, 5, 7, -1, 5], target = 6 \n",
    "##### Output: 3\n",
    "Explanation: Pairs with sum 6 are (1, 5), (7, -1) and (1, 5). \n",
    "##### Input: arr[] = [1, 1, 1, 1], target = 2 \n",
    "##### Output: 6\n",
    "Explanation: Pairs with sum 2 are (1, 1), (1, 1), (1, 1), (1, 1), (1, 1), (1, 1).\n",
    "##### Input: arr[] = [10, 12, 10, 15, -1], target = 125\n",
    "##### Output: 0\n",
    "## Constraints:\n",
    "##### 1 <= arr.size() <= 10^5\n",
    "##### -10^4 <= arr[i] <= 10^4\n",
    "##### 1 <= target <= 10^4"
   ]
  },
  {
   "cell_type": "markdown",
   "id": "d2966905-f05c-4bd1-9720-2e007d0704fb",
   "metadata": {},
   "source": [
    "# Using hashset(dictionary)"
   ]
  },
  {
   "cell_type": "code",
   "execution_count": 1,
   "id": "b04e0975-562f-4b85-96d1-f11664d73ac9",
   "metadata": {},
   "outputs": [
    {
     "name": "stdout",
     "output_type": "stream",
     "text": [
      "3\n",
      "6\n",
      "0\n"
     ]
    }
   ],
   "source": [
    "class Solution:\n",
    "    #Complete the below function\n",
    "    def countPairs(self,arr, target):\n",
    "        #Your code here\n",
    "        freq={}\n",
    "        count=0\n",
    "        for ele in arr:\n",
    "            complement=target-ele\n",
    "            if complement in freq:\n",
    "                count+=freq[complement]\n",
    "            freq[ele]=freq.get(ele,0)+1\n",
    "        return count\n",
    "sol=Solution()\n",
    "print(sol.countPairs(arr = [1, 5, 7, -1, 5], target = 6))\n",
    "print(sol.countPairs(arr = [1, 1, 1, 1], target = 2))\n",
    "print(sol.countPairs(arr = [10, 12, 10, 15, -1], target = 125))"
   ]
  }
 ],
 "metadata": {
  "kernelspec": {
   "display_name": "Python 3 (ipykernel)",
   "language": "python",
   "name": "python3"
  },
  "language_info": {
   "codemirror_mode": {
    "name": "ipython",
    "version": 3
   },
   "file_extension": ".py",
   "mimetype": "text/x-python",
   "name": "python",
   "nbconvert_exporter": "python",
   "pygments_lexer": "ipython3",
   "version": "3.12.4"
  }
 },
 "nbformat": 4,
 "nbformat_minor": 5
}

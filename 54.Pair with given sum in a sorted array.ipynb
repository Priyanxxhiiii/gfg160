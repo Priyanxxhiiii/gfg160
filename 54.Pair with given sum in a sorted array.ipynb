{
 "cells": [
  {
   "cell_type": "markdown",
   "id": "b88ca204-7c8d-45b7-a56c-e1b677a9cfa7",
   "metadata": {},
   "source": [
    "# Pair with given sum in a sorted array\n"
   ]
  },
  {
   "cell_type": "markdown",
   "id": "0e275224-b220-49eb-8e6b-110334e55e25",
   "metadata": {},
   "source": [
    "You are given an integer target and an array arr[]. You have to find number of pairs in arr[] which sums up to target. It is given that the elements of the arr[] are in sorted order.\n",
    "Note: pairs should have elements of distinct indexes. \n",
    "\n",
    "Examples :\n",
    "\n",
    "##### Input: arr[] = [-1, 1, 5, 5, 7], target = 6\n",
    "##### Output: 3\n",
    "Explanation: There are 2 pairs which sum up to 6 : {1, 5}, {1, 5} and {-1, 7}.\n",
    "##### Input: arr[] = [1, 1, 1, 1], target = 2\n",
    "##### Output: 6\n",
    "Explanation: There are 6 pairs which sum up to 2 : {1, 1}, {1, 1}, {1, 1}, {1, 1}, {1, 1} and {1, 1}.\n",
    "##### Input: arr[] = [-1, 10, 10, 12, 15], target = 125\n",
    "##### Output: 0\n",
    "Explanation: There is no such pair which sums up to 4.\n",
    "## Constraints:\n",
    "##### -10^5 <= target <=10^5\n",
    "#####  2 <= arr.size() <= 10^5\n",
    "##### -10^5 <= arr[i] <= 10^5\n"
   ]
  },
  {
   "cell_type": "code",
   "execution_count": 1,
   "id": "99bff0fc-eb2c-436e-8bfe-3fa3a3a2b594",
   "metadata": {},
   "outputs": [
    {
     "name": "stdout",
     "output_type": "stream",
     "text": [
      "3\n",
      "6\n",
      "0\n"
     ]
    }
   ],
   "source": [
    "class Solution:\n",
    "    def countPairs (self, arr, target) : \n",
    "        #Complete the function\n",
    "        l=0\n",
    "        r=len(arr)-1\n",
    "        res=0\n",
    "        while l<r:\n",
    "            sum=arr[l]+arr[r]\n",
    "            if sum<target:\n",
    "                l+=1\n",
    "            elif sum>target:\n",
    "                r-=1\n",
    "            else:\n",
    "                num1=arr[l]\n",
    "                num2=arr[r]\n",
    "                cnt1=0\n",
    "                cnt2=0\n",
    "                while l<=r and arr[l]==num1:\n",
    "                    cnt1+=1\n",
    "                    l+=1\n",
    "                while l<=r and arr[r]==num2:\n",
    "                    cnt2+=1\n",
    "                    r-=1\n",
    "                if num1==num2:\n",
    "                    res+=(cnt1*(cnt1-1))//2\n",
    "                else:\n",
    "                    res+=(cnt1*cnt2)\n",
    "        return res\n",
    "sol=Solution()\n",
    "print(sol.countPairs(arr = [-1, 1, 5, 5, 7], target = 6))\n",
    "print(sol.countPairs(arr = [1, 1, 1, 1], target = 2))\n",
    "print(sol.countPairs(arr = [-1, 10, 10, 12, 15], target = 125))"
   ]
  }
 ],
 "metadata": {
  "kernelspec": {
   "display_name": "Python 3 (ipykernel)",
   "language": "python",
   "name": "python3"
  },
  "language_info": {
   "codemirror_mode": {
    "name": "ipython",
    "version": 3
   },
   "file_extension": ".py",
   "mimetype": "text/x-python",
   "name": "python",
   "nbconvert_exporter": "python",
   "pygments_lexer": "ipython3",
   "version": "3.12.4"
  }
 },
 "nbformat": 4,
 "nbformat_minor": 5
}

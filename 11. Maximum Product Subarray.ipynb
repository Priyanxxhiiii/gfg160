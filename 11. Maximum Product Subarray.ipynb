{
 "cells": [
  {
   "cell_type": "markdown",
   "id": "ca0f6d66-e43a-454e-b6da-f96451ade2f7",
   "metadata": {},
   "source": [
    "# Maximum Product Subarray"
   ]
  },
  {
   "cell_type": "markdown",
   "id": "08b3c955-1313-4835-a27f-4e41d135b77d",
   "metadata": {},
   "source": [
    "Given an array arr[] that contains positive and negative integers (may contain 0 as well). Find the maximum product that we can get in a subarray of arr.\n",
    "\n",
    "Note: It is guaranteed that the output fits in a 32-bit integer.\n",
    "\n",
    "Examples\n",
    "\n",
    "### Input: arr[] = [-2, 6, -3, -10, 0, 2]\n",
    "### Output: 180\n",
    "Explanation: The subarray with maximum product is {6, -3, -10} with product = 6 * (-3) * (-10) = 180.\n",
    "### Input: arr[] = [-1, -3, -10, 0, 6]\n",
    "### Output: 30\n",
    "Explanation: The subarray with maximum product is {-3, -10} with product = (-3) * (-10) = 30.\n",
    "### Input: arr[] = [2, 3, 4] \n",
    "### Output: 24 \n",
    "Explanation: For an array with all positive elements, the result is product of all elements. \n",
    "### Constraints:\n",
    "#### 1 ≤ arr.size() ≤ 10^6\n",
    "#### -10  ≤  arr[i]  ≤  10\n",
    "\n",
    "### Company Tags\n",
    "Morgan Stanley Amazon Microsoft OYO RoomsD-E-Shaw Google\n",
    "### Topic Tags\n",
    "Arrays Dynamic Programming Data Structures Algorithms"
   ]
  },
  {
   "cell_type": "code",
   "execution_count": 11,
   "id": "ae7cdda4-ee43-430f-ba4b-60d77566c0f5",
   "metadata": {},
   "outputs": [
    {
     "name": "stdout",
     "output_type": "stream",
     "text": [
      "180\n"
     ]
    }
   ],
   "source": [
    "#User function Template for python3\n",
    "class Solution:\n",
    "\n",
    "\t# Function to find maximum\n",
    "\t# product subarray\n",
    "    def maxProduct(self,arr):\n",
    "        # code here\n",
    "        n=len(arr)\n",
    "        if n==0:\n",
    "            return 0\n",
    "        max_prod_so_far= min_prod_so_far = maximum = arr[0]\n",
    "        for i in range(1, n):\n",
    "            if arr[i]<0:\n",
    "                max_prod_so_far, min_prod_so_far = min_prod_so_far, max_prod_so_far\n",
    "            \n",
    "            max_prod_so_far= max(arr[i], max_prod_so_far*arr[i])\n",
    "            min_prod_so_far= min(arr[i], min_prod_so_far*arr[i])\n",
    "            \n",
    "            maximum = max(maximum,max_prod_so_far)\n",
    "        \n",
    "        return maximum\n",
    "sol=Solution()\n",
    "print(sol.maxProduct( [-2, 6, -3, -10, 0, 2]))"
   ]
  },
  {
   "cell_type": "code",
   "execution_count": 12,
   "id": "eafa02df-2b99-4261-8387-24b08225236c",
   "metadata": {},
   "outputs": [
    {
     "name": "stdout",
     "output_type": "stream",
     "text": [
      "180\n"
     ]
    }
   ],
   "source": [
    "def maxproduct(arr):\n",
    "    i=1\n",
    "    j=1\n",
    "    n=len(arr)\n",
    "    ans=arr[0]\n",
    "    for k in range(n):\n",
    "        if i==0:\n",
    "            i=1\n",
    "        if j==0:\n",
    "            j=1\n",
    "        i*=arr[k]\n",
    "        j*=arr[n-k-1]\n",
    "        ans=max(ans,i,j)\n",
    "    return ans\n",
    "print(maxproduct([-2,6,-3,-10,0,2]))"
   ]
  }
 ],
 "metadata": {
  "kernelspec": {
   "display_name": "Python 3 (ipykernel)",
   "language": "python",
   "name": "python3"
  },
  "language_info": {
   "codemirror_mode": {
    "name": "ipython",
    "version": 3
   },
   "file_extension": ".py",
   "mimetype": "text/x-python",
   "name": "python",
   "nbconvert_exporter": "python",
   "pygments_lexer": "ipython3",
   "version": "3.12.4"
  }
 },
 "nbformat": 4,
 "nbformat_minor": 5
}

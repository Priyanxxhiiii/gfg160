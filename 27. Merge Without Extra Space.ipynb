{
 "cells": [
  {
   "cell_type": "markdown",
   "id": "f60fc983-39b2-4b76-ae9b-5ea97313d197",
   "metadata": {},
   "source": [
    "# Merge Without Extra Space"
   ]
  },
  {
   "cell_type": "markdown",
   "id": "5322d0cf-6e4e-4b33-a901-7d478a20d18f",
   "metadata": {},
   "source": [
    "Given two sorted arrays a[] and b[] of size n and m respectively, the task is to merge them in sorted order without using any extra space. Modify a[] so that it contains the first n elements and modify b[] so that it contains the last m elements.\n",
    "\n",
    "Examples:\n",
    "\n",
    "#### Input: a[] = [2, 4, 7, 10], b[] = [2, 3]\n",
    "#### Output:\n",
    "#### 2 2 3 4\n",
    "#### 7 10\n",
    "Explanation: After merging the two non-decreasing arrays, we get, 2 2 3 4 7 10\n",
    "#### Input: a[] = [1, 5, 9, 10, 15, 20], b[] = [2, 3, 8, 13]\n",
    "#### Output:\n",
    "#### 1 2 3 5 8 9\n",
    "#### 10 13 15 20\n",
    "Explanation: After merging two sorted arrays we get 5 10 12 18 20.\n",
    "#### Input: a[] = [0, 1], b[] = [2, 3]\n",
    "#### Output:\n",
    "#### 0 1\n",
    "#### 2 3\n",
    "Explanation: After merging two sorted arrays we get 0 1 2 3.\n",
    "### Constraints:\n",
    "#### 1 <= a.size(), b.size() <= 10^5\n",
    "#### 0 <= a[i], b[i] <= 10^7"
   ]
  },
  {
   "cell_type": "code",
   "execution_count": 10,
   "id": "837a9688-0dfd-4de9-ab2e-df3af516c4d8",
   "metadata": {},
   "outputs": [
    {
     "name": "stdin",
     "output_type": "stream",
     "text": [
      " 1 3 5 7\n",
      " 0 2 6 8 9\n"
     ]
    },
    {
     "name": "stdout",
     "output_type": "stream",
     "text": [
      "0 1 2 3 \n",
      "5 6 7 8 9 \n"
     ]
    }
   ],
   "source": [
    "class Solution:\n",
    "    def mergeArrays(self, a, b):\n",
    "        # code here\n",
    "        i=len(a)-1\n",
    "        j=0\n",
    "        while i>=0 and j<len(b):\n",
    "            if a[i]<b[j]:\n",
    "                i-=1\n",
    "            else:\n",
    "                a[i],b[j]=b[j],a[i]\n",
    "                i-=1\n",
    "                j+=1\n",
    "        a.sort()\n",
    "        b.sort()\n",
    "        return a,b\n",
    "\n",
    "sol=Solution()\n",
    "p=list(map(int,input().split()))\n",
    "q=list(map(int,input().split()))\n",
    "sol.mergeArrays(p,q)\n",
    "for ele in p:\n",
    "    print(ele,end=\" \")\n",
    "print()\n",
    "for ele in q:\n",
    "    print(ele,end=\" \")\n",
    "print()\n",
    "\n",
    "#print(sol.mergeArrays([2, 4, 7, 10],[2, 3]))\n",
    "#print(sol.mergeArrays([1, 3, 5, 7], [0, 2, 6, 8, 9]))"
   ]
  },
  {
   "cell_type": "code",
   "execution_count": 2,
   "id": "36d74cde-b93c-44e6-9157-27b27136cf80",
   "metadata": {},
   "outputs": [
    {
     "name": "stdout",
     "output_type": "stream",
     "text": [
      "([0, 1], [2, 3])\n",
      "([2, 2, 3, 4], [7, 10])\n",
      "([0, 1, 2, 3], [5, 6, 7, 8, 9])\n"
     ]
    }
   ],
   "source": [
    "class Solution:\n",
    "    def mergeArrays(self, a, b):\n",
    "        # code here\n",
    "        for i in range(len(a)):\n",
    "            mini,idx=self.minimum(b)\n",
    "            if mini<a[i]:\n",
    "                b[idx],a[i]=a[i],b[idx]\n",
    "        b.sort()\n",
    "        return a,b\n",
    "    def minimum(self,b):\n",
    "        mini=b[0]\n",
    "        idx=0\n",
    "        for j in range(1,len(b)):\n",
    "            if b[j]<mini:\n",
    "                mini=b[j]\n",
    "                idx=j\n",
    "        return mini,idx\n",
    "sol=Solution()\n",
    "\n",
    "print(sol.mergeArrays([0,1], [2,3]))\n",
    "print(sol.mergeArrays([2, 4, 7, 10],[2, 3]))\n",
    "print(sol.mergeArrays([1, 3, 5, 7], [0, 2, 6, 8, 9]))"
   ]
  }
 ],
 "metadata": {
  "kernelspec": {
   "display_name": "Python 3 (ipykernel)",
   "language": "python",
   "name": "python3"
  },
  "language_info": {
   "codemirror_mode": {
    "name": "ipython",
    "version": 3
   },
   "file_extension": ".py",
   "mimetype": "text/x-python",
   "name": "python",
   "nbconvert_exporter": "python",
   "pygments_lexer": "ipython3",
   "version": "3.12.4"
  }
 },
 "nbformat": 4,
 "nbformat_minor": 5
}

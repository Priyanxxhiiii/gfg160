{
 "cells": [
  {
   "cell_type": "markdown",
   "id": "49cfeea4-fb49-4e03-b798-98bf36e0b56b",
   "metadata": {},
   "source": [
    "# Non-overlapping Intervals"
   ]
  },
  {
   "cell_type": "markdown",
   "id": "0f33fd37-6b4d-4f65-9a0d-5666ecab86b5",
   "metadata": {},
   "source": [
    "Given a 2D array intervals[][] of representing intervals where intervals [i] = [starti, endi ]. Return the minimum number of intervals you need to remove to make the rest of the intervals non-overlapping.\n",
    "\n",
    "Examples:\n",
    "\n",
    "#### Input: intervals[][] = [[1, 2], [2, 3], [3, 4], [1, 3]]\n",
    "#### Output: 1\n",
    "Explanation: [1, 3] can be removed and the rest of the intervals are non-overlapping.\n",
    "#### Input: intervals[][] = [[1, 3], [1, 3], [1, 3]]\n",
    "#### Output: 2\n",
    "Explanation: You need to remove two [1, 3] to make the rest of the intervals non-overlapping.\n",
    "#### Input: intervals[][] = [[1, 2], [5, 10], [18, 35], [40, 45]]\n",
    "#### Output: 0\n",
    "Explanation: All ranges are already non overlapping.\n",
    "### Constraints:\n",
    "#### 1 ≤ intervals.size() ≤  10^5\n",
    "#### |intervalsi| == 2\n",
    "#### 0 ≤ starti < endi <=5*10^4"
   ]
  },
  {
   "cell_type": "code",
   "execution_count": 3,
   "id": "c6219e28-0a34-44bf-b90b-3ed582e10239",
   "metadata": {},
   "outputs": [
    {
     "name": "stdout",
     "output_type": "stream",
     "text": [
      "1\n",
      "2\n",
      "0\n"
     ]
    }
   ],
   "source": [
    "class Solution:\n",
    "    def minRemoval(self, intervals):\n",
    "        # Code here\n",
    "        if not intervals:\n",
    "            return 0\n",
    "        intervals.sort(key=lambda x:x[1])\n",
    "        res=[intervals[0]]\n",
    "        for curr in intervals[1:]:\n",
    "            last=res[-1]\n",
    "            if curr[0]<last[1]:\n",
    "                continue\n",
    "            else:\n",
    "                res.append(curr)\n",
    "        return len(intervals)-len(res)\n",
    "sol=Solution()\n",
    "print(sol.minRemoval([[1, 2], [2, 3], [3, 4], [1, 3]]))\n",
    "print(sol.minRemoval([[1, 3], [1, 3], [1, 3]]))\n",
    "print(sol.minRemoval( [[1, 2], [5, 10], [18, 35], [40, 45]]))\n"
   ]
  }
 ],
 "metadata": {
  "kernelspec": {
   "display_name": "Python 3 (ipykernel)",
   "language": "python",
   "name": "python3"
  },
  "language_info": {
   "codemirror_mode": {
    "name": "ipython",
    "version": 3
   },
   "file_extension": ".py",
   "mimetype": "text/x-python",
   "name": "python",
   "nbconvert_exporter": "python",
   "pygments_lexer": "ipython3",
   "version": "3.12.4"
  }
 },
 "nbformat": 4,
 "nbformat_minor": 5
}

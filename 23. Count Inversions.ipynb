{
 "cells": [
  {
   "cell_type": "markdown",
   "id": "54f27293-c57e-4c55-9e45-fc5bb3b2712d",
   "metadata": {},
   "source": [
    "# Count Inversions\n"
   ]
  },
  {
   "cell_type": "markdown",
   "id": "756d3c1e-ad84-483d-a771-20176cd235be",
   "metadata": {},
   "source": [
    "Given an array of integers arr[]. Find the Inversion Count in the array.\n",
    "Two elements arr[i] and arr[j] form an inversion if arr[i] > arr[j] and i < j.\n",
    "\n",
    "Inversion Count: For an array, inversion count indicates how far (or close) the array is from being sorted. If the array is already sorted then the inversion count is 0.\n",
    "If an array is sorted in the reverse order then the inversion count is the maximum. \n",
    "\n",
    "Examples:\n",
    "\n",
    "#### Input: arr[] = [2, 4, 1, 3, 5]\n",
    "#### Output: 3\n",
    "Explanation: The sequence 2, 4, 1, 3, 5 has three inversions (2, 1), (4, 1), (4, 3).\n",
    "#### Input: arr[] = [2, 3, 4, 5, 6]\n",
    "#### Output: 0\n",
    "Explanation: As the sequence is already sorted so there is no inversion count.\n",
    "#### Input: arr[] = [10, 10, 10]\n",
    "#### Output: 0\n",
    "Explanation: As all the elements of array are same, so there is no inversion count.\n",
    "## Constraints:\n",
    "#### 1 ≤ arr.size() ≤ 10^5\n",
    "#### 1 ≤ arr[i] ≤ 10^4"
   ]
  },
  {
   "cell_type": "markdown",
   "id": "16103762-c8e7-4e56-ad1f-22d5d902599a",
   "metadata": {},
   "source": [
    "# Naive Approach Code"
   ]
  },
  {
   "cell_type": "code",
   "execution_count": 1,
   "id": "1dd07af8-834c-4ee0-b50f-7fea958be5ea",
   "metadata": {},
   "outputs": [
    {
     "name": "stdout",
     "output_type": "stream",
     "text": [
      "3\n"
     ]
    }
   ],
   "source": [
    "j=0\n",
    "count=0\n",
    "arr =  [2, 4, 1, 3, 5]\n",
    "for i in range(0,len(arr)):\n",
    "    for j in range(i+1,len(arr)):\n",
    "        \n",
    "        if arr[i]>arr[j]:\n",
    "            count+=1\n",
    "\n",
    "    \n",
    "print(count)"
   ]
  },
  {
   "cell_type": "code",
   "execution_count": 2,
   "id": "0736e813-cbf7-453a-821e-30b3def869c0",
   "metadata": {},
   "outputs": [
    {
     "name": "stdout",
     "output_type": "stream",
     "text": [
      "3\n",
      "0\n",
      "0\n"
     ]
    }
   ],
   "source": [
    "class Solution:\n",
    "    #User function Template for python3\n",
    "    #Function to count inversions in the array.\n",
    "    def inversionCount(self, arr):\n",
    "        # Your Code Here\n",
    "        return self.countInv(arr, 0, len(arr) - 1)\n",
    "        \n",
    "    def countAndMerge(self, arr, l, m, r):\n",
    "\n",
    "        n1 = m - l + 1\n",
    "        n2 = r - m\n",
    "    \n",
    "        left = arr[l:m + 1]\n",
    "        right = arr[m + 1:r + 1]\n",
    "    \n",
    "        res = 0\n",
    "        i = 0\n",
    "        j = 0\n",
    "        k = l\n",
    "        while i < n1 and j < n2:\n",
    "    \n",
    "            if left[i] <= right[j]:\n",
    "                arr[k] = left[i]\n",
    "                i += 1\n",
    "            else:\n",
    "                arr[k] = right[j]\n",
    "                j += 1\n",
    "                res += (n1 - i)\n",
    "            k += 1\n",
    "        while i < n1:\n",
    "            arr[k] = left[i]\n",
    "            i += 1\n",
    "            k += 1\n",
    "        while j < n2:\n",
    "            arr[k] = right[j]\n",
    "            j += 1\n",
    "            k += 1\n",
    "    \n",
    "        return res\n",
    "        \n",
    "        \n",
    "    def countInv(self, arr, l, r):\n",
    "        res = 0\n",
    "        if l < r:\n",
    "            m = (r + l) // 2\n",
    "            res += self.countInv(arr, l, m)\n",
    "            res += self.countInv(arr, m + 1, r)\n",
    "            res += self.countAndMerge(arr, l, m, r)\n",
    "        return res\n",
    "sol=Solution()\n",
    "print(sol.inversionCount( [2, 4, 1, 3, 5]))\n",
    "print(sol.inversionCount([2, 3, 4, 5, 6]))\n",
    "print(sol.inversionCount( [10, 10, 10]))"
   ]
  }
 ],
 "metadata": {
  "kernelspec": {
   "display_name": "Python 3 (ipykernel)",
   "language": "python",
   "name": "python3"
  },
  "language_info": {
   "codemirror_mode": {
    "name": "ipython",
    "version": 3
   },
   "file_extension": ".py",
   "mimetype": "text/x-python",
   "name": "python",
   "nbconvert_exporter": "python",
   "pygments_lexer": "ipython3",
   "version": "3.12.4"
  }
 },
 "nbformat": 4,
 "nbformat_minor": 5
}

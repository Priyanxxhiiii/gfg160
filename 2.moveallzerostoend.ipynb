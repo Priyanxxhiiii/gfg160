{
 "cells": [
  {
   "cell_type": "markdown",
   "id": "a4c1af27-20c5-4118-849e-53b7c9a19653",
   "metadata": {},
   "source": [
    "# Move All Zeroes to End\n",
    "Given an array arr[]. Push all the zeros of the given array to the right end of the array while maintaining the order of non-zero elements. Do the mentioned change in the array in place.\n",
    "\n",
    "Examples:\n",
    "\n",
    "### Input: arr[] = [1, 2, 0, 4, 3, 0, 5, 0]\n",
    "### Output: [1, 2, 4, 3, 5, 0, 0, 0]\n",
    "#### Explanation: There are three 0s that are moved to the end.\n",
    "### Input: arr[] = [10, 20, 30]\n",
    "### Output: [10, 20, 30]\n",
    "#### Explanation: No change in array as there are no 0s.\n",
    "### Input: arr[] = [0, 0]\n",
    "### Output: [0, 0]\n",
    "#### Explanation: No change in array as there are all 0s.\n",
    "### Constraints:\n",
    "#### 1 ≤ arr.size() ≤ 105\n",
    "#### 0 ≤ arr[i] ≤ 105"
   ]
  },
  {
   "cell_type": "code",
   "execution_count": 1,
   "id": "b23639d4-f833-4ad3-b777-54cc582154fc",
   "metadata": {},
   "outputs": [
    {
     "name": "stdout",
     "output_type": "stream",
     "text": [
      "[3, 5, 0, 4, 0]\n"
     ]
    }
   ],
   "source": [
    "#User function Template for python3\n",
    "class Solution:\n",
    "\tdef pushZerosToEnd(self,arr):\n",
    "    \t# code here\n",
    "    \tpos=0\n",
    "    \tfor i in range(len(arr)):\n",
    "    \t    if arr[i]!=0:\n",
    "    \t        arr[pos]=arr[i]\n",
    "    \t        pos+=1\n",
    "    \twhile pos<len(arr):\n",
    "    \t    arr[pos]=0\n",
    "    \t    pos+=1\n",
    "    \treturn arr"
   ]
  }
 ],
 "metadata": {
  "kernelspec": {
   "display_name": "Python 3 (ipykernel)",
   "language": "python",
   "name": "python3"
  },
  "language_info": {
   "codemirror_mode": {
    "name": "ipython",
    "version": 3
   },
   "file_extension": ".py",
   "mimetype": "text/x-python",
   "name": "python",
   "nbconvert_exporter": "python",
   "pygments_lexer": "ipython3",
   "version": "3.12.4"
  }
 },
 "nbformat": 4,
 "nbformat_minor": 5
}

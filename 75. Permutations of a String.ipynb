{
 "cells": [
  {
   "cell_type": "markdown",
   "id": "ae7c16ab-6e13-4940-9e9f-0f503366f06a",
   "metadata": {},
   "source": [
    "# Permutations of a String\n"
   ]
  },
  {
   "cell_type": "markdown",
   "id": "cd69db0d-1c15-4548-8b43-f9f6a5456599",
   "metadata": {},
   "source": [
    "Given a string s, which may contain duplicate characters, your task is to generate and return an array of all unique permutations of the string. You can return your answer in any order.\n",
    "\n",
    "Examples:\n",
    "\n",
    "##### Input: s = \"ABC\"\n",
    "##### Output: [\"ABC\", \"ACB\", \"BAC\", \"BCA\", \"CAB\", \"CBA\"]\n",
    "Explanation: Given string ABC has 6 unique permutations.\n",
    "##### Input: s = \"ABSG\"\n",
    "##### Output: [\"ABGS\", \"ABSG\", \"AGBS\", \"AGSB\", \"ASBG\", \"ASGB\", \"BAGS\", \"BASG\", \"BGAS\", \"BGSA\", \"BSAG\", \"BSGA\", \"GABS\", \"GASB\", \"GBAS\", \"GBSA\", \"GSAB\", \"GSBA\", \"SABG\", \"SAGB\", \"SBAG\", \"SBGA\", \"SGAB\", \"SGBA\"]\n",
    "Explanation: Given string ABSG has 24 unique permutations.\n",
    "##### Input: s = \"AAA\"\n",
    "##### Output: [\"AAA\"]\n",
    "Explanation: No other unique permutations can be formed as all the characters are same.\n",
    "## Constraints:\n",
    "##### 1 <= s.size() <= 9\n",
    "##### s contains only Uppercase english alphabets"
   ]
  },
  {
   "cell_type": "code",
   "execution_count": 4,
   "id": "68bd9596-fe37-4b1b-ace7-c0a2b12ad624",
   "metadata": {},
   "outputs": [
    {
     "name": "stdout",
     "output_type": "stream",
     "text": [
      "['CAB', 'BCA', 'BAC', 'CBA', 'ACB', 'ABC']\n",
      "\n",
      "['BSAG', 'SBAG', 'SBGA', 'SGBA', 'ABSG', 'BGSA', 'ABGS', 'AGBS', 'GBAS', 'GSBA', 'GABS', 'SABG', 'BGAS', 'GBSA', 'BSGA', 'GASB', 'BAGS', 'ASBG', 'SAGB', 'GSAB', 'SGAB', 'BASG', 'AGSB', 'ASGB']\n"
     ]
    }
   ],
   "source": [
    "class Solution:\n",
    "    def findPermutation(self, s):\n",
    "        # Code here\n",
    "        def backtrack(start):\n",
    "            if start==len(chars):\n",
    "                permutations.add(''.join(chars))\n",
    "                return \n",
    "            for i in range(start,len(chars)):\n",
    "                chars[start],chars[i]=chars[i],chars[start]\n",
    "                backtrack(start+1)\n",
    "                chars[start],chars[i]=chars[i],chars[start]\n",
    "        chars=list(s)\n",
    "        permutations=set()\n",
    "        backtrack(0)\n",
    "        return list(permutations)\n",
    "sol=Solution()\n",
    "print(sol.findPermutation(s = \"ABC\"),end='\\n\\n')      \n",
    "print(sol.findPermutation(s = \"ABSG\"))"
   ]
  }
 ],
 "metadata": {
  "kernelspec": {
   "display_name": "Python 3 (ipykernel)",
   "language": "python",
   "name": "python3"
  },
  "language_info": {
   "codemirror_mode": {
    "name": "ipython",
    "version": 3
   },
   "file_extension": ".py",
   "mimetype": "text/x-python",
   "name": "python",
   "nbconvert_exporter": "python",
   "pygments_lexer": "ipython3",
   "version": "3.12.4"
  }
 },
 "nbformat": 4,
 "nbformat_minor": 5
}

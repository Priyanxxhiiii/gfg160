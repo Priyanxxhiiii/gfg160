{
 "cells": [
  {
   "cell_type": "markdown",
   "id": "8a8b34cc-bac1-4820-81eb-a51373322e89",
   "metadata": {},
   "source": [
    "# Merge two sorted linked lists\n"
   ]
  },
  {
   "cell_type": "markdown",
   "id": "56697263-d9cb-480a-941e-e8e7decd1390",
   "metadata": {},
   "source": [
    "Given the head of two sorted linked lists consisting of nodes respectively. The task is to merge both lists and return the head of the sorted merged list.\n",
    "\n",
    "Examples:\n",
    "\n",
    "##### Input: head1 = 5 -> 10 -> 15 -> 40, head2 = 2 -> 3 -> 20\n",
    "##### Output: 2 -> 3 -> 5 -> 10 -> 15 -> 20 -> 40\n",
    "Explanation:\n",
    "\n",
    "##### Input: head1 = 1 -> 1, head2 = 2 -> 4\n",
    "##### Output: 1 -> 1 -> 2 -> 4\n",
    "Explanation:\n",
    "\n",
    "## Constraints:\n",
    "##### 1 <= no. of nodes<= 10^3\n",
    "##### 0 <= node->data <= 10^5\n"
   ]
  },
  {
   "cell_type": "code",
   "execution_count": 3,
   "id": "d8bd3434-6363-4805-8a44-84ce39b3b0d9",
   "metadata": {},
   "outputs": [
    {
     "name": "stdout",
     "output_type": "stream",
     "text": [
      "2 -> 3 -> 5 -> 10 -> 15 -> 20 -> 40\n",
      "1 -> 1 -> 2 -> 4\n"
     ]
    }
   ],
   "source": [
    "#User function Template for python3\n",
    "\n",
    "# Node Class\n",
    "class Node:\n",
    "    def __init__(self, data):   # data -> value stored in node\n",
    "        self.data = data\n",
    "        self.next = None\n",
    "\n",
    "class Solution:\n",
    "    def sortedMerge(self,head1, head2):\n",
    "        # code here\n",
    "        if head1 is None:\n",
    "            return head2\n",
    "        if head2 is None:\n",
    "            return head1\n",
    "        \n",
    "        if head1.data<=head2.data:\n",
    "            head1.next=self.sortedMerge(head1.next,head2)\n",
    "            return head1\n",
    "        else:\n",
    "            head2.next=self.sortedMerge(head1,head2.next)\n",
    "            return head2\n",
    "            \n",
    "    def createLinkedList(self,values):\n",
    "        if not values:\n",
    "            return None\n",
    "        head = Node(values[0])\n",
    "        current = head\n",
    "        for value in values[1:]:\n",
    "            current.next = Node(value)\n",
    "            current = current.next\n",
    "        return head\n",
    "        \n",
    "    def printLL(self,head):\n",
    "        node = head\n",
    "        while node is not None:\n",
    "            print(node.data, end=\"\")\n",
    "            if node.next is not None:\n",
    "                print(\" -> \", end=\"\")\n",
    "            node = node.next\n",
    "        print() \n",
    "sol=Solution()\n",
    "sol.printLL(sol.sortedMerge(sol.createLinkedList( [5, 10, 15, 40]),sol.createLinkedList([2,3, 20])))\n",
    "sol.printLL(sol.sortedMerge(sol.createLinkedList([1, 1]),sol.createLinkedList( [2, 4])))"
   ]
  },
  {
   "cell_type": "code",
   "execution_count": null,
   "id": "4bb621a3-54d7-4dbc-917b-95a3e4105846",
   "metadata": {},
   "outputs": [],
   "source": []
  }
 ],
 "metadata": {
  "kernelspec": {
   "display_name": "Python 3 (ipykernel)",
   "language": "python",
   "name": "python3"
  },
  "language_info": {
   "codemirror_mode": {
    "name": "ipython",
    "version": 3
   },
   "file_extension": ".py",
   "mimetype": "text/x-python",
   "name": "python",
   "nbconvert_exporter": "python",
   "pygments_lexer": "ipython3",
   "version": "3.12.4"
  }
 },
 "nbformat": 4,
 "nbformat_minor": 5
}

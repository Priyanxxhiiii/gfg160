{
 "cells": [
  {
   "cell_type": "markdown",
   "id": "c6119fb4-3b7e-40b3-85d8-2068a783232b",
   "metadata": {},
   "source": [
    "# Construct Tree from Inorder & Preorder\n"
   ]
  },
  {
   "cell_type": "markdown",
   "id": "46e2a06c-d589-4d5a-ad2e-42690c101cf9",
   "metadata": {},
   "source": [
    "Given two arrays representing the inorder and preorder traversals of a binary tree, construct the tree and return the root node of the constructed tree.\n",
    "\n",
    "Note: The output is written in postorder traversal.\n",
    "\n",
    "Examples:\n",
    "\n",
    "##### Input: inorder[] = [1, 6, 8, 7], preorder[] = [1, 6, 7, 8]\n",
    "##### Output: [8, 7, 6, 1]\n",
    "##### Input: inorder[] = [3, 1, 4, 0, 2, 5], preorder[] = [0, 1, 3, 4, 2, 5]\n",
    "##### Output: [3, 4, 1, 5, 2, 0]\n",
    "##### Input: inorder[] = [2, 5, 4, 1, 3], preorder[] = [1, 4, 5, 2, 3]\n",
    "##### Output: [2, 5, 4, 3, 1]\n",
    "## Constraints:\n",
    "##### 1 ≤ number of nodes ≤ 10^3\n",
    "##### 0 ≤ nodes -> data ≤ 10^3\n",
    "Both the inorder and preorder arrays contain unique values."
   ]
  },
  {
   "cell_type": "code",
   "execution_count": null,
   "id": "2e9a1056-bd7a-4ab5-8ae7-d7aa987d6bdb",
   "metadata": {},
   "outputs": [],
   "source": [
    "#User function Template for python3\n",
    "\n",
    "'''\n",
    "# Node class\n",
    "class Node:\n",
    "    def __init__(self,val):\n",
    "        self.data = val\n",
    "        self.right = None\n",
    "        self.left = None\n",
    "\n",
    "'''\n",
    "# Note: Build tree and return root node\n",
    "class Solution:\n",
    "    def buildTreeRecur(self, mp, preorder, preIndex, left, right):\n",
    "        if left>right:\n",
    "            return None\n",
    "        rootVal=preorder[preIndex[0]]\n",
    "        preIndex[0]+=1\n",
    "        root=Node(rootVal)\n",
    "        index=mp[rootVal]\n",
    "        root.left=self.buildTreeRecur(mp,preorder,preIndex,left,index-1)\n",
    "        root.right=self.buildTreeRecur(mp,preorder,preIndex,index+1,right)\n",
    "        return root\n",
    "    def buildTree(self, inorder, preorder):\n",
    "        # code here\n",
    "        mp={value : idx for idx,value in enumerate(inorder)}\n",
    "        preIndex=[0]\n",
    "        return self.buildTreeRecur(mp,preorder,preIndex,0,len(inorder)-1)\n"
   ]
  }
 ],
 "metadata": {
  "kernelspec": {
   "display_name": "Python 3 (ipykernel)",
   "language": "python",
   "name": "python3"
  },
  "language_info": {
   "codemirror_mode": {
    "name": "ipython",
    "version": 3
   },
   "file_extension": ".py",
   "mimetype": "text/x-python",
   "name": "python",
   "nbconvert_exporter": "python",
   "pygments_lexer": "ipython3",
   "version": "3.12.4"
  }
 },
 "nbformat": 4,
 "nbformat_minor": 5
}

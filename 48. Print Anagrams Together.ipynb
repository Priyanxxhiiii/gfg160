{
 "cells": [
  {
   "cell_type": "markdown",
   "id": "65944fbe-ba4d-40fc-9800-8fe8fe5f7844",
   "metadata": {},
   "source": [
    "# Print Anagrams Together"
   ]
  },
  {
   "cell_type": "markdown",
   "id": "cd847d0c-cf65-4af7-813c-97fddf1f5720",
   "metadata": {},
   "source": [
    "Given an array of strings, return all groups of strings that are anagrams. The groups must be created in order of their appearance in the original array. Look at the sample case for clarification.\n",
    "\n",
    "Note: The final output will be in lexicographic order.\n",
    "\n",
    "Examples:\n",
    "\n",
    "##### Input: arr[] = [\"act\", \"god\", \"cat\", \"dog\", \"tac\"]\n",
    "##### Output: [[\"act\", \"cat\", \"tac\"], [\"god\", \"dog\"]]\n",
    "Explanation: There are 2 groups of anagrams \"god\", \"dog\" make group 1. \"act\", \"cat\", \"tac\" make group 2.\n",
    "##### Input: arr[] = [\"no\", \"on\", \"is\"]\n",
    "##### Output: [[\"is\"], [\"no\", \"on\"]]\n",
    "Explanation: There are 2 groups of anagrams \"is\" makes group 1. \"no\", \"on\" make group 2.\n",
    "##### Input: arr[] = [\"listen\", \"silent\", \"enlist\", \"abc\", \"cab\", \"bac\", \"rat\", \"tar\", \"art\"]\n",
    "##### Output: [[\"abc\", \"cab\", \"bac\"], [\"listen\", \"silent\", \"enlist\"], [\"rat\", \"tar\", \"art\"]]\n",
    "Explanation: \n",
    "\n",
    "Group 1: \"abc\", \"bac\", and \"cab\" are anagrams.\n",
    "\n",
    "Group 2: \"listen\", \"silent\", and \"enlist\" are anagrams.\n",
    "\n",
    "Group 3: \"rat\", \"tar\", and \"art\" are anagrams.\n",
    "\n",
    "## Constraints:\n",
    "##### 1<= arr.size() <=100\n",
    "##### 1<= arr[i].size() <=10"
   ]
  },
  {
   "cell_type": "code",
   "execution_count": 2,
   "id": "28d0e89b-9606-4b19-98fd-7774bf24f392",
   "metadata": {},
   "outputs": [
    {
     "name": "stdout",
     "output_type": "stream",
     "text": [
      "[['act', 'cat', 'tac'], ['god', 'dog']]\n",
      "[['no', 'on'], ['is']]\n",
      "[['listen', 'silent', 'enlist'], ['abc', 'cab', 'bac'], ['rat', 'tar', 'art']]\n"
     ]
    }
   ],
   "source": [
    "from collections import defaultdict\n",
    "class Solution:\n",
    "\n",
    "    def anagrams(self, arr):\n",
    "        '''\n",
    "        words: list of word\n",
    "        n:      no of words\n",
    "        return : list of group of anagram {list will be sorted in driver code (not word in grp)}\n",
    "        '''\n",
    "        #code here\n",
    "        anagram_map=defaultdict(list)\n",
    "        result=[]\n",
    "        for s in arr:\n",
    "            sorted_s=tuple(sorted(s))\n",
    "            anagram_map[sorted_s].append(s)\n",
    "        for values in anagram_map.values():\n",
    "            result.append(values)\n",
    "        return result\n",
    "sol=Solution()\n",
    "print(sol.anagrams(arr= [\"act\", \"god\", \"cat\", \"dog\", \"tac\"]))\n",
    "print(sol.anagrams( arr = [\"no\", \"on\", \"is\"]))\n",
    "print(sol.anagrams(arr = [\"listen\", \"silent\", \"enlist\", \"abc\", \"cab\", \"bac\", \"rat\", \"tar\", \"art\"]))"
   ]
  }
 ],
 "metadata": {
  "kernelspec": {
   "display_name": "Python 3 (ipykernel)",
   "language": "python",
   "name": "python3"
  },
  "language_info": {
   "codemirror_mode": {
    "name": "ipython",
    "version": 3
   },
   "file_extension": ".py",
   "mimetype": "text/x-python",
   "name": "python",
   "nbconvert_exporter": "python",
   "pygments_lexer": "ipython3",
   "version": "3.12.4"
  }
 },
 "nbformat": 4,
 "nbformat_minor": 5
}

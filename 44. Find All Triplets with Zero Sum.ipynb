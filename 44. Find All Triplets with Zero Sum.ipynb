{
 "cells": [
  {
   "cell_type": "markdown",
   "id": "edc4f6b9-81df-4205-9889-6190cbb21ec7",
   "metadata": {},
   "source": [
    "# Find All Triplets with Zero Sum"
   ]
  },
  {
   "cell_type": "markdown",
   "id": "ce92cae3-2a0e-4103-b691-b2fd7922b0a9",
   "metadata": {},
   "source": [
    "Given an array arr[], find all possible triplets i, j, k in the arr[] whose sum of elements is equals to zero. \n",
    "Returned triplet should also be internally sorted i.e. i<j<k.\n",
    "\n",
    "Examples:\n",
    "\n",
    "##### Input: arr[] = [0, -1, 2, -3, 1]\n",
    "##### Output: [[0, 1, 4], [2, 3, 4]]\n",
    "Explanation: Triplets with sum 0 are:\n",
    "\n",
    "arr[0] + arr[1] + arr[4] = 0 + (-1) + 1 = 0\n",
    "\n",
    "arr[2] + arr[3] + arr[4] = 2 + (-3) + 1 = 0\n",
    "##### Input: arr[] = [1, -2, 1, 0, 5]\n",
    "##### Output: [[0, 1, 2]]\n",
    "Explanation: Only triplet which satisfies the condition is arr[0] + arr[1] + arr[2] = 1 + (-2) + 1 = 0\n",
    "##### Input: arr[] = [2, 3, 1, 0, 5]\n",
    "##### Output: [[]]\n",
    "Explanation: There is no triplet with sum 0.\n",
    "## Constraints:\n",
    "##### 3 <= arr.size() <= 10^3\n",
    "##### -10^4 <= arr[i] <= 10^4"
   ]
  },
  {
   "cell_type": "code",
   "execution_count": 5,
   "id": "201369da-4564-4869-a34c-f8ff8f4df44a",
   "metadata": {},
   "outputs": [
    {
     "name": "stdout",
     "output_type": "stream",
     "text": [
      "[[0, 1, 4], [2, 3, 4]]\n",
      "[[0, 1, 2]]\n",
      "[]\n"
     ]
    }
   ],
   "source": [
    "class Solution():\n",
    "    def findTriplets(self, arr):\n",
    "        res=set()\n",
    "        n=len(arr)\n",
    "        hashmap={}\n",
    "        for i in range(n):\n",
    "            for j in range(i+1,n):\n",
    "                summ=arr[i]+arr[j]\n",
    "                if summ not in hashmap:\n",
    "                    hashmap[summ]=[]\n",
    "                hashmap[summ].append((i,j))\n",
    "        for i in range(n):\n",
    "            rest=-arr[i]\n",
    "            if rest in hashmap:\n",
    "                for p in hashmap[rest]:\n",
    "                    if p[0]!=i and p[1]!=i:\n",
    "                        current=sorted([i,p[0],p[1]])\n",
    "                        res.add(tuple(current))\n",
    "        return [list(triplet) for triplet in res]\n",
    "sol=Solution()\n",
    "print(sol.findTriplets(arr = [0, -1, 2, -3, 1]))\n",
    "print(sol.findTriplets(arr = [1, -2, 1, 0, 5]))\n",
    "print(sol.findTriplets( arr = [2, 3, 1, 0, 5]))"
   ]
  }
 ],
 "metadata": {
  "kernelspec": {
   "display_name": "Python 3 (ipykernel)",
   "language": "python",
   "name": "python3"
  },
  "language_info": {
   "codemirror_mode": {
    "name": "ipython",
    "version": 3
   },
   "file_extension": ".py",
   "mimetype": "text/x-python",
   "name": "python",
   "nbconvert_exporter": "python",
   "pygments_lexer": "ipython3",
   "version": "3.12.4"
  }
 },
 "nbformat": 4,
 "nbformat_minor": 5
}

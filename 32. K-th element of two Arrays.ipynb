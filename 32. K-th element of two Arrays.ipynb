{
 "cells": [
  {
   "cell_type": "markdown",
   "id": "f46adb27-1621-4414-87ef-a1a43f9f93ef",
   "metadata": {},
   "source": [
    "# K-th element of two Arrays\n"
   ]
  },
  {
   "cell_type": "markdown",
   "id": "f5ebe986-e30c-443d-b5ac-415fd31fd148",
   "metadata": {},
   "source": [
    "Given two sorted arrays a[] and b[] and an element k, the task is to find the element that would be at the kth position of the combined sorted array.\n",
    "\n",
    "Examples :\n",
    "\n",
    "##### Input: a[] = [2, 3, 6, 7, 9], b[] = [1, 4, 8, 10], k = 5\n",
    "##### Output: 6\n",
    "Explanation: The final combined sorted array would be [1, 2, 3, 4, 6, 7, 8, 9, 10]. The 5th element of this array is 6.\n",
    "##### Input: a[] = [100, 112, 256, 349, 770], b[] = [72, 86, 113, 119, 265, 445, 892], k = 7\n",
    "##### Output: 256\n",
    "Explanation: Combined sorted array is [72, 86, 100, 112, 113, 119, 256, 265, 349, 445, 770, 892]. The 7th element of this array is 256.\n",
    "##### Constraints:\n",
    "\n",
    "##### 1 <= a.size(), b.size() <= 10^6\n",
    "##### 1 <= k <= a.size() + b.size()\n",
    "##### 0 <= a[i], b[i] < 10^8"
   ]
  },
  {
   "cell_type": "markdown",
   "id": "a3df9aac-9c19-4d1a-98e9-7fdf23db37a7",
   "metadata": {},
   "source": [
    "# Code- time take: 0.71"
   ]
  },
  {
   "cell_type": "code",
   "execution_count": 1,
   "id": "70abf225-9028-4e17-b7a7-7b00f6b35a1f",
   "metadata": {},
   "outputs": [
    {
     "name": "stdout",
     "output_type": "stream",
     "text": [
      "6\n",
      "256\n"
     ]
    }
   ],
   "source": [
    "class Solution:\n",
    "\n",
    "    def kthElement(self, a, b, k):\n",
    "        i=len(a)-1\n",
    "        j=0\n",
    "        while i>=0 and j<len(b):\n",
    "            if a[i]<b[j]:\n",
    "                i-=1\n",
    "            else:\n",
    "                a[i],b[j]=b[j],a[i]\n",
    "                i-=1\n",
    "                j+=1\n",
    "        a.sort()\n",
    "        b.sort()\n",
    "        if len(a)>=k:\n",
    "            return a[k-1]\n",
    "        else:\n",
    "            k-=len(a)\n",
    "            return b[k-1]\n",
    "sol=Solution()\n",
    "print(sol.kthElement(a= [2, 3, 6, 7, 9], b= [1, 4, 8, 10], k = 5))\n",
    "print(sol.kthElement(a = [100, 112, 256, 349, 770], b = [72, 86, 113, 119, 265, 445, 892], k = 7))"
   ]
  }
 ],
 "metadata": {
  "kernelspec": {
   "display_name": "Python 3 (ipykernel)",
   "language": "python",
   "name": "python3"
  },
  "language_info": {
   "codemirror_mode": {
    "name": "ipython",
    "version": 3
   },
   "file_extension": ".py",
   "mimetype": "text/x-python",
   "name": "python",
   "nbconvert_exporter": "python",
   "pygments_lexer": "ipython3",
   "version": "3.12.4"
  }
 },
 "nbformat": 4,
 "nbformat_minor": 5
}

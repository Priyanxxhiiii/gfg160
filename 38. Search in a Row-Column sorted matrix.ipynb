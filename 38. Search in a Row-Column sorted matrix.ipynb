{
 "cells": [
  {
   "cell_type": "markdown",
   "id": "caf0a9b3-00bb-488b-8206-133bfe564968",
   "metadata": {},
   "source": [
    "# Search in a Row-Column sorted matrix"
   ]
  },
  {
   "cell_type": "markdown",
   "id": "f99eebfb-dfaf-4f30-936e-24e1d66eb9bc",
   "metadata": {},
   "source": [
    "Given a 2D integer matrix mat[][] of size n x m, where every row and column is sorted in increasing order and a number x, the task is to find whether element x is present in the matrix.\n",
    "\n",
    "Examples:\n",
    "\n",
    "##### Input: mat[][] = [[3, 30, 38],[20, 52, 54],[35, 60, 69]], x = 62\n",
    "##### Output: false\n",
    "Explanation: 62 is not present in the matrix, so output is false.\n",
    "##### Input: mat[][] = [[18, 21, 27],[38, 55, 67]], x = 55\n",
    "##### Output: true\n",
    "Explanation: 55 is present in the matrix.\n",
    "##### Input: mat[][] = [[1, 2, 3],[4, 5, 6],[7, 8, 9]], x = 3\n",
    "##### Output: true\n",
    "Explanation: 3 is present in the matrix.\n",
    "## Constraints:\n",
    "##### 1 <= n, m <=1000\n",
    "##### 1 <= mat[i][j] <= 10^9\n",
    "##### 1<= x <= 10^9"
   ]
  },
  {
   "cell_type": "markdown",
   "id": "4c6bffc4-b79c-48f2-b2c5-2b1b9f239f9e",
   "metadata": {},
   "source": [
    "# First approach- time taken: 0.8"
   ]
  },
  {
   "cell_type": "code",
   "execution_count": 1,
   "id": "59e0f682-a638-4974-8c01-7e2026fd088c",
   "metadata": {},
   "outputs": [
    {
     "name": "stdout",
     "output_type": "stream",
     "text": [
      "False\n",
      "True\n",
      "True\n"
     ]
    }
   ],
   "source": [
    "class Solution:\n",
    "    def matSearch(self, mat, x):\n",
    "        for i in range(len(mat)):\n",
    "            for j in range(len(mat[i])):\n",
    "                if mat[i][j]==x:\n",
    "                    return True\n",
    "        return False\n",
    "sol=Solution()\n",
    "print(sol.matSearch(mat = [[3, 30, 38],[20, 52, 54],[35, 60, 69]], x = 62))\n",
    "print(sol.matSearch(mat = [[18, 21, 27],[38, 55, 67]], x = 55))\n",
    "print(sol.matSearch(mat = [[1, 2, 3],[4, 5, 6],[7, 8, 9]], x = 3))"
   ]
  },
  {
   "cell_type": "markdown",
   "id": "e52da2b7-c008-4c30-9d4d-6372ebc8c9d4",
   "metadata": {},
   "source": [
    "# Second approach- time taken: 1.09"
   ]
  },
  {
   "cell_type": "code",
   "execution_count": 2,
   "id": "7240a818-c004-49b6-9206-3c248aedf3f9",
   "metadata": {},
   "outputs": [
    {
     "name": "stdout",
     "output_type": "stream",
     "text": [
      "False\n",
      "True\n",
      "True\n"
     ]
    }
   ],
   "source": [
    "#User function Template for python3\n",
    "class Solution:\n",
    "    def matSearch(self, mat, x):\n",
    "        # Complete this function\n",
    "        if not mat or not mat[0]:\n",
    "            return False\n",
    "        rows=len(mat)\n",
    "        cols=len(mat[0])\n",
    "        row=0\n",
    "        col=cols-1\n",
    "        while row<rows and col>=0:\n",
    "            if mat[row][col]==x:\n",
    "                return True\n",
    "            elif x<mat[row][col]:\n",
    "                col-=1\n",
    "            else:\n",
    "                row+=1\n",
    "        return False\n",
    "sol=Solution()\n",
    "print(sol.matSearch(mat = [[3, 30, 38],[20, 52, 54],[35, 60, 69]], x = 62))\n",
    "print(sol.matSearch(mat = [[18, 21, 27],[38, 55, 67]], x = 55))\n",
    "print(sol.matSearch(mat = [[1, 2, 3],[4, 5, 6],[7, 8, 9]], x = 3))"
   ]
  },
  {
   "cell_type": "code",
   "execution_count": null,
   "id": "e866e90d-c70f-491b-b273-3126d1c4a2c0",
   "metadata": {},
   "outputs": [],
   "source": []
  }
 ],
 "metadata": {
  "kernelspec": {
   "display_name": "Python 3 (ipykernel)",
   "language": "python",
   "name": "python3"
  },
  "language_info": {
   "codemirror_mode": {
    "name": "ipython",
    "version": 3
   },
   "file_extension": ".py",
   "mimetype": "text/x-python",
   "name": "python",
   "nbconvert_exporter": "python",
   "pygments_lexer": "ipython3",
   "version": "3.12.4"
  }
 },
 "nbformat": 4,
 "nbformat_minor": 5
}

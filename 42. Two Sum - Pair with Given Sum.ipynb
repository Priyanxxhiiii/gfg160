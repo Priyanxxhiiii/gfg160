{
 "cells": [
  {
   "cell_type": "markdown",
   "id": "638ffe24-5a6c-4e12-af52-939b095ae055",
   "metadata": {},
   "source": [
    "# Two Sum - Pair with Given Sum\n"
   ]
  },
  {
   "cell_type": "markdown",
   "id": "6267c844-af6b-41be-a2c3-15b14e09926c",
   "metadata": {},
   "source": [
    "Given an array arr[] of positive integers and another integer target. Determine if there exists two distinct indices such that the sum of there elements is equals to target.\n",
    "\n",
    "Examples:\n",
    "\n",
    "##### Input: arr[] = [1, 4, 45, 6, 10, 8], target = 16\n",
    "##### Output: true\n",
    "Explanation: arr[3] + arr[4] = 6 + 10 = 16.\n",
    "##### Input: arr[] = [1, 2, 4, 3, 6], target = 11\n",
    "##### Output: false\n",
    "Explanation: None of the pair makes a sum of 11.\n",
    "##### Input: arr[] = [11], target = 11\n",
    "##### Output: false\n",
    "Explanation: No pair is possible as only one element is present in arr[].\n",
    "### Constraints:\n",
    "##### 1 ≤ arr.size ≤ 10^5\n",
    "##### 1 ≤ arr[i] ≤ 10^5\n",
    "##### 1 ≤ target ≤ 2*10^5"
   ]
  },
  {
   "cell_type": "markdown",
   "id": "5375861b-b57d-4b03-9296-c8c588fb755f",
   "metadata": {},
   "source": [
    "# Two pointer approach"
   ]
  },
  {
   "cell_type": "markdown",
   "id": "e0c40a6f-0738-47fb-8e05-a8c4471d7788",
   "metadata": {},
   "source": [
    "class Solution:\n",
    "    def twoSum(self, arr, target):\n",
    "        arr.sort()\n",
    "        left=0\n",
    "        right=len(arr)-1\n",
    "        while left<right:\n",
    "            sum=arr[left]+arr[right]\n",
    "            if sum==target:\n",
    "                return True\n",
    "            elif sum<target:\n",
    "                left+=1\n",
    "            else:\n",
    "                right-=1\n",
    "        return False\n",
    "sol=Solution()\n",
    "print(sol.twoSum(arr = [1, 4, 45, 6, 10, 8], target = 16))\n",
    "print(sol.twoSum(arr = [1, 2, 4, 3, 6], target = 11))\n",
    "print(sol.twoSum(arr = [11], target = 11))"
   ]
  },
  {
   "cell_type": "markdown",
   "id": "4665a2e8-0447-4903-99a6-1a7bff9241f6",
   "metadata": {},
   "source": [
    "# Hashing"
   ]
  },
  {
   "cell_type": "code",
   "execution_count": 11,
   "id": "e6eb409e-6d1e-49f7-9712-885027f04dba",
   "metadata": {},
   "outputs": [
    {
     "name": "stdout",
     "output_type": "stream",
     "text": [
      "True\n",
      "False\n",
      "False\n"
     ]
    }
   ],
   "source": [
    "class Solution:\n",
    "    def twoSum(self, arr, target):\n",
    "        seen=set()\n",
    "        for num in arr:\n",
    "            complement=target-num\n",
    "            if complement in seen:\n",
    "                return True\n",
    "            seen.add(num)\n",
    "        return False\n",
    "sol=Solution()\n",
    "print(sol.twoSum(arr = [1, 4, 45, 6, 10, 8], target = 16))\n",
    "print(sol.twoSum(arr = [1, 2, 4, 3, 6], target = 11))\n",
    "print(sol.twoSum(arr = [11], target = 11))"
   ]
  },
  {
   "cell_type": "code",
   "execution_count": null,
   "id": "36026547-2b96-4bd9-bc6f-6e12fbe2d276",
   "metadata": {},
   "outputs": [],
   "source": []
  }
 ],
 "metadata": {
  "kernelspec": {
   "display_name": "Python 3 (ipykernel)",
   "language": "python",
   "name": "python3"
  },
  "language_info": {
   "codemirror_mode": {
    "name": "ipython",
    "version": 3
   },
   "file_extension": ".py",
   "mimetype": "text/x-python",
   "name": "python",
   "nbconvert_exporter": "python",
   "pygments_lexer": "ipython3",
   "version": "3.12.4"
  }
 },
 "nbformat": 4,
 "nbformat_minor": 5
}

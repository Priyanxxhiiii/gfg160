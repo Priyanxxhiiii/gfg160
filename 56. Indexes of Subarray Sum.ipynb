{
 "cells": [
  {
   "cell_type": "markdown",
   "id": "cdf66aaa-453e-444b-bad7-9360fbfc6864",
   "metadata": {},
   "source": [
    "# Indexes of Subarray Sum\n"
   ]
  },
  {
   "cell_type": "markdown",
   "id": "e6ed7d19-0ded-4b8b-9666-3a68ea8a764d",
   "metadata": {},
   "source": [
    "Given an array arr[] containing only non-negative integers, your task is to find a continuous subarray (a contiguous sequence of elements) whose sum equals a specified value target. You need to return the 1-based indices of the leftmost and rightmost elements of this subarray. You need to find the first subarray whose sum is equal to the target.\n",
    "\n",
    "Note: If no such array is possible then, return [-1].\n",
    "\n",
    "Examples:\n",
    "\n",
    "##### Input: arr[] = [1, 2, 3, 7, 5], target = 12\n",
    "##### Output: [2, 4]\n",
    "Explanation: The sum of elements from 2nd to 4th position is 12.\n",
    "##### Input: arr[] = [1, 2, 3, 4, 5, 6, 7, 8, 9, 10], target = 15\n",
    "##### Output: [1, 5]\n",
    "Explanation: The sum of elements from 1st to 5th position is 15.\n",
    "##### Input: arr[] = [5, 3, 4], target = 2\n",
    "##### Output: [-1]\n",
    "Explanation: There is no subarray with sum 2.\n",
    "## Constraints:\n",
    "##### 1 <= arr.size()<= 10^6\n",
    "##### 0 <= arr[i] <= 10^3\n",
    "##### 0 <= target <= 10^9"
   ]
  },
  {
   "cell_type": "code",
   "execution_count": 1,
   "id": "1cbb817d-d086-4662-8799-42ae4f2fc52b",
   "metadata": {},
   "outputs": [
    {
     "name": "stdout",
     "output_type": "stream",
     "text": [
      "[2, 4]\n",
      "[1, 5]\n",
      "[-1]\n"
     ]
    }
   ],
   "source": [
    "#User function Template for python3\n",
    "class Solution:\n",
    "    def subarraySum(self, arr, target):\n",
    "        # code here\n",
    "        for i in range(len(arr)):\n",
    "            sum=arr[i]\n",
    "            if sum==target:\n",
    "                return [i+1,i+1]\n",
    "            for j in range(i+1,len(arr)):\n",
    "                sum+=arr[j]\n",
    "                if sum==target:\n",
    "                    return [i+1,j+1]\n",
    "                elif sum>target:\n",
    "                    break\n",
    "        return [-1]\n",
    "sol=Solution()\n",
    "print(sol.subarraySum(arr = [1, 2, 3, 7, 5], target = 12))\n",
    "print(sol.subarraySum(arr = [1, 2, 3, 4, 5, 6, 7, 8, 9, 10], target = 15))\n",
    "print(sol.subarraySum(arr = [5, 3, 4], target = 2))"
   ]
  },
  {
   "cell_type": "markdown",
   "id": "88714aae-fe17-4d3c-95f9-6b00a984c3cd",
   "metadata": {},
   "source": [
    "# Using two pointer approach"
   ]
  },
  {
   "cell_type": "code",
   "execution_count": 2,
   "id": "8a4a06de-f43a-4f41-95bc-c4cb1b1b815a",
   "metadata": {},
   "outputs": [
    {
     "name": "stdout",
     "output_type": "stream",
     "text": [
      "[2, 4]\n",
      "[1, 5]\n",
      "[-1]\n"
     ]
    }
   ],
   "source": [
    "class Solution:\n",
    "    def subarraySum(self, arr, target):\n",
    "        # code here\n",
    "        i=0\n",
    "        sum=0\n",
    "        for j in range(len(arr)):\n",
    "            sum+=arr[j]\n",
    "            while sum>target and i<=j:\n",
    "                sum-=arr[i]\n",
    "                i+=1\n",
    "            if sum==target:\n",
    "                return [i+1,j+1]\n",
    "            \n",
    "        return [-1]\n",
    "sol=Solution()\n",
    "print(sol.subarraySum(arr = [1, 2, 3, 7, 5], target = 12))\n",
    "print(sol.subarraySum(arr = [1, 2, 3, 4, 5, 6, 7, 8, 9, 10], target = 15))\n",
    "print(sol.subarraySum(arr = [5, 3, 4], target = 2))"
   ]
  },
  {
   "cell_type": "markdown",
   "id": "d33d3c10-afb4-4864-aa94-c253dffccbd9",
   "metadata": {},
   "source": [
    "# Using dictionary(hashmap)"
   ]
  },
  {
   "cell_type": "code",
   "execution_count": 3,
   "id": "02bfd62e-b82e-4623-9abc-478da2e88961",
   "metadata": {},
   "outputs": [
    {
     "name": "stdout",
     "output_type": "stream",
     "text": [
      "[2, 4]\n",
      "[1, 5]\n",
      "[-1]\n"
     ]
    }
   ],
   "source": [
    "#User function Template for python3\n",
    "class Solution:\n",
    "    def subarraySum(self, arr, target):\n",
    "        # code here\n",
    "        dict1={}\n",
    "        sum=0\n",
    "        for i in range(len(arr)):\n",
    "            sum+=arr[i]\n",
    "            if sum==target:\n",
    "                return [1,i+1]\n",
    "            if sum-target in dict1:\n",
    "                return [dict1[sum-target]+2,i+1]\n",
    "            if sum-target not in dict1:\n",
    "                dict1[sum]=i\n",
    "        return [-1]\n",
    "sol=Solution()\n",
    "print(sol.subarraySum(arr = [1, 2, 3, 7, 5], target = 12))\n",
    "print(sol.subarraySum(arr = [1, 2, 3, 4, 5, 6, 7, 8, 9, 10], target = 15))\n",
    "print(sol.subarraySum(arr = [5, 3, 4], target = 2))"
   ]
  }
 ],
 "metadata": {
  "kernelspec": {
   "display_name": "Python 3 (ipykernel)",
   "language": "python",
   "name": "python3"
  },
  "language_info": {
   "codemirror_mode": {
    "name": "ipython",
    "version": 3
   },
   "file_extension": ".py",
   "mimetype": "text/x-python",
   "name": "python",
   "nbconvert_exporter": "python",
   "pygments_lexer": "ipython3",
   "version": "3.12.4"
  }
 },
 "nbformat": 4,
 "nbformat_minor": 5
}

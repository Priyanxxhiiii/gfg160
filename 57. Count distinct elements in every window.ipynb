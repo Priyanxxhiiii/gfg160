{
 "cells": [
  {
   "cell_type": "markdown",
   "id": "c2807d0c-6bab-4165-8aab-0eb0148e74e9",
   "metadata": {},
   "source": [
    "# Count distinct elements in every window\n"
   ]
  },
  {
   "cell_type": "markdown",
   "id": "4af01bc0-39f9-4ca3-844f-2d5a109dfa7a",
   "metadata": {},
   "source": [
    "Given an integer array arr[] and a number k. Find the count of distinct elements in every window of size k in the array.\n",
    "\n",
    "Examples:\n",
    "\n",
    "##### Input: arr[] = [1, 2, 1, 3, 4, 2, 3], k = 4\n",
    "##### Output:  [3, 4, 4, 3]\n",
    "Explanation: Window 1 of size k = 4 is 1 2 1 3. Number of distinct elements in this window are 3. \n",
    "\n",
    "Window 2 of size k = 4 is 2 1 3 4. Number of distinct elements in this window are 4.\n",
    "\n",
    "Window 3 of size k = 4 is 1 3 4 2. Number of distinct elements in this window are 4.\n",
    "\n",
    "Window 4 of size k = 4 is 3 4 2 3. Number of distinct elements in this window are 3.\n",
    "##### Input: arr[] = [4, 1, 1], k = 2\n",
    "##### Output: [2, 1]\n",
    "Explanation: Window 1 of size k = 2 is 4 1. Number of distinct elements in this window are 2. \n",
    "Window 2 of size k = 2 is 1 1. Number of distinct elements in this window is 1. \n",
    "##### Input: arr[] = [1, 1, 1, 1, 1], k = 3\n",
    "##### Output: [1, 1, 1]\n",
    "## Constraints:\n",
    "##### 1 <= k <= arr.size() <= 10^5\n",
    "##### 1 <= arr[i] <= 10^5"
   ]
  },
  {
   "cell_type": "markdown",
   "id": "e26ab774-d5e8-4cce-84b2-ed56ff74c7c2",
   "metadata": {},
   "source": [
    "# Brute Force"
   ]
  },
  {
   "cell_type": "code",
   "execution_count": 1,
   "id": "8bc87a20-d4b7-4ac0-a1c4-c04d12da488c",
   "metadata": {},
   "outputs": [
    {
     "name": "stdout",
     "output_type": "stream",
     "text": [
      "[3, 4, 4, 3]\n",
      "[2, 1]\n",
      "[1, 1, 1]\n"
     ]
    }
   ],
   "source": [
    "class Solution:\n",
    "    def countDistinct(self, arr, k):\n",
    "        # Code here\n",
    "        res=[]\n",
    "        p=len(arr)-k\n",
    "        while p>=0:\n",
    "            dict={}\n",
    "            for i in range(p,k+p):\n",
    "                dict[arr[i]]=dict.get(arr[i],0)+1\n",
    "            cnt=0\n",
    "            for keys in dict.items():\n",
    "                cnt+=1\n",
    "            res.append(cnt)\n",
    "            p-=1\n",
    "        return res[::-1]\n",
    "sol=Solution()\n",
    "print(sol.countDistinct(arr = [1, 2, 1, 3, 4, 2, 3], k = 4))\n",
    "print(sol.countDistinct(arr = [4, 1, 1], k = 2))\n",
    "print(sol.countDistinct(arr = [1, 1, 1, 1, 1], k = 3))"
   ]
  },
  {
   "cell_type": "markdown",
   "id": "7e7aa6ce-cfa0-473f-855c-523eb1bf0b96",
   "metadata": {},
   "source": [
    "# Two pointer approach"
   ]
  },
  {
   "cell_type": "code",
   "execution_count": 2,
   "id": "d4b5af81-32fa-4b8e-bff8-a0639fa30680",
   "metadata": {},
   "outputs": [
    {
     "name": "stdout",
     "output_type": "stream",
     "text": [
      "[3, 4, 4, 3]\n",
      "[2, 1]\n",
      "[1, 1, 1]\n"
     ]
    }
   ],
   "source": [
    "class Solution:\n",
    "    def countDistinct(self, arr, k):\n",
    "        # Code here\n",
    "        n=len(arr)\n",
    "        res=[]\n",
    "        if n<k:\n",
    "            return []\n",
    "        l=0\n",
    "        dict1={}\n",
    "        for r in range(n):\n",
    "            dict1[arr[r]]=dict1.get(arr[r],0)+1\n",
    "            if r>=k-1:\n",
    "                res.append(len(dict1))\n",
    "                remove=arr[l]\n",
    "                dict1[remove]-=1\n",
    "                if dict1[remove]==0:\n",
    "                    del dict1[remove]\n",
    "                l+=1   \n",
    "        return res\n",
    "sol=Solution()\n",
    "print(sol.countDistinct(arr = [1, 2, 1, 3, 4, 2, 3], k = 4))\n",
    "print(sol.countDistinct(arr = [4, 1, 1], k = 2))\n",
    "print(sol.countDistinct(arr = [1, 1, 1, 1, 1], k = 3))"
   ]
  },
  {
   "cell_type": "markdown",
   "id": "9caadf74-61f7-4c5d-877b-a715cc5b4b16",
   "metadata": {},
   "source": [
    "# Sliding window"
   ]
  },
  {
   "cell_type": "code",
   "execution_count": 3,
   "id": "5e5a5e4a-f9c5-4f47-8d7d-8a7c159e799b",
   "metadata": {},
   "outputs": [
    {
     "name": "stdout",
     "output_type": "stream",
     "text": [
      "[3, 4, 4, 3]\n",
      "[2, 1]\n",
      "[1, 1, 1]\n"
     ]
    }
   ],
   "source": [
    "class Solution:\n",
    "    def countDistinct(self, arr, k):\n",
    "        # Code here\n",
    "        n=len(arr)\n",
    "        res=[]\n",
    "        if n<k:\n",
    "            return []\n",
    "        dict1={}\n",
    "        for i in range(k):\n",
    "            dict1[arr[i]]=dict1.get(arr[i],0)+1\n",
    "        res.append(len(dict1))\n",
    "        for i in range(k,n):\n",
    "            remove=arr[i-k]\n",
    "            dict1[remove]-=1\n",
    "            if dict1[remove]==0:\n",
    "                del dict1[remove]\n",
    "            add=arr[i]\n",
    "            dict1[add]=dict1.get(add,0)+1\n",
    "            res.append(len(dict1))\n",
    "                \n",
    "        return res\n",
    "sol=Solution()\n",
    "print(sol.countDistinct(arr = [1, 2, 1, 3, 4, 2, 3], k = 4))\n",
    "print(sol.countDistinct(arr = [4, 1, 1], k = 2))\n",
    "print(sol.countDistinct(arr = [1, 1, 1, 1, 1], k = 3))"
   ]
  }
 ],
 "metadata": {
  "kernelspec": {
   "display_name": "Python 3 (ipykernel)",
   "language": "python",
   "name": "python3"
  },
  "language_info": {
   "codemirror_mode": {
    "name": "ipython",
    "version": 3
   },
   "file_extension": ".py",
   "mimetype": "text/x-python",
   "name": "python",
   "nbconvert_exporter": "python",
   "pygments_lexer": "ipython3",
   "version": "3.12.4"
  }
 },
 "nbformat": 4,
 "nbformat_minor": 5
}

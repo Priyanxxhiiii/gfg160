{
 "cells": [
  {
   "cell_type": "markdown",
   "id": "f66ece13-350a-459f-9079-085293e1946d",
   "metadata": {},
   "source": [
    "# Add Binary Strings"
   ]
  },
  {
   "cell_type": "markdown",
   "id": "7b4d8fc7-428b-4c2f-b420-d2379ecb227c",
   "metadata": {},
   "source": [
    "Given two binary strings s1 and s2 consisting of only 0s and 1s. Find the resultant string after adding the two Binary Strings.\n",
    "Note: The input strings may contain leading zeros but the output string should not have any leading zeros.\n",
    "\n",
    "### Input: s1 = \"1101\", s2 = \"111\"\n",
    "### Output: 10100\n",
    "Explanation:\n",
    "####   1101\n",
    "#### + 111\n",
    "#### 10100\n",
    "### Input: s1 = \"00100\", s2 = \"010\"\n",
    "### Output: 110\n",
    "Explanation: \n",
    "####    100\n",
    "#### +  10\n",
    "####   110\n",
    "### Constraints:\n",
    "#### 1 ≤s1.size(), s2.size()≤ 10^6"
   ]
  },
  {
   "cell_type": "markdown",
   "id": "2e54519e-2735-453c-bfe1-d3bbf8b08d3b",
   "metadata": {},
   "source": [
    "# Code"
   ]
  },
  {
   "cell_type": "code",
   "execution_count": 25,
   "id": "c30d1181-4d10-4226-8008-8dfcd283d742",
   "metadata": {},
   "outputs": [
    {
     "name": "stdout",
     "output_type": "stream",
     "text": [
      "10100\n",
      "110\n",
      "10100\n"
     ]
    }
   ],
   "source": [
    "class Solution:\n",
    "    def addBinary(self, s1, s2):\n",
    "        # code here \n",
    "        maxlen=max(len(s1),len(s2))\n",
    "        carry=0\n",
    "        res=\"\"\n",
    "        s1=s1[::-1]\n",
    "        s2=s2[::-1]\n",
    "        for i in range(maxlen):\n",
    "            digitA=(ord(s1[i])-ord(\"0\")) if i<len(s1) else 0\n",
    "            digitB=(ord(s2[i])-ord(\"0\")) if i<len(s2) else 0\n",
    "        \n",
    "            total=digitA+digitB+carry\n",
    "            char=str(total%2)\n",
    "            res=char+res\n",
    "            carry=total//2\n",
    "        if carry:\n",
    "            res=\"1\"+res\n",
    "        i=0\n",
    "        while res[i]=='0':\n",
    "            i+=1\n",
    "        return res[i:]\n",
    "sol=Solution()\n",
    "print(sol.addBinary(\"1101\", \"111\"))\n",
    "print(sol.addBinary(\"00100\", \"010\"))\n",
    "print(sol.addBinary(\"01101\",\"0111\"))"
   ]
  }
 ],
 "metadata": {
  "kernelspec": {
   "display_name": "Python 3 (ipykernel)",
   "language": "python",
   "name": "python3"
  },
  "language_info": {
   "codemirror_mode": {
    "name": "ipython",
    "version": 3
   },
   "file_extension": ".py",
   "mimetype": "text/x-python",
   "name": "python",
   "nbconvert_exporter": "python",
   "pygments_lexer": "ipython3",
   "version": "3.12.4"
  }
 },
 "nbformat": 4,
 "nbformat_minor": 5
}

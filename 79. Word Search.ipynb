{
 "cells": [
  {
   "cell_type": "markdown",
   "id": "fe633136-f957-4d26-a084-63124c16ae80",
   "metadata": {},
   "source": [
    "# Word Search\n"
   ]
  },
  {
   "attachments": {},
   "cell_type": "markdown",
   "id": "65c8f169-ad3e-4bcd-9bbd-b32debf965b3",
   "metadata": {},
   "source": [
    "You are given a two-dimensional mat[][] of size n*m containing English alphabets and a string word. Check if the word exists on the mat. The word can be constructed by using letters from adjacent cells, either horizontally or vertically. The same cell cannot be used more than once.\n",
    "\n",
    "Examples :\n",
    "\n",
    "##### Input: mat[][] = [['T', 'E', 'E'], ['S', 'G', 'K'], ['T', 'E', 'L']], word = \"GEEK\"\n",
    "##### Output: true\n",
    "##### Explanation:\n",
    "The letter cells which are used to construct the \"GEEK\" are colored.\n",
    "##### Input: mat[][] = [['T', 'E', 'U'], ['S', 'G', 'K'], ['T', 'E', 'L']], word = \"GEEK\"\n",
    "##### Output: false\n",
    "##### Explanation:\n",
    "It is impossible to construct the string word from the mat using each cell only once.\n",
    "##### Input: mat[][] = [['A', 'B', 'A'], ['B', 'A', 'B']], word = \"AB\"\n",
    "##### Output: true\n",
    "##### Explanation:\n",
    "\n",
    "There are multiple ways to construct the word \"AB\".\n",
    "## Constraints:\n",
    "##### 1 ≤ n, m ≤ 6\n",
    "##### 1 ≤ L ≤ 15\n",
    "##### mat and word consists of only lowercase and uppercase English letters.\n",
    "\n"
   ]
  },
  {
   "cell_type": "code",
   "execution_count": 2,
   "id": "e7ff195b-5b59-406e-9745-56f861fec87c",
   "metadata": {},
   "outputs": [
    {
     "name": "stdout",
     "output_type": "stream",
     "text": [
      "True\n",
      "False\n",
      "True\n"
     ]
    }
   ],
   "source": [
    "class Solution:\n",
    "    def isWordExist(self, mat, word):\n",
    "\t\t#Code here\n",
    "\n",
    "        ROWS, COLS= len(mat), len(mat[0])\n",
    "        path=set()\n",
    "\n",
    "        def dfs(r,c,i):\n",
    "            if i==len(word):\n",
    "                return True\n",
    "            if( r<0 or c<0 or r>=ROWS or c>=COLS or word[i]!=mat[r][c] or (r,c) in path ):\n",
    "                return False\n",
    "\n",
    "            path.add((r,c))\n",
    "\n",
    "            res=(dfs(r+1,c,i+1) or dfs(r-1,c,i+1) or dfs(r,c+1,i+1) or dfs(r,c-1,i+1))\n",
    "\n",
    "            path.remove((r,c))\n",
    "\n",
    "            return res\n",
    "\n",
    "        for r in range(ROWS):\n",
    "            for c in range(COLS):\n",
    "                if dfs(r,c,0): return True\n",
    "        return False\n",
    "sol=Solution()\n",
    "print(sol.isWordExist(mat= [['T', 'E', 'E'], ['S', 'G', 'K'], ['T', 'E', 'L']], word = \"GEEK\"))\n",
    "print(sol.isWordExist(mat = [['T', 'E', 'U'], ['S', 'G', 'K'], ['T', 'E', 'L']], word = \"GEEK\"))\n",
    "print(sol.isWordExist(mat = [['A', 'B', 'A'], ['B', 'A', 'B']], word = \"AB\"))"
   ]
  }
 ],
 "metadata": {
  "kernelspec": {
   "display_name": "Python 3 (ipykernel)",
   "language": "python",
   "name": "python3"
  },
  "language_info": {
   "codemirror_mode": {
    "name": "ipython",
    "version": 3
   },
   "file_extension": ".py",
   "mimetype": "text/x-python",
   "name": "python",
   "nbconvert_exporter": "python",
   "pygments_lexer": "ipython3",
   "version": "3.12.4"
  }
 },
 "nbformat": 4,
 "nbformat_minor": 5
}

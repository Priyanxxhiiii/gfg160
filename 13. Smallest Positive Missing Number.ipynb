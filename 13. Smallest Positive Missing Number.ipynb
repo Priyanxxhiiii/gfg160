{
 "cells": [
  {
   "cell_type": "markdown",
   "id": "7238e6e9-b0cd-4a80-b02a-23e038e24d75",
   "metadata": {},
   "source": [
    "# Smallest Positive Missing Number"
   ]
  },
  {
   "cell_type": "markdown",
   "id": "f40d661b-f35e-4477-9be5-8a46b2727342",
   "metadata": {},
   "source": [
    "You are given an integer array arr[]. Your task is to find the smallest positive number missing from the array.\n",
    "\n",
    "Note: Positive number starts from 1. The array can have negative integers too.\n",
    "\n",
    "Examples:\n",
    "\n",
    "### Input: arr[] = [2, -3, 4, 1, 1, 7]\n",
    "### Output: 3\n",
    "Explanation: Smallest positive missing number is 3.\n",
    "### Input: arr[] = [5, 3, 2, 5, 1]\n",
    "### Output: 4\n",
    "Explanation: Smallest positive missing number is 4.\n",
    "### Input: arr[] = [-8, 0, -1, -4, -3]\n",
    "### Output: 1\n",
    "Explanation: Smallest positive missing number is 1.\n",
    "### Constraints:  \n",
    "#### 1 <= arr.size() <= 10^5\n",
    "#### -10^6 <= arr[i] <= 10^6"
   ]
  },
  {
   "cell_type": "code",
   "execution_count": 2,
   "id": "4ae42b85-e134-4da5-8e19-1ddbd2488b6d",
   "metadata": {},
   "outputs": [
    {
     "name": "stdout",
     "output_type": "stream",
     "text": [
      "3\n",
      "4\n",
      "1\n"
     ]
    }
   ],
   "source": [
    "class Solution:\n",
    "    \n",
    "    #Function to find the smallest positive number missing from the array.\n",
    "    def missingNumber(self,arr):\n",
    "        #Your code here\n",
    "        n=len(arr)\n",
    "        f=False\n",
    "        for ele in arr:\n",
    "            if ele==1:\n",
    "                f=True \n",
    "                break\n",
    "        if f==False:\n",
    "            return 1\n",
    "            \n",
    "        for i in range(n):\n",
    "            if arr[i]<=0 or arr[i]>n:\n",
    "                arr[i]=1\n",
    "                \n",
    "        for j in range(n):\n",
    "            arr[(arr[j]-1)%n]+=n\n",
    "            \n",
    "            \n",
    "        for k in range(n):\n",
    "            if arr[k]<=n:\n",
    "                return k+1\n",
    "                \n",
    "        return n+1\n",
    "        \n",
    "if __name__==\"__main__\":\n",
    "    sol=Solution()\n",
    "    print(sol.missingNumber( [2, -3, 4, 1, 1, 7]))\n",
    "    print(sol.missingNumber( [5, 3, 2, 5, 1]))\n",
    "    print(sol.missingNumber([-8, 0, -1, -4, -3]))"
   ]
  },
  {
   "cell_type": "code",
   "execution_count": 1,
   "id": "8a1fadc8-e90a-425c-9431-3f8752944a5b",
   "metadata": {},
   "outputs": [
    {
     "name": "stdout",
     "output_type": "stream",
     "text": [
      "4\n"
     ]
    }
   ],
   "source": [
    "#Function to find the smallest positive number missing from the array.\n",
    "def missingNumber(arr):\n",
    "    #Your code here\n",
    "    series=[]\n",
    "    n=len(arr)\n",
    "    for i in range(1,n+2):\n",
    "        series.append(i)\n",
    "    for j in range(n+1):\n",
    "        if series[j] in arr:\n",
    "            continue\n",
    "        else:\n",
    "            return series[j]\n",
    "print(missingNumber( [5, 3, 2, 5, 1]))"
   ]
  },
  {
   "cell_type": "code",
   "execution_count": 1,
   "id": "52e27bde-ad49-4c2c-9ac5-4e16fb6b6c9b",
   "metadata": {},
   "outputs": [
    {
     "name": "stdout",
     "output_type": "stream",
     "text": [
      "1\n"
     ]
    }
   ],
   "source": [
    "def missingNumber(arr):\n",
    "        #Your code here\n",
    "        n=len(arr)\n",
    "        k=1\n",
    "        for j in range(n+1):\n",
    "            if k in arr:\n",
    "                k+=1\n",
    "                continue\n",
    "            else:\n",
    "                return k\n",
    "print(missingNumber([-8, 0, -1, -4, -3]))\n"
   ]
  }
 ],
 "metadata": {
  "kernelspec": {
   "display_name": "Python 3 (ipykernel)",
   "language": "python",
   "name": "python3"
  },
  "language_info": {
   "codemirror_mode": {
    "name": "ipython",
    "version": 3
   },
   "file_extension": ".py",
   "mimetype": "text/x-python",
   "name": "python",
   "nbconvert_exporter": "python",
   "pygments_lexer": "ipython3",
   "version": "3.12.4"
  }
 },
 "nbformat": 4,
 "nbformat_minor": 5
}

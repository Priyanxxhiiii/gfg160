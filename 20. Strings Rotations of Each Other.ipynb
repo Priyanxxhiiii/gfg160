{
 "cells": [
  {
   "cell_type": "markdown",
   "id": "0c8f593f-32cd-4d10-b924-dc6db322f740",
   "metadata": {},
   "source": [
    "# Strings Rotations of Each Other\n"
   ]
  },
  {
   "cell_type": "markdown",
   "id": "509e3465-0038-46e9-931b-82cd71e6a4d7",
   "metadata": {},
   "source": [
    "You are given two strings of equal lengths, s1 and s2. The task is to check if s2 is a rotated version of the string s1.\n",
    "\n",
    "Note: The characters in the strings are in lowercase.\n",
    "\n",
    "Examples :\n",
    "\n",
    "#### Input: s1 = \"abcd\", s2 = \"cdab\"\n",
    "#### Output: true\n",
    "Explanation: After 2 right rotations, s1 will become equal to s2.\n",
    "#### Input: s1 = \"aab\", s2 = \"aba\"\n",
    "#### Output: true\n",
    "Explanation: After 1 left rotation, s1 will become equal to s2.\n",
    "#### Input: s1 = \"abcd\", s2 = \"acbd\"\n",
    "#### Output: false\n",
    "Explanation: Strings are not rotations of each other.\n",
    "#### Constraints:\n",
    "1 <= s1.size(), s2.size() <= 10^5"
   ]
  },
  {
   "cell_type": "code",
   "execution_count": 1,
   "id": "9a1ba957-f479-4b68-acc1-8dce4d6e25ff",
   "metadata": {},
   "outputs": [
    {
     "name": "stdout",
     "output_type": "stream",
     "text": [
      "True\n",
      "True\n",
      "False\n"
     ]
    }
   ],
   "source": [
    "def areRotations(s1,s2):\n",
    "    #code here\n",
    "    if len(s1)!=len(s2):\n",
    "        return False\n",
    "    else:\n",
    "        return s2 in (s1+s1)\n",
    "print(areRotations('abcd','cdab'))\n",
    "print(areRotations('aab','aba'))\n",
    "print(areRotations('abcd','acbd'))"
   ]
  }
 ],
 "metadata": {
  "kernelspec": {
   "display_name": "Python 3 (ipykernel)",
   "language": "python",
   "name": "python3"
  },
  "language_info": {
   "codemirror_mode": {
    "name": "ipython",
    "version": 3
   },
   "file_extension": ".py",
   "mimetype": "text/x-python",
   "name": "python",
   "nbconvert_exporter": "python",
   "pygments_lexer": "ipython3",
   "version": "3.12.4"
  }
 },
 "nbformat": 4,
 "nbformat_minor": 5
}

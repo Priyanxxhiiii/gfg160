{
 "cells": [
  {
   "cell_type": "markdown",
   "id": "12e8e454-63b2-43a5-83cf-c23946d83b40",
   "metadata": {},
   "source": [
    "# Reverse An Array"
   ]
  },
  {
   "cell_type": "markdown",
   "id": "2ade783e-1853-4640-aede-c3d3bf3ca462",
   "metadata": {},
   "source": [
    "You are given an array of integers arr[]. Your task is to reverse the given array.\n",
    "\n",
    "\n",
    "##### Input: arr = [1, 4, 3, 2, 6, 5]\n",
    "##### Output: [5, 6, 2, 3, 4, 1]\n",
    "Explanation: The elements of the array are 1 4 3 2 6 5. After reversing the array, the first element goes to the last position, the second element goes to the second last position and so on. Hence, the answer is 5 6 2 3 4 1.\n",
    "##### Input: arr = [4, 5, 2]\n",
    "##### Output: [2, 5, 4]\n",
    "Explanation: The elements of the array are 4 5 2. The reversed array will be 2 5 4.\n",
    "##### Input: arr = [1]\n",
    "##### Output: [1]\n",
    "Explanation: The array has only single element, hence the reversed array is same as the original.\n",
    "##### Constraints:\n",
    "###### 1<=arr.size()<=105\n",
    "###### 0<=arr[i]<=105"
   ]
  },
  {
   "cell_type": "code",
   "execution_count": 3,
   "id": "d4fd85c8-65ee-4511-bd4f-dd4ae0563956",
   "metadata": {},
   "outputs": [
    {
     "name": "stdout",
     "output_type": "stream",
     "text": [
      "5 6 2 3 4 1 "
     ]
    }
   ],
   "source": [
    "class Solution:\n",
    "    def reverseArray(self, arr):\n",
    "        # code here\n",
    "        for i in range(len(arr)//2):\n",
    "            arr[i],arr[~i]=arr[~i],arr[i]\n",
    "            \n",
    "            '''temp=arr[i]\n",
    "            arr[i]=arr[len(arr)-i-1]\n",
    "            arr[len(arr)-i-1]=temp'''\n",
    "            \n",
    "        return arr\n",
    "solution=Solution()\n",
    "p=solution.reverseArray([1,4,3,2,6,5])\n",
    "for num in p:\n",
    "    print(num,end=\" \")"
   ]
  }
 ],
 "metadata": {
  "kernelspec": {
   "display_name": "Python 3 (ipykernel)",
   "language": "python",
   "name": "python3"
  },
  "language_info": {
   "codemirror_mode": {
    "name": "ipython",
    "version": 3
   },
   "file_extension": ".py",
   "mimetype": "text/x-python",
   "name": "python",
   "nbconvert_exporter": "python",
   "pygments_lexer": "ipython3",
   "version": "3.12.4"
  }
 },
 "nbformat": 4,
 "nbformat_minor": 5
}

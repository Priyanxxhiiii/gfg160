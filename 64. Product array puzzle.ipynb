{
 "cells": [
  {
   "cell_type": "markdown",
   "id": "f3aa2193-4958-47b0-9c78-242a9cfc0073",
   "metadata": {},
   "source": [
    "# Product array puzzle\n"
   ]
  },
  {
   "cell_type": "markdown",
   "id": "085d17c5-87e6-474c-8c3a-d29b51382870",
   "metadata": {},
   "source": [
    "Given an array, arr[] construct a product array, res[] where each element in res[i] is the product of all elements in arr[] except arr[i]. Return this resultant array, res[].\n",
    "Note: Each element is res[] lies inside the 32-bit integer range.\n",
    "\n",
    "Examples:\n",
    "\n",
    "##### Input: arr[] = [10, 3, 5, 6, 2]\n",
    "##### Output: [180, 600, 360, 300, 900]\n",
    "Explanation: \n",
    "##### For i=0, res[i] = 3 * 5 * 6 * 2 is 180.\n",
    "##### For i = 1, res[i] = 10 * 5 * 6 * 2 is 600.\n",
    "##### For i = 2, res[i] = 10 * 3 * 6 * 2 is 360.\n",
    "##### For i = 3, res[i] = 10 * 3 * 5 * 2 is 300.\n",
    "##### For i = 4, res[i] = 10 * 3 * 5 * 6 is 900.\n",
    "##### Input: arr[] = [12, 0]\n",
    "##### Output: [0, 12]\n",
    "Explanation: For i = 0, res[i] is 0.\n",
    "##### For i = 1, res[i] is 12.\n",
    "## Constraints:\n",
    "##### 2 <= arr.size() <= 10^5\n",
    "##### -100 <= arr[i] <= 100"
   ]
  },
  {
   "cell_type": "code",
   "execution_count": 1,
   "id": "76fabd6d-e5f7-4f3e-b01d-1fa7d2ed05d8",
   "metadata": {},
   "outputs": [
    {
     "name": "stdout",
     "output_type": "stream",
     "text": [
      "[180, 600, 360, 300, 900]\n",
      "[0, 12]\n"
     ]
    }
   ],
   "source": [
    "class Solution:\n",
    "    def productExceptSelf(self, arr):\n",
    "        #code here\n",
    "        n=len(arr)\n",
    "        res=[1]*n\n",
    "        prefix=1\n",
    "        for i in range(0,n):\n",
    "            res[i]=prefix\n",
    "            prefix*=arr[i]\n",
    "            \n",
    "        suffix=1\n",
    "        for i in range(n-1,-1,-1):\n",
    "            res[i]*=suffix\n",
    "            suffix*=arr[i]\n",
    "        return res\n",
    "sol=Solution()\n",
    "print(sol.productExceptSelf(arr = [10, 3, 5, 6, 2]))\n",
    "print(sol.productExceptSelf(arr = [12, 0]))"
   ]
  },
  {
   "cell_type": "code",
   "execution_count": 3,
   "id": "6ee1ec93-cafd-4e40-a849-b17a58cbaa25",
   "metadata": {},
   "outputs": [
    {
     "name": "stdout",
     "output_type": "stream",
     "text": [
      "[180, 600, 360, 300, 900]\n",
      "[0, 12]\n"
     ]
    }
   ],
   "source": [
    "class Solution:\n",
    "    def productExceptSelf(self, arr):\n",
    "        n=len(arr)\n",
    "        if n==0:\n",
    "            return []\n",
    "        prefix=[1]*n\n",
    "        suffix=[1]*n\n",
    "        res=[1]*n\n",
    "        prefix[0]=1\n",
    "        for i in range(1,n):\n",
    "            prefix[i]=prefix[i-1]*arr[i-1]\n",
    "\n",
    "        suffix[n-1]=1\n",
    "        for i in range(n-2,-1,-1):\n",
    "            suffix[i]=suffix[i+1]*arr[i+1]\n",
    "        for i in range(n):\n",
    "            res[i]=prefix[i]*suffix[i]\n",
    "        return res\n",
    "sol=Solution()\n",
    "print(sol.productExceptSelf(arr = [10, 3, 5, 6, 2]))\n",
    "print(sol.productExceptSelf(arr = [12, 0]))"
   ]
  },
  {
   "cell_type": "code",
   "execution_count": null,
   "id": "e96bda8b-a703-4779-8875-e3a468b76d69",
   "metadata": {},
   "outputs": [],
   "source": []
  }
 ],
 "metadata": {
  "kernelspec": {
   "display_name": "Python 3 (ipykernel)",
   "language": "python",
   "name": "python3"
  },
  "language_info": {
   "codemirror_mode": {
    "name": "ipython",
    "version": 3
   },
   "file_extension": ".py",
   "mimetype": "text/x-python",
   "name": "python",
   "nbconvert_exporter": "python",
   "pygments_lexer": "ipython3",
   "version": "3.12.4"
  }
 },
 "nbformat": 4,
 "nbformat_minor": 5
}

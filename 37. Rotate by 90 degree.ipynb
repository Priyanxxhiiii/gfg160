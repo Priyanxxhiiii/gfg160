{
 "cells": [
  {
   "cell_type": "markdown",
   "id": "6dfdf49f-f28e-4fd6-b349-485e227a897a",
   "metadata": {},
   "source": [
    "\n",
    "\n",
    "Given a square matrix mat[][] of size n x n. The task is to rotate it by 90 degrees in an anti-clockwise direction without using any extra space. \n",
    "\n",
    "Examples:\n",
    "\n",
    "##### Input: mat[][] = [[1, 2, 3],[4, 5, 6],[7, 8, 9]]\n",
    "##### Output: Rotated Matrix:\n",
    "[3, 6, 9]\n",
    "[2, 5, 8]\n",
    "[1, 4, 7]\n",
    "##### Input: mat[][] = [[1, 2],[3, 4]]\n",
    "##### Output: Rotated Matrix:\n",
    "[2, 4]\n",
    "[1, 3]\n",
    "### Constraints:\n",
    "1 ≤ n ≤ 10^2; \n",
    "0 <= mat[i][j] <= 10^3\n",
    "\n"
   ]
  },
  {
   "cell_type": "code",
   "execution_count": 16,
   "id": "688854fd-e24e-40dd-ba62-17356a3d7333",
   "metadata": {},
   "outputs": [
    {
     "name": "stdout",
     "output_type": "stream",
     "text": [
      "3 6 9 \n",
      "2 5 8 \n",
      "1 4 7 \n"
     ]
    }
   ],
   "source": [
    "class Solution:\n",
    "    \n",
    "    #Function to rotate matrix anticlockwise by 90 degrees.\n",
    "    def rotateby90(self, mat): \n",
    "        # code here\n",
    "        res=[]\n",
    "        n=len(mat)\n",
    "        right=len(mat)-1\n",
    "        for j in range(n-1,-1,-1):\n",
    "            l=[]\n",
    "            for i in range(n):\n",
    "                l.append(mat[i][j])\n",
    "            res.append(l)\n",
    "        for i in range(n):\n",
    "            mat[i]=res[i]\n",
    "        return mat\n",
    "\n",
    "sol=Solution()\n",
    "mat= [[1, 2, 3],[4, 5, 6],[7, 8, 9]]\n",
    "sol.rotateby90(mat)\n",
    "for i in range(3):\n",
    "    for j in range(3):\n",
    "        print(mat[i][j], end=\" \")\n",
    "    print()"
   ]
  }
 ],
 "metadata": {
  "kernelspec": {
   "display_name": "Python 3 (ipykernel)",
   "language": "python",
   "name": "python3"
  },
  "language_info": {
   "codemirror_mode": {
    "name": "ipython",
    "version": 3
   },
   "file_extension": ".py",
   "mimetype": "text/x-python",
   "name": "python",
   "nbconvert_exporter": "python",
   "pygments_lexer": "ipython3",
   "version": "3.12.4"
  }
 },
 "nbformat": 4,
 "nbformat_minor": 5
}

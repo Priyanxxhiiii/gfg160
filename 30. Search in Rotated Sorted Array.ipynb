{
 "cells": [
  {
   "cell_type": "markdown",
   "id": "e47b7759-2a74-4678-9012-0119453aeab8",
   "metadata": {},
   "source": [
    "# Search in Rotated Sorted Array\n"
   ]
  },
  {
   "cell_type": "markdown",
   "id": "d44f2447-0849-4263-8ede-c004a8321043",
   "metadata": {},
   "source": [
    "Given a sorted and rotated array arr[] of distinct elements, the task is to find the index of a target key. Return -1 if the key is not found.\n",
    "\n",
    "Examples :\n",
    "\n",
    "##### Input: arr[] = [5, 6, 7, 8, 9, 10, 1, 2, 3], key = 3\n",
    "##### Output: 8\n",
    "Explanation: 3 is found at index 8.\n",
    "##### Input: arr[] = [3, 5, 1, 2], key = 6\n",
    "##### Output: -1\n",
    "Explanation: There is no element that has value 6.\n",
    "##### Input: arr[] = [33, 42, 72, 99], key = 42\n",
    "##### Output: 1\n",
    "Explanation: 42 is found at index 1.\n",
    "### Constraints:\n",
    "##### 1 ≤ arr.size() ≤ 10^6\n",
    "##### 0 ≤ arr[i] ≤ 10^6\n",
    "##### 1 ≤ key ≤ 10^6"
   ]
  },
  {
   "cell_type": "markdown",
   "id": "6b21b76b-3195-47d6-ac3d-1c95a111565a",
   "metadata": {},
   "source": [
    "# Linear search - time taken:0.28"
   ]
  },
  {
   "cell_type": "code",
   "execution_count": 1,
   "id": "ae759640-d808-40ff-be81-4e797d2da4b9",
   "metadata": {},
   "outputs": [
    {
     "name": "stdout",
     "output_type": "stream",
     "text": [
      "8\n",
      "-1\n",
      "1\n"
     ]
    }
   ],
   "source": [
    "class Solution:\n",
    "    def search(self,arr,key):\n",
    "        # Complete this function\n",
    "        idx=-1\n",
    "        n=len(arr)\n",
    "        for i in range(n):\n",
    "            if arr[i]==key:\n",
    "                return i\n",
    "        return idx\n",
    "if __name__=='__main__':\n",
    "    \n",
    "    sol=Solution()\n",
    "    print(sol.search(arr = [5, 6, 7, 8, 9, 10, 1, 2, 3], key = 3))\n",
    "    print(sol.search(arr = [3, 5, 1, 2], key = 6))\n",
    "    print(sol.search(arr = [33, 42, 72, 99], key = 42))\n",
    "    "
   ]
  },
  {
   "cell_type": "markdown",
   "id": "7d095b48-a47a-44a7-aa39-0a2d81549e88",
   "metadata": {},
   "source": [
    "# Binary Search - time taken: 0.43"
   ]
  },
  {
   "cell_type": "code",
   "execution_count": 2,
   "id": "0f278135-4f55-4144-88f0-010785f6ef5e",
   "metadata": {},
   "outputs": [
    {
     "name": "stdout",
     "output_type": "stream",
     "text": [
      "8\n",
      "-1\n",
      "1\n"
     ]
    }
   ],
   "source": [
    "class Solution:\n",
    "    def search(self,arr,key):\n",
    "        # Complete this function\n",
    "        low=0\n",
    "        high=len(arr)-1\n",
    "        while(low<=high):\n",
    "            mid=low+(high-low)//2\n",
    "            if arr[mid]==key:\n",
    "                return mid\n",
    "            if arr[mid]>=arr[low]:\n",
    "                if key>=arr[low] and key<arr[mid]:\n",
    "                    high=mid-1\n",
    "                else:\n",
    "                    low=mid+1\n",
    "            else:\n",
    "                if key<=arr[high] and key>arr[mid]:\n",
    "                    low=mid+1\n",
    "                else:\n",
    "                    high=mid-1\n",
    "        return -1\n",
    "        \n",
    "if __name__=='__main__':\n",
    "    sol=Solution()\n",
    "    print(sol.search(arr = [5, 6, 7, 8, 9, 10, 1, 2, 3], key = 3))\n",
    "    print(sol.search(arr = [3, 5, 1, 2], key = 6))\n",
    "    print(sol.search(arr = [33, 42, 72, 99], key = 42))"
   ]
  }
 ],
 "metadata": {
  "kernelspec": {
   "display_name": "Python 3 (ipykernel)",
   "language": "python",
   "name": "python3"
  },
  "language_info": {
   "codemirror_mode": {
    "name": "ipython",
    "version": 3
   },
   "file_extension": ".py",
   "mimetype": "text/x-python",
   "name": "python",
   "nbconvert_exporter": "python",
   "pygments_lexer": "ipython3",
   "version": "3.12.4"
  }
 },
 "nbformat": 4,
 "nbformat_minor": 5
}

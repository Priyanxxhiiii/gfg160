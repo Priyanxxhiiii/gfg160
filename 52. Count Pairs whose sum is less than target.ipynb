{
 "cells": [
  {
   "cell_type": "markdown",
   "id": "10398de4-0e05-48be-a8a9-c75078b32050",
   "metadata": {},
   "source": [
    "# Count Pairs whose sum is less than target\n"
   ]
  },
  {
   "cell_type": "markdown",
   "id": "68626184-6ae2-4715-8476-f56c11f1dc69",
   "metadata": {},
   "source": [
    "Given an array arr[] and an integer target. You have to find the number of pairs in the array whose sum is strictly less than the target.\n",
    "\n",
    "Examples:\n",
    "\n",
    "##### Input: arr[] = [7, 2, 5, 3], target = 8\n",
    "##### Output: 2\n",
    "Explanation: There are 2 pairs with sum less than 8: (2, 5) and (2, 3). \n",
    "##### Input: arr[] = [5, 2, 3, 2, 4, 1], target = 5\n",
    "##### Output: 4\n",
    "Explanation: There are 4 pairs whose sum is less than 5: (2, 2), (2, 1), (3, 1) and (2, 1).\n",
    "##### Input: arr[] = [2, 1, 8, 3, 4, 7, 6, 5], target = 7\n",
    "##### Output: 6\n",
    "Explanation: There are 6 pairs whose sum is less than 7: (2, 1), (2, 3), (2, 4), (1, 3), (1, 4) and (1, 5).\n",
    "### Constraints:\n",
    "##### 1 <= arr.size() <= 10^5\n",
    "##### 0 <= arr[i] <= 10^4\n",
    "##### 1 <= target <= 10^4\n",
    "\n"
   ]
  },
  {
   "cell_type": "code",
   "execution_count": 1,
   "id": "f5c1f73b-7aed-4257-814f-fad596ac08fb",
   "metadata": {},
   "outputs": [
    {
     "name": "stdout",
     "output_type": "stream",
     "text": [
      "2\n",
      "4\n",
      "6\n"
     ]
    }
   ],
   "source": [
    "class Solution:\n",
    "    #Complete the below function\n",
    "    def countPairs(self, arr, target):\n",
    "        #Your code here\n",
    "        count=0\n",
    "        for i in range(len(arr)-1):\n",
    "            sum=0\n",
    "            for j in range(i+1,len(arr)):\n",
    "                sum=arr[i]+arr[j]\n",
    "                if sum<target:\n",
    "                    count+=1\n",
    "        return count\n",
    "sol=Solution()\n",
    "print(sol.countPairs(arr = [7, 2, 5, 3], target = 8))\n",
    "print(sol.countPairs(arr = [5, 2, 3, 2, 4, 1], target = 5))\n",
    "print(sol.countPairs(arr = [2, 1, 8, 3, 4, 7, 6, 5], target = 7))"
   ]
  },
  {
   "cell_type": "code",
   "execution_count": 2,
   "id": "d3d02ea1-7ccb-47e1-a8fe-c9474c0cfb79",
   "metadata": {},
   "outputs": [
    {
     "name": "stdout",
     "output_type": "stream",
     "text": [
      "2\n",
      "4\n",
      "6\n"
     ]
    }
   ],
   "source": [
    "class Solution:\n",
    "    #Complete the below function\n",
    "    def countPairs(self, arr, target):\n",
    "        #Your code here\n",
    "        arr.sort()\n",
    "        count=0\n",
    "        i=0\n",
    "        j=len(arr)-1\n",
    "        while i<j:\n",
    "            sum=arr[i]+arr[j]\n",
    "            if sum<target:\n",
    "                count+=(j-i)\n",
    "                i+=1\n",
    "            else:\n",
    "                j-=1\n",
    "        return count\n",
    "sol=Solution()\n",
    "print(sol.countPairs(arr = [7, 2, 5, 3], target = 8))\n",
    "print(sol.countPairs(arr = [5, 2, 3, 2, 4, 1], target = 5))\n",
    "print(sol.countPairs(arr = [2, 1, 8, 3, 4, 7, 6, 5], target = 7))"
   ]
  }
 ],
 "metadata": {
  "kernelspec": {
   "display_name": "Python 3 (ipykernel)",
   "language": "python",
   "name": "python3"
  },
  "language_info": {
   "codemirror_mode": {
    "name": "ipython",
    "version": 3
   },
   "file_extension": ".py",
   "mimetype": "text/x-python",
   "name": "python",
   "nbconvert_exporter": "python",
   "pygments_lexer": "ipython3",
   "version": "3.12.4"
  }
 },
 "nbformat": 4,
 "nbformat_minor": 5
}

{
 "cells": [
  {
   "cell_type": "markdown",
   "id": "0d3f4929-33a9-4598-91ee-126e56289d06",
   "metadata": {},
   "source": [
    "# N-Queen Problem\n"
   ]
  },
  {
   "cell_type": "markdown",
   "id": "74bf4cbe-dc7a-4ae4-9da5-a2f92ad96325",
   "metadata": {},
   "source": [
    "The n-queens puzzle is the problem of placing n queens on a (n × n) chessboard such that no two queens can attack each other. Note that two queens attack each other if they are placed on the same row, the same column, or the same diagonal.\n",
    "\n",
    "Given an integer n, find all distinct solutions to the n-queens puzzle.\n",
    "You can return your answer in any order but each solution should represent a distinct board configuration of the queen placements, where the solutions are represented as permutations of [1, 2, 3, ..., n]. In this representation, the number in the ith position denotes the row in which the queen is placed in the ith column.\n",
    "For eg. below figure represents a chessboard [3 1 4 2].\n",
    "\n",
    "Examples:\n",
    "\n",
    "##### Input: n = 1\n",
    "##### Output: [1]\n",
    "Explaination: Only one queen can be placed in the single cell available.\n",
    "##### Input: n = 4\n",
    "##### Output: [[2 4 1 3 ] [3 1 4 2 ]]\n",
    "Explaination: There are 2 possible solutions for n = 4.\n",
    "##### Input: n = 2\n",
    "##### Output: []\n",
    "Explaination: There are no possible solutions for n = 2.\n",
    "## Constraints:\n",
    "##### 1 ≤ n ≤ 10\n",
    "\n"
   ]
  },
  {
   "cell_type": "code",
   "execution_count": 2,
   "id": "3babe892-7a79-4ebe-be96-820693f7a3b9",
   "metadata": {},
   "outputs": [
    {
     "name": "stdout",
     "output_type": "stream",
     "text": [
      "[[1]]\n",
      "[[2, 4, 1, 3], [3, 1, 4, 2]]\n",
      "[]\n"
     ]
    }
   ],
   "source": [
    "class Solution:\n",
    "    def nQueenUtil(self,j,n,board,rows,diag1,diag2,res):\n",
    "        if j>n:\n",
    "            res.append(board.copy())\n",
    "            return \n",
    "        for i in range(1,n+1):\n",
    "            if not rows[i] and not diag1[i+j] and not diag2[i-j+n]:\n",
    "                rows[i]=diag1[i+j]=diag2[i-j+n]=True\n",
    "                board.append(i)\n",
    "                self.nQueenUtil(j+1,n,board,rows,diag1,diag2,res)\n",
    "                board.pop()\n",
    "                rows[i]=diag1[i+j]=diag2[i-j+n]=False\n",
    "                \n",
    "    def nQueen(self, n):\n",
    "        # code here\n",
    "        res=[]\n",
    "        board=[]\n",
    "        rows=[False]*(n+1)\n",
    "        \n",
    "        diag1=[False]*(2*n+1)\n",
    "        diag2=[False]*(2*n+1)\n",
    "        \n",
    "        self.nQueenUtil(1,n,board,rows,diag1,diag2,res)\n",
    "        \n",
    "        return res\n",
    "sol=Solution()\n",
    "print(sol.nQueen(n = 1))\n",
    "print(sol.nQueen(n = 4))\n",
    "print(sol.nQueen(n = 2))"
   ]
  },
  {
   "cell_type": "code",
   "execution_count": null,
   "id": "6365c1ab-96d9-42d4-b1e1-a92f4835fff5",
   "metadata": {},
   "outputs": [],
   "source": []
  }
 ],
 "metadata": {
  "kernelspec": {
   "display_name": "Python 3 (ipykernel)",
   "language": "python",
   "name": "python3"
  },
  "language_info": {
   "codemirror_mode": {
    "name": "ipython",
    "version": 3
   },
   "file_extension": ".py",
   "mimetype": "text/x-python",
   "name": "python",
   "nbconvert_exporter": "python",
   "pygments_lexer": "ipython3",
   "version": "3.12.4"
  }
 },
 "nbformat": 4,
 "nbformat_minor": 5
}

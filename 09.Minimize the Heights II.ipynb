{
 "cells": [
  {
   "cell_type": "markdown",
   "id": "51661a36-820c-4001-b201-6bf265b2ac0c",
   "metadata": {},
   "source": [
    "# Minimize the Heights II"
   ]
  },
  {
   "cell_type": "markdown",
   "id": "fb45ef28-e3ea-48df-9c61-2f8c3677f479",
   "metadata": {},
   "source": [
    "Given an array arr[] denoting heights of N towers and a positive integer K.\n",
    "\n",
    "For each tower, you must perform exactly one of the following operations exactly once.\n",
    "\n",
    "Increase the height of the tower by K\n",
    "Decrease the height of the tower by K\n",
    "Find out the minimum possible difference between the height of the shortest and tallest towers after you have modified each tower.\n",
    "\n",
    "You can find a slight modification of the problem here.\n",
    "Note: It is compulsory to increase or decrease the height by K for each tower. After the operation, the resultant array should not contain any negative integers.\n",
    "\n",
    "Examples :\n",
    "\n",
    "### Input: k = 2, arr[] = {1, 5, 8, 10}\n",
    "### Output: 5\n",
    "Explanation: The array can be modified as {1+k, 5-k, 8-k, 10-k} = {3, 3, 6, 8}.The difference between the largest and the smallest is 8-3 = 5.\n",
    "### Input: k = 3, arr[] = {3, 9, 12, 16, 20}\n",
    "### Output: 11\n",
    "Explanation: The array can be modified as {3+k, 9+k, 12-k, 16-k, 20-k} -> {6, 12, 9, 13, 17}.The difference between the largest and the smallest is 17-6 = 11. \n",
    "### Expected Time Complexity: O(n*logn)\n",
    "### Expected Auxiliary Space: O(n)\n",
    "\n",
    "### Constraints\n",
    "#### 1 ≤ k ≤ 10^7\n",
    "#### 1 ≤ n ≤ 10^5\n",
    "#### 1 ≤ arr[i] ≤ 10^7"
   ]
  },
  {
   "cell_type": "code",
   "execution_count": 1,
   "id": "624dc929-1812-4959-9367-086b2514991e",
   "metadata": {},
   "outputs": [
    {
     "data": {
      "text/plain": [
       "5"
      ]
     },
     "execution_count": 1,
     "metadata": {},
     "output_type": "execute_result"
    }
   ],
   "source": [
    "class Solution:\n",
    "    def getMinDiff(self, arr,k):\n",
    "        # code here\n",
    "        arr.sort()\n",
    "        n=len(arr)\n",
    "        initial_diff = arr[-1] - arr[0]\n",
    "        smallest = arr[0] + k\n",
    "        largest = arr[-1] - k\n",
    "        \n",
    "        if smallest > largest:\n",
    "            smallest, largest = largest, smallest\n",
    "        \n",
    "        for i in range(1, n):\n",
    "            min_height = min(smallest, arr[i] - k) \n",
    "            max_height = max(largest, arr[i - 1] + k)  \n",
    "            \n",
    "            if min_height < 0:\n",
    "                continue\n",
    "            \n",
    "            initial_diff = min(initial_diff, max_height - min_height)\n",
    "        \n",
    "        return initial_diff\n",
    "sol=Solution()\n",
    "sol.getMinDiff([1, 5, 8, 10],2)"
   ]
  }
 ],
 "metadata": {
  "kernelspec": {
   "display_name": "Python 3 (ipykernel)",
   "language": "python",
   "name": "python3"
  },
  "language_info": {
   "codemirror_mode": {
    "name": "ipython",
    "version": 3
   },
   "file_extension": ".py",
   "mimetype": "text/x-python",
   "name": "python",
   "nbconvert_exporter": "python",
   "pygments_lexer": "ipython3",
   "version": "3.12.4"
  }
 },
 "nbformat": 4,
 "nbformat_minor": 5
}

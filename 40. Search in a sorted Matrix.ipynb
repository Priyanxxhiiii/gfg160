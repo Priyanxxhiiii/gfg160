{
 "cells": [
  {
   "cell_type": "markdown",
   "id": "00ec27f3-412c-4f92-94a5-c79e8aa4243f",
   "metadata": {},
   "source": [
    "# Search in a sorted Matrix"
   ]
  },
  {
   "cell_type": "markdown",
   "id": "d5f0a56b-9dd7-4e45-a035-80c11e3ebd89",
   "metadata": {},
   "source": [
    "Given a strictly sorted 2D matrix mat[][] of size n x m and a number x. Find whether the number x is present in the matrix or not.\n",
    "Note: In a strictly sorted matrix, each row is sorted in strictly increasing order, and the first element of the ith row (i!=0) is greater than the last element of the (i-1)th row.\n",
    "\n",
    "Examples:\n",
    "\n",
    "##### Input: mat[][] = [[1, 5, 9], [14, 20, 21], [30, 34, 43]], x = 14\n",
    "##### Output: true\n",
    "Explanation: 14 is present in the matrix, so output is true.\n",
    "##### Input: mat[][] = [[1, 5, 9, 11], [14, 20, 21, 26], [30, 34, 43, 50]], x = 42\n",
    "##### Output: false\n",
    "Explanation: 42 is not present in the matrix.\n",
    "##### Input: mat[][] = [[87, 96, 99], [101, 103, 111]], x = 101\n",
    "##### Output: true\n",
    "Explanation: 101 is present in the matrix.\n",
    "## Constraints:\n",
    "##### 1 <= n, m <= 1000\n",
    "##### 1 <= mat[i][j] <= 10^9\n",
    "##### 1 <= x <= 10^9\n"
   ]
  },
  {
   "cell_type": "code",
   "execution_count": 3,
   "id": "fea0e3e6-1f3d-497d-b66f-5180e8710ceb",
   "metadata": {},
   "outputs": [
    {
     "name": "stdout",
     "output_type": "stream",
     "text": [
      "True\n",
      "False\n",
      "True\n"
     ]
    }
   ],
   "source": [
    "class Solution:\n",
    "    \n",
    "    #Function to search a given number in row-column sorted matrix.\n",
    "    def searchMatrix(self, mat, x): \n",
    "    \t# code here \n",
    "    \tif not mat or not mat[0]:\n",
    "    \t    return False\n",
    "    \trows=len(mat)\n",
    "    \tcols=len(mat[0])\n",
    "    \trow=0\n",
    "    \tcol=cols-1\n",
    "    \twhile row<rows and col>=0:\n",
    "    \t    if mat[row][col]==x:\n",
    "    \t        return True\n",
    "    \t    elif mat[row][col]>x:\n",
    "    \t        col-=1\n",
    "    \t    else:\n",
    "    \t        row+=1\n",
    "    \treturn False\n",
    "sol=Solution()\n",
    "print(sol.searchMatrix(mat = [[1, 5, 9], [14, 20, 21], [30, 34, 43]], x = 14))\n",
    "print(sol.searchMatrix( mat = [[1, 5, 9, 11], [14, 20, 21, 26], [30, 34, 43, 50]], x = 42))\n",
    "print(sol.searchMatrix(mat = [[87, 96, 99], [101, 103, 111]], x = 101))"
   ]
  }
 ],
 "metadata": {
  "kernelspec": {
   "display_name": "Python 3 (ipykernel)",
   "language": "python",
   "name": "python3"
  },
  "language_info": {
   "codemirror_mode": {
    "name": "ipython",
    "version": 3
   },
   "file_extension": ".py",
   "mimetype": "text/x-python",
   "name": "python",
   "nbconvert_exporter": "python",
   "pygments_lexer": "ipython3",
   "version": "3.12.4"
  }
 },
 "nbformat": 4,
 "nbformat_minor": 5
}

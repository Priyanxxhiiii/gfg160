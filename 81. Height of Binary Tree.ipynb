{
 "cells": [
  {
   "cell_type": "markdown",
   "id": "324e3b6d-d047-4d54-af79-b971ab12b0a4",
   "metadata": {},
   "source": [
    "# Height of Binary Tree"
   ]
  },
  {
   "cell_type": "markdown",
   "id": "df2c022f-00ea-42bf-b293-587c212c9ec9",
   "metadata": {},
   "source": [
    "Given a binary tree, find its height.\n",
    "\n",
    "The height of a tree is defined as the number of edges on the longest path from the root to a leaf node. A leaf node is a node that does not have any children.\n",
    "\n",
    "Examples:\n",
    "\n",
    "##### Input: root[] = [12, 8, 18, 5, 11] \n",
    "##### Output: 2\n",
    "Explanation: One of the longest path from the root (node 12) goes through node 8 to node 5, which has 2 edges.\n",
    "##### Input: root[] = [1, 2, 3, 4, N, N, 5, N, N, 6, 7]  \n",
    "##### Output: 3\n",
    "Explanation: The longest path from the root (node 1) to a leaf node 6 with 3 edge.\n",
    "## Constraints:\n",
    "##### 1 <= number of nodes <= 10^5\n",
    "##### 0 <= node->data <= 10^5"
   ]
  },
  {
   "cell_type": "code",
   "execution_count": null,
   "id": "2f8d95ae-4fbc-47f1-8cce-f59228bdcad4",
   "metadata": {},
   "outputs": [],
   "source": [
    "#User function Template for python3\n",
    "import collections\n",
    "'''\n",
    "# Node Class:\n",
    "class Node:\n",
    "    def _init_(self,val):\n",
    "        self.data = val\n",
    "        self.left = None\n",
    "        self.right = None\n",
    "'''\n",
    "class Solution:\n",
    "    #Function to find the height of a binary tree.\n",
    "    def height(self, root):\n",
    "        # code here\n",
    "        res=[]\n",
    "        q=collections.deque()\n",
    "        q.append(root)\n",
    "        while q:\n",
    "            qLen=len(q)\n",
    "            level=[]\n",
    "            for i in range(qLen):\n",
    "                node=q.popleft()\n",
    "                if node:\n",
    "                    level.append(node.data)\n",
    "                    q.append(node.left)\n",
    "                    q.append(node.right)\n",
    "            if level:\n",
    "                res.append(level)\n",
    "        return len(res)-1"
   ]
  }
 ],
 "metadata": {
  "kernelspec": {
   "display_name": "Python 3 (ipykernel)",
   "language": "python",
   "name": "python3"
  },
  "language_info": {
   "codemirror_mode": {
    "name": "ipython",
    "version": 3
   },
   "file_extension": ".py",
   "mimetype": "text/x-python",
   "name": "python",
   "nbconvert_exporter": "python",
   "pygments_lexer": "ipython3",
   "version": "3.12.4"
  }
 },
 "nbformat": 4,
 "nbformat_minor": 5
}

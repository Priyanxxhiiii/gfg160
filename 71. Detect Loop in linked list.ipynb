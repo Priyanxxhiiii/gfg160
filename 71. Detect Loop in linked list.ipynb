{
 "cells": [
  {
   "cell_type": "markdown",
   "id": "d916b9f7-ab75-41a8-9cc2-a6ecba5079da",
   "metadata": {},
   "source": [
    "# Detect Loop in linked list\n"
   ]
  },
  {
   "cell_type": "markdown",
   "id": "17acc5ec-92c7-4ef4-a5a6-abf748833209",
   "metadata": {},
   "source": [
    "You are given the head of a singly linked list. Your task is to determine if the linked list contains a loop. A loop exists in a linked list if the next pointer of the last node points to any other node in the list (including itself), rather than being null.\n",
    "\n",
    "Custom Input format:\n",
    "A head of a singly linked list and a pos (1-based index) which denotes the position of the node to which the last node points to. If pos = 0, it means the last node points to null, indicating there is no loop.\n",
    "\n",
    "Examples:\n",
    "\n",
    "##### Input: head: 1 -> 3 -> 4, pos = 2\n",
    "##### Output: true\n",
    "Explanation: There exists a loop as last node is connected back to the second node.\n",
    "\n",
    "##### Input: head: 1 -> 8 -> 3 -> 4, pos = 0\n",
    "##### Output: false\n",
    "Explanation: There exists no loop in given linked list.\n",
    "\n",
    "##### Input: head: 1 -> 2 -> 3 -> 4, pos = 1\n",
    "##### Output: true\n",
    "Explanation: There exists a loop as last node is connected back to the first node.\n",
    "\n",
    "\n",
    "##### Constraints:\n",
    "##### 1 ≤ number of nodes ≤ 10^4\n",
    "##### 1 ≤ node->data ≤ 10^3       \n",
    "##### 0 ≤ pos ≤ Number of nodes in Linked List"
   ]
  },
  {
   "cell_type": "markdown",
   "id": "4ed5cc12-42e8-4c32-9033-dfbd14766de0",
   "metadata": {},
   "source": [
    "# Using an array"
   ]
  },
  {
   "cell_type": "code",
   "execution_count": 5,
   "id": "cdf06b2a-eb16-40cf-83cd-cec19251158d",
   "metadata": {},
   "outputs": [],
   "source": [
    "#User function Template for python3\n",
    "\n",
    "# Node Class\n",
    "class Node:\n",
    "    def __init__(self, data):   # data -> value stored in node\n",
    "        self.data = data\n",
    "        self.next = None\n",
    "\t\n",
    "\n",
    "# Return boolean value True or False\n",
    "\n",
    "class Solution:\n",
    "    #Function to check if the linked list has a loop.\n",
    "    def detectLoop(self, head):\n",
    "        #code here\n",
    "        curr=head\n",
    "        arr=[]\n",
    "        while curr is not None:\n",
    "            if curr.next in arr:\n",
    "                return True\n",
    "            arr.append(curr)\n",
    "            curr=curr.next\n",
    "        return False "
   ]
  },
  {
   "cell_type": "code",
   "execution_count": 6,
   "id": "558ce04f-d35c-4101-913d-b3ad89b29bac",
   "metadata": {},
   "outputs": [],
   "source": [
    "#User function Template for python3\n",
    "\n",
    "# Node Class\n",
    "class Node:\n",
    "    def __init__(self, data):   # data -> value stored in node\n",
    "        self.data = data\n",
    "        self.next = None\n",
    "\t\n",
    "\n",
    "# Return boolean value True or False\n",
    "\n",
    "class Solution:\n",
    "    #Function to check if the linked list has a loop.\n",
    "    def detectLoop(self, head):\n",
    "        #code here\n",
    "        slow=head\n",
    "        fast=head\n",
    "        while fast is not None and fast.next is not None:\n",
    "            slow=slow.next\n",
    "            fast=fast.next.next\n",
    "            if slow==fast:\n",
    "                return True\n",
    "            \n",
    "        return False\n"
   ]
  }
 ],
 "metadata": {
  "kernelspec": {
   "display_name": "Python 3 (ipykernel)",
   "language": "python",
   "name": "python3"
  },
  "language_info": {
   "codemirror_mode": {
    "name": "ipython",
    "version": 3
   },
   "file_extension": ".py",
   "mimetype": "text/x-python",
   "name": "python",
   "nbconvert_exporter": "python",
   "pygments_lexer": "ipython3",
   "version": "3.12.4"
  }
 },
 "nbformat": 4,
 "nbformat_minor": 5
}

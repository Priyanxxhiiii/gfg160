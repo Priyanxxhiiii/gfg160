{
 "cells": [
  {
   "cell_type": "markdown",
   "id": "e1680371-2f89-44f8-9ee3-429f55a015f8",
   "metadata": {},
   "source": [
    "# Spirally traversing a matrix"
   ]
  },
  {
   "cell_type": "markdown",
   "id": "872a7bc9-a4d3-4e7a-82e9-3a05efff73a4",
   "metadata": {},
   "source": [
    "Spirally traversing a matrix\n",
    "Difficulty: MediumAccuracy: 35.2%Submissions: 293K+Points: 4\n",
    "You are given a rectangular matrix mat[][] of size n x m, and your task is to return an array while traversing the matrix in spiral form.\n",
    "\n",
    "Examples:\n",
    "\n",
    "##### Input: mat[][] = [[1, 2, 3, 4], [5, 6, 7, 8], [9, 10, 11, 12], [13, 14, 15, 16]]\n",
    "##### Output: [1, 2, 3, 4, 8, 12, 16, 15, 14, 13, 9, 5, 6, 7, 11, 10]\n",
    "Explanation: \n",
    "\n",
    "##### Input: mat[][] = [[1, 2, 3, 4, 5, 6], [7, 8, 9, 10, 11, 12], [13, 14, 15, 16, 17, 18]]\n",
    "##### Output: [1, 2, 3, 4, 5, 6, 12, 18, 17, 16, 15, 14, 13, 7, 8, 9, 10, 11]\n",
    "Explanation: Applying same technique as shown above.\n",
    "##### Input: mat[][] = [[32, 44, 27, 23], [54, 28, 50, 62]]\n",
    "##### Output: [32, 44, 27, 23, 62, 50, 28, 54]\n",
    "Explanation: Applying same technique as shown above, output will be [32, 44, 27, 23, 62, 50, 28, 54].\n",
    "### Constraints:\n",
    "##### 1 <= n, m <= 1000\n",
    "##### 0 <= mat[i][j]<= 100"
   ]
  },
  {
   "cell_type": "code",
   "execution_count": 2,
   "id": "231a0996-0194-4250-9d93-cab98c65a5c4",
   "metadata": {},
   "outputs": [
    {
     "name": "stdout",
     "output_type": "stream",
     "text": [
      "[1, 2, 3, 4, 8, 12, 16, 15, 14, 13, 9, 5, 6, 7, 11, 10]\n",
      "[1, 2, 3, 4, 5, 6, 12, 18, 17, 16, 15, 14, 13, 7, 8, 9, 10, 11]\n",
      "[32, 44, 27, 23, 62, 50, 28, 54]\n"
     ]
    }
   ],
   "source": [
    "class Solution:\n",
    "    # Function to return a list of integers denoting spiral traversal of matrix.\n",
    "    def spirallyTraverse(self, mat):\n",
    "        # code here\n",
    "        l=[]\n",
    "        top=0\n",
    "        bottom=len(mat)-1\n",
    "        left=0\n",
    "        right=len(mat[0])-1\n",
    "        while(left<=right and top<=bottom):\n",
    "            for i in range(left,right+1):\n",
    "                l.append(mat[top][i])\n",
    "            top+=1\n",
    "            for i in range(top,bottom+1):\n",
    "                l.append(mat[i][right])\n",
    "            right-=1\n",
    "            if not(left<=right and top<=bottom):\n",
    "                break\n",
    "            for i in range(right,left-1,-1):\n",
    "                l.append(mat[bottom][i])\n",
    "            bottom-=1\n",
    "            for i in range(bottom,top-1,-1):\n",
    "                l.append(mat[i][left])\n",
    "            left+=1\n",
    "        return l\n",
    "sol=Solution()\n",
    "print(sol.spirallyTraverse(mat = [[1, 2, 3, 4], [5, 6, 7, 8], [9, 10, 11, 12], [13, 14, 15, 16]]))\n",
    "print(sol.spirallyTraverse(mat = [[1, 2, 3, 4, 5, 6], [7, 8, 9, 10, 11, 12], [13, 14, 15, 16, 17, 18]]))\n",
    "print(sol.spirallyTraverse(mat = [[32, 44, 27, 23], [54, 28, 50, 62]]))"
   ]
  }
 ],
 "metadata": {
  "kernelspec": {
   "display_name": "Python 3 (ipykernel)",
   "language": "python",
   "name": "python3"
  },
  "language_info": {
   "codemirror_mode": {
    "name": "ipython",
    "version": 3
   },
   "file_extension": ".py",
   "mimetype": "text/x-python",
   "name": "python",
   "nbconvert_exporter": "python",
   "pygments_lexer": "ipython3",
   "version": "3.12.4"
  }
 },
 "nbformat": 4,
 "nbformat_minor": 5
}

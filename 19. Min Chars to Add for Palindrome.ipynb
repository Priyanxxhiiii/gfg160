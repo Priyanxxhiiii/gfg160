{
 "cells": [
  {
   "cell_type": "markdown",
   "id": "677ff163-ed74-4c51-bd37-27a99d99dc0e",
   "metadata": {},
   "source": [
    "# Min Chars to Add for Palindrome"
   ]
  },
  {
   "cell_type": "markdown",
   "id": "a2958390-f5a9-4bac-9674-a5c1d4c35329",
   "metadata": {},
   "source": [
    "Given a string s, the task is to find the minimum characters to be added at the front to make the string palindrome.\n",
    "\n",
    "Note: A palindrome string is a sequence of characters that reads the same forward and backward.\n",
    "\n",
    "Examples:\n",
    "\n",
    "#### Input: s = \"abc\"\n",
    "#### Output: 2\n",
    "Explanation: Add 'b' and 'c' at front of above string to make it palindrome : \"cbabc\"\n",
    "#### Input: s = \"aacecaaaa\"\n",
    "#### Output: 2\n",
    "Explanation: Add 2 a's at front of above string to make it palindrome : \"aaaacecaaaa\"\n",
    "#### Constraints:\n",
    "1 <= s.size() <= 10^6"
   ]
  },
  {
   "cell_type": "code",
   "execution_count": 1,
   "id": "271c29de-f8af-4468-937f-842edbf089e5",
   "metadata": {},
   "outputs": [
    {
     "name": "stdout",
     "output_type": "stream",
     "text": [
      "2\n",
      "2\n"
     ]
    }
   ],
   "source": [
    "class Solution:\n",
    "    def minChar(self, s):\n",
    "        #Write your code here\n",
    "        rev_s=s[::-1]\n",
    "        concat_str =s+'$'+rev_s\n",
    "        \n",
    "        lps=[0]*len(concat_str)\n",
    "        \n",
    "        len_=0  \n",
    "        for i in range(1,len(concat_str)):\n",
    "            while len_>0 and concat_str[i]!=concat_str[len_]:\n",
    "                len_=lps[len_-1]\n",
    "            \n",
    "            if concat_str[i]==concat_str[len_]:\n",
    "                len_+=1\n",
    "                lps[i]=len_\n",
    "            else:\n",
    "                lps[i]=0\n",
    "        return len(s)-lps[-1]\n",
    "sol=Solution()\n",
    "print(sol.minChar(\"abc\"))\n",
    "print(sol.minChar(\"aacecaaaa\"))\n"
   ]
  }
 ],
 "metadata": {
  "kernelspec": {
   "display_name": "Python 3 (ipykernel)",
   "language": "python",
   "name": "python3"
  },
  "language_info": {
   "codemirror_mode": {
    "name": "ipython",
    "version": 3
   },
   "file_extension": ".py",
   "mimetype": "text/x-python",
   "name": "python",
   "nbconvert_exporter": "python",
   "pygments_lexer": "ipython3",
   "version": "3.12.4"
  }
 },
 "nbformat": 4,
 "nbformat_minor": 5
}

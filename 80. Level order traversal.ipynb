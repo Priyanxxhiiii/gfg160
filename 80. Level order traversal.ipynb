{
 "cells": [
  {
   "cell_type": "markdown",
   "id": "f2063524-9a14-4bd9-87cf-057da462959c",
   "metadata": {},
   "source": [
    "# Level order traversal"
   ]
  },
  {
   "cell_type": "markdown",
   "id": "2d7e9a7a-0eef-4380-b2e2-a71c999b9b14",
   "metadata": {},
   "source": [
    "Given a root of a binary tree with n nodes, the task is to find its level order traversal. Level order traversal of a tree is breadth-first traversal for the tree.\n",
    "\n",
    "Examples:\n",
    "\n",
    "##### Input: root[] = [1, 2, 3]\n",
    "##### Output: [[1], [2, 3]]\n",
    "##### Input: root[] = [10, 20, 30, 40, 50]\n",
    "##### Output: [[10], [20, 30], [40, 50]]\n",
    "##### Input: root[] = [1, 3, 2, N, N, N, 4, 6, 5]\n",
    "##### Output: [[1], [3, 2], [4], [6, 5]]\n",
    "## Constraints:\n",
    "\n",
    "##### 1 ≤ number of nodes ≤ 10^5\n",
    "##### 0 ≤ node->data ≤ 10^9"
   ]
  },
  {
   "cell_type": "code",
   "execution_count": 1,
   "id": "a8322746-3fb4-4f44-875c-cbb8625057d8",
   "metadata": {},
   "outputs": [],
   "source": [
    "import collections\n",
    "\"\"\"\n",
    "class Node:\n",
    "    def __init__(self, value):\n",
    "        self.left = None\n",
    "        self.data = value\n",
    "        self.right = None\n",
    "\"\"\"\n",
    "class Solution:\n",
    "    def levelOrder(self, root):\n",
    "        # Your code here\n",
    "        res=[]\n",
    "        q=collections.deque()\n",
    "        q.append(root)\n",
    "        while q:\n",
    "            qLen=len(q)\n",
    "            level=[]\n",
    "            for i in range(qLen):\n",
    "                node=q.popleft()\n",
    "                if node:\n",
    "                    level.append(node.data)\n",
    "                    q.append(node.left)\n",
    "                    q.append(node.right)\n",
    "            if level:\n",
    "                res.append(level)\n",
    "        return res\n"
   ]
  },
  {
   "cell_type": "code",
   "execution_count": null,
   "id": "96b70b04-655a-40e5-beb6-cb070d2b0d21",
   "metadata": {},
   "outputs": [],
   "source": []
  }
 ],
 "metadata": {
  "kernelspec": {
   "display_name": "Python 3 (ipykernel)",
   "language": "python",
   "name": "python3"
  },
  "language_info": {
   "codemirror_mode": {
    "name": "ipython",
    "version": 3
   },
   "file_extension": ".py",
   "mimetype": "text/x-python",
   "name": "python",
   "nbconvert_exporter": "python",
   "pygments_lexer": "ipython3",
   "version": "3.12.4"
  }
 },
 "nbformat": 4,
 "nbformat_minor": 5
}

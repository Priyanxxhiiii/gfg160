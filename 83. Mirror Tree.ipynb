{
 "cells": [
  {
   "cell_type": "markdown",
   "id": "7e71f134-38dc-42d7-acfe-5fc9f241573b",
   "metadata": {},
   "source": [
    "# Mirror Tree\n"
   ]
  },
  {
   "cell_type": "markdown",
   "id": "106c4d98-4534-4ac2-ab68-3821058a9611",
   "metadata": {},
   "source": [
    "Given a binary tree, convert the binary tree to its Mirror tree.\n",
    "\n",
    "Mirror of a Binary Tree T is another Binary Tree M(T) with left and right children of all non-leaf nodes interchanged.     \n",
    "\n",
    "Examples:\n",
    "\n",
    "##### Input: root[] = [1, 2, 3, N, N, 4]\n",
    "##### Output: [1, 3, 2, N, 4]\n",
    "Explanation: In the inverted tree, every non-leaf node has its left and right child interchanged.\n",
    "##### Input: root[] = [1, 2, 3, 4, 5]\n",
    "##### Output: [1, 3, 2, N, N, 5, 4]\n",
    "Explanation:In the inverted tree, every non-leaf node has its left and right child interchanged.\n",
    "## Constraints:\n",
    "##### 1 ≤ number of nodes ≤ 10^5\n",
    "##### 1 ≤ node->data ≤ 10^5\n"
   ]
  },
  {
   "cell_type": "code",
   "execution_count": null,
   "id": "19e40ae2-d48b-40dc-833d-f8b1fab10f04",
   "metadata": {},
   "outputs": [],
   "source": [
    "#User function Template for python3\n",
    "\n",
    "'''\n",
    "class Node:\n",
    "    def _init_(self, val):\n",
    "        self.right = None\n",
    "        self.data = val\n",
    "        self.left = None\n",
    "'''\n",
    "# your task is to complete this function\n",
    "\n",
    "class Solution:\n",
    "    #Function to convert a binary tree into its mirror tree.\n",
    "    def mirror(self, root):\n",
    "        # Code here\n",
    "        if root is None:\n",
    "            return\n",
    "        queue=deque([root])\n",
    "        while queue:\n",
    "            curr=queue.popleft()\n",
    "            curr.left,curr.right=curr.right,curr.left\n",
    "            if curr.left:\n",
    "                queue.append(curr.left)\n",
    "            if curr.right:\n",
    "                queue.append(curr.right)\n"
   ]
  }
 ],
 "metadata": {
  "kernelspec": {
   "display_name": "Python 3 (ipykernel)",
   "language": "python",
   "name": "python3"
  },
  "language_info": {
   "codemirror_mode": {
    "name": "ipython",
    "version": 3
   },
   "file_extension": ".py",
   "mimetype": "text/x-python",
   "name": "python",
   "nbconvert_exporter": "python",
   "pygments_lexer": "ipython3",
   "version": "3.12.4"
  }
 },
 "nbformat": 4,
 "nbformat_minor": 5
}

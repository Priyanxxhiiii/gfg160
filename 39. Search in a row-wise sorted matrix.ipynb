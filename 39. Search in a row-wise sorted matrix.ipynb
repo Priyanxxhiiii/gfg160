{
 "cells": [
  {
   "cell_type": "markdown",
   "id": "8cfb5669-cca7-4145-9995-056c38120ca8",
   "metadata": {},
   "source": [
    "# Search in a row-wise sorted matrix"
   ]
  },
  {
   "cell_type": "markdown",
   "id": "08949eef-6e2c-42aa-889e-19190d95b616",
   "metadata": {},
   "source": [
    "Given a row-wise sorted 2D matrix mat[][] of size n x m and an integer x, find whether element x is present in the matrix.\n",
    "Note: In a row-wise sorted matrix, each row is sorted in itself, i.e. for any i, j within bounds, mat[i][j] <= mat[i][j+1].\n",
    "\n",
    "Examples :\n",
    "##### Input: mat[][] = [[3, 4, 9],[2, 5, 6],[9, 25, 27]], x = 9\n",
    "##### Output: true\n",
    "Explanation: 9 is present in the matrix, so the output is true.\n",
    "##### Input: mat[][] = [[19, 22, 27, 38, 55, 67]], x = 56\n",
    "##### Output: false\n",
    "Explanation: 56 is not present in the matrix, so the output is false.\n",
    "##### Input: mat[][] = [[1, 2, 9],[65, 69, 75]], x = 91\n",
    "##### Output: false\n",
    "Explanation: 91 is not present in the matrix.\n",
    "### Constraints:\n",
    "##### 1 <= n, m <= 1000\n",
    "##### 1 <= mat[i][j] <= 10^5\n",
    "##### 1 <= x <= 10^5\n",
    "\n"
   ]
  },
  {
   "cell_type": "markdown",
   "id": "c312698e-7c76-4d74-8c6f-86a12a34a776",
   "metadata": {},
   "source": [
    "# Code- time taken: 0.86"
   ]
  },
  {
   "cell_type": "code",
   "execution_count": 1,
   "id": "d7a78362-a781-4a27-ab21-7e05c2f62a9e",
   "metadata": {},
   "outputs": [
    {
     "name": "stdout",
     "output_type": "stream",
     "text": [
      "True\n",
      "False\n",
      "False\n"
     ]
    }
   ],
   "source": [
    "class Solution:\n",
    "    \n",
    "    #Function to search a given number in row-column sorted matrix.\n",
    "    def searchRowMatrix(self, mat, x): \n",
    "    \t# code here \n",
    "    \tfor i in range(len(mat)):\n",
    "    \t    for j in range(len(mat[0])):\n",
    "    \t        if mat[i][j]==x:\n",
    "    \t            return True\n",
    "    \treturn False\n",
    "\n",
    "sol=Solution()\n",
    "print(sol.searchRowMatrix(mat = [[3, 4, 9],[2, 5, 6],[9, 25, 27]], x = 9))\n",
    "print(sol.searchRowMatrix(mat = [[19, 22, 27, 38, 55, 67]], x = 56))\n",
    "print(sol.searchRowMatrix(mat = [[1, 2, 9],[65, 69, 75]], x = 91))"
   ]
  }
 ],
 "metadata": {
  "kernelspec": {
   "display_name": "Python 3 (ipykernel)",
   "language": "python",
   "name": "python3"
  },
  "language_info": {
   "codemirror_mode": {
    "name": "ipython",
    "version": 3
   },
   "file_extension": ".py",
   "mimetype": "text/x-python",
   "name": "python",
   "nbconvert_exporter": "python",
   "pygments_lexer": "ipython3",
   "version": "3.12.4"
  }
 },
 "nbformat": 4,
 "nbformat_minor": 5
}

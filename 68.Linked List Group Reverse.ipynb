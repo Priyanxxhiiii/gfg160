{
 "cells": [
  {
   "cell_type": "markdown",
   "id": "67f08bf7-76d1-4c3b-b166-92da4738b644",
   "metadata": {},
   "source": [
    "# Linked List Group Reverse\n"
   ]
  },
  {
   "cell_type": "markdown",
   "id": "10b06e57-d463-4234-a800-90fa00a4f574",
   "metadata": {},
   "source": [
    "Given the head a linked list, the task is to reverse every k node in the linked list. If the number of nodes is not a multiple of k then the left-out nodes in the end, should be considered as a group and must be reversed.\n",
    "\n",
    "Examples:\n",
    "\n",
    "##### Input: head = 1 -> 2 -> 2 -> 4 -> 5 -> 6 -> 7 -> 8, k = 4\n",
    "##### Output: 4 -> 2 -> 2 -> 1 -> 8 -> 7 -> 6 -> 5\n",
    "\n",
    "Explanation: The first 4 elements 1, 2, 2, 4 are reversed first and then the next 4 elements 5, 6, 7, 8. Hence, the resultant linked list is 4 -> 2 -> 2 -> 1 -> 8 -> 7 -> 6 -> 5.\n",
    "##### Input: head = 1 -> 2 -> 3 -> 4 -> 5, k = 3\n",
    "##### Output: 3 -> 2 -> 1 -> 5 -> 4\n",
    "\n",
    "Explanation: The first 3 elements 1, 2, 3 are reversed first and then left out elements 4, 5 are reversed. Hence, the resultant linked list is 3 -> 2 -> 1 -> 5 -> 4.\n",
    "## Constraints:\n",
    "##### 1 <= size of linked list <= 10^5\n",
    "##### 1 <= data of nodes <= 10^6\n",
    "##### 1 <= k <= size of linked list "
   ]
  },
  {
   "cell_type": "code",
   "execution_count": 11,
   "id": "87eb1502-7928-41b7-aab6-6767272b0326",
   "metadata": {},
   "outputs": [
    {
     "name": "stdout",
     "output_type": "stream",
     "text": [
      "4->2->2->1->8->7->6->5->NULL\n",
      "3->2->1->5->4->NULL\n"
     ]
    }
   ],
   "source": [
    "class Node:\n",
    "    def __init__(self, data):\n",
    "        self.data = data\n",
    "        self.next = None\n",
    "\n",
    "class Solution:\n",
    "    def reverseKGroup(self, head, k):\n",
    "        # Code here\n",
    "        if head is None:\n",
    "            return None\n",
    "        curr=head\n",
    "        newHead=None\n",
    "        tail=None\n",
    "        \n",
    "        while curr is not None:\n",
    "            groupHead=curr\n",
    "            prev=None\n",
    "            nextNode=None\n",
    "            count=0\n",
    "            \n",
    "            while curr is not None and count<k:\n",
    "                nextNode=curr.next\n",
    "                curr.next=prev\n",
    "                prev=curr\n",
    "                curr=nextNode\n",
    "                count+=1\n",
    "                \n",
    "            if newHead is None:\n",
    "                newHead=prev\n",
    "            \n",
    "            if tail is not None:\n",
    "                tail.next=prev\n",
    "            \n",
    "            tail=groupHead\n",
    "            \n",
    "        return newHead\n",
    "\n",
    "    def createLinkedList(self,values):\n",
    "        if not values:\n",
    "            return None\n",
    "        head = Node(values[0])\n",
    "        current = head\n",
    "        for value in values[1:]:\n",
    "            current.next = Node(value)\n",
    "            current = current.next\n",
    "        return head\n",
    "        \n",
    "    def printList(self,head):\n",
    "        curr = head\n",
    "        while curr is not None:\n",
    "            print(curr.data, end=\"->\")\n",
    "            curr = curr.next\n",
    "        print(\"NULL\")\n",
    "\n",
    "sol=Solution()\n",
    "sol.printList(sol.reverseKGroup(sol.createLinkedList( [1, 2, 2, 4, 5, 6, 7, 8]), k = 4))\n",
    "sol.printList(sol.reverseKGroup(sol.createLinkedList( [1, 2, 3, 4, 5]), k = 3))"
   ]
  }
 ],
 "metadata": {
  "kernelspec": {
   "display_name": "Python 3 (ipykernel)",
   "language": "python",
   "name": "python3"
  },
  "language_info": {
   "codemirror_mode": {
    "name": "ipython",
    "version": 3
   },
   "file_extension": ".py",
   "mimetype": "text/x-python",
   "name": "python",
   "nbconvert_exporter": "python",
   "pygments_lexer": "ipython3",
   "version": "3.12.4"
  }
 },
 "nbformat": 4,
 "nbformat_minor": 5
}

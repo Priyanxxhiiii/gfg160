{
 "cells": [
  {
   "cell_type": "markdown",
   "id": "32e1156e-eb21-4c69-9321-9491ddfad9b7",
   "metadata": {},
   "source": [
    "# Next Permutation"
   ]
  },
  {
   "cell_type": "markdown",
   "id": "63b66f58-1ad6-4552-bff5-e79ce52077c8",
   "metadata": {},
   "source": [
    "Given an array of integers arr[] representing a permutation, implement the next permutation that rearranges the numbers into the lexicographically next greater permutation. If no such permutation exists, rearrange the numbers into the lowest possible order (i.e., sorted in ascending order). \n",
    "\n",
    "Note - A permutation of an array of integers refers to a specific arrangement of its elements in a sequence or linear order.\n",
    "\n",
    "Examples:\n",
    "\n",
    "#### Input: arr = [2, 4, 1, 7, 5, 0]\n",
    "#### Output: [2, 4, 5, 0, 1, 7]\n",
    "Explanation: The next permutation of the given array is {2, 4, 5, 0, 1, 7}.\n",
    "#### Input: arr = [3, 2, 1]\n",
    "#### Output: [1, 2, 3]\n",
    "Explanation: As arr[] is the last permutation, the next permutation is the lowest one.\n",
    "#### Input: arr = [3, 4, 2, 5, 1]\n",
    "#### Output: [3, 4, 5, 1, 2]\n",
    "Explanation: The next permutation of the given array is {3, 4, 5, 1, 2}.\n",
    "#### Constraints:\n",
    "#### 1 ≤ arr.size() ≤ 10^5\n",
    "#### 1 ≤ arr[i] ≤ 10^5"
   ]
  },
  {
   "cell_type": "code",
   "execution_count": 2,
   "id": "0625662c-14f1-4c1f-8fd2-deb3fbab551b",
   "metadata": {},
   "outputs": [
    {
     "name": "stdout",
     "output_type": "stream",
     "text": [
      "[2, 4, 5, 0, 1, 7]\n"
     ]
    }
   ],
   "source": [
    "#User function Template for python3\n",
    "class Solution:\n",
    "    def nextPermutation(self, arr):\n",
    "        # code here\n",
    "        n=len(arr)\n",
    "        i=n-2\n",
    "        \n",
    "        while i>=0 and arr[i]>=arr[i+1]:\n",
    "            i-=1\n",
    "        \n",
    "        if i>=0:\n",
    "            j=n-1\n",
    "            while(arr[j]<=arr[i]):\n",
    "                j-=1\n",
    "            arr[i],arr[j]=arr[j],arr[i]\n",
    "            \n",
    "        self.reverse(arr,i+1,n-1)\n",
    "        return arr\n",
    "        \n",
    "    def reverse(self,arr,start,end):\n",
    "        while start<end:\n",
    "            arr[start],arr[end]=arr[end],arr[start]\n",
    "            start+=1\n",
    "            end-=1\n",
    "sol=Solution()\n",
    "print(sol.nextPermutation([2, 4, 1, 7, 5, 0]))"
   ]
  },
  {
   "cell_type": "code",
   "execution_count": 3,
   "id": "4e6b0810-a01f-4856-b209-29baa62f4c87",
   "metadata": {},
   "outputs": [
    {
     "name": "stdout",
     "output_type": "stream",
     "text": [
      "[1, 2, 3]\n"
     ]
    }
   ],
   "source": [
    "print(sol.nextPermutation([3,2,1]))"
   ]
  },
  {
   "cell_type": "code",
   "execution_count": 4,
   "id": "0e6482d5-88d2-425f-a2dd-c6f7d66fff75",
   "metadata": {},
   "outputs": [
    {
     "name": "stdout",
     "output_type": "stream",
     "text": [
      "[3, 4, 5, 1, 2]\n"
     ]
    }
   ],
   "source": [
    "print(sol.nextPermutation([3,4,2,5,1]))"
   ]
  }
 ],
 "metadata": {
  "kernelspec": {
   "display_name": "Python 3 (ipykernel)",
   "language": "python",
   "name": "python3"
  },
  "language_info": {
   "codemirror_mode": {
    "name": "ipython",
    "version": 3
   },
   "file_extension": ".py",
   "mimetype": "text/x-python",
   "name": "python",
   "nbconvert_exporter": "python",
   "pygments_lexer": "ipython3",
   "version": "3.12.4"
  }
 },
 "nbformat": 4,
 "nbformat_minor": 5
}
